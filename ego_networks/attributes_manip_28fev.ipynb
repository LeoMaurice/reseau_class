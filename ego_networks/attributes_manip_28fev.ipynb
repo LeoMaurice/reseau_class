{
 "cells": [
  {
   "cell_type": "markdown",
   "metadata": {},
   "source": [
    "# Tutorial 28 February 2024\n",
    "\n",
    "## Personal networks, ego networks"
   ]
  },
  {
   "cell_type": "markdown",
   "metadata": {},
   "source": [
    "#### We use the data collected by R. Vacca : the personal networks of 102 Sri Lankan immigrants living in Milan, Italy. The original data are available at: https://github.com/raffaelevacca/egocentric-r-book and a riche tutorial is available at: https://raffaelevacca.github.io/egocentric-r-book/"
   ]
  },
  {
   "cell_type": "code",
   "execution_count": 2,
   "metadata": {},
   "outputs": [],
   "source": [
    "########### Preparation ##############\n",
    "# import packages\n",
    "import networkx as nx\n",
    "import matplotlib.pyplot as plt\n",
    "import pandas as pd\n",
    "import numpy as np"
   ]
  },
  {
   "cell_type": "code",
   "execution_count": 3,
   "metadata": {},
   "outputs": [
    {
     "name": "stdout",
     "output_type": "stream",
     "text": [
      "     ego_ID ego.sex  ego.age  ego.arr    ego.edu  ego.inc  empl ego.empl.bin  \\\n",
      "0        28    Male     61.0   2008.0  Secondary    350.0     3          Yes   \n",
      "1        29    Male     38.0   2000.0    Primary    900.0     4          Yes   \n",
      "2        33    Male     30.0   2010.0    Primary    200.0     3          Yes   \n",
      "3        35    Male     25.0   2009.0  Secondary   1000.0     3          Yes   \n",
      "4        39    Male     29.0   2007.0    Primary      0.0     1           No   \n",
      "..      ...     ...      ...      ...        ...      ...   ...          ...   \n",
      "97      160    Male     61.0   1993.0    Primary      0.0     2           No   \n",
      "98      161    Male     34.0   2008.0    Primary    225.0     1           No   \n",
      "99      162    Male     44.0   1992.0  Secondary   1100.0     4          Yes   \n",
      "100     163    Male     50.0   2008.0    Primary    900.0     4          Yes   \n",
      "101     164    Male     28.0   2008.0  Secondary   1500.0     4          Yes   \n",
      "\n",
      "    ego.age.cat  \n",
      "0           60+  \n",
      "1         36-40  \n",
      "2         26-30  \n",
      "3         18-25  \n",
      "4         26-30  \n",
      "..          ...  \n",
      "97          60+  \n",
      "98        31-35  \n",
      "99        41-50  \n",
      "100       41-50  \n",
      "101       26-30  \n",
      "\n",
      "[102 rows x 9 columns]\n"
     ]
    }
   ],
   "source": [
    "# use pandas to import list of egos with attributes\n",
    "Egos = pd.read_csv('Ego.attr.csv', sep=';')\n",
    "print(Egos)\n",
    "# we focus on Ego n. 28 (the first in the list)"
   ]
  },
  {
   "cell_type": "code",
   "execution_count": 4,
   "metadata": {},
   "outputs": [
    {
     "data": {
      "text/html": [
       "<div>\n",
       "<style scoped>\n",
       "    .dataframe tbody tr th:only-of-type {\n",
       "        vertical-align: middle;\n",
       "    }\n",
       "\n",
       "    .dataframe tbody tr th {\n",
       "        vertical-align: top;\n",
       "    }\n",
       "\n",
       "    .dataframe thead th {\n",
       "        text-align: right;\n",
       "    }\n",
       "</style>\n",
       "<table border=\"1\" class=\"dataframe\">\n",
       "  <thead>\n",
       "    <tr style=\"text-align: right;\">\n",
       "      <th></th>\n",
       "      <th>alter_ID</th>\n",
       "      <th>ego_ID</th>\n",
       "      <th>alter_num</th>\n",
       "      <th>alter.sex</th>\n",
       "      <th>alter.age.cat</th>\n",
       "      <th>alter.rel</th>\n",
       "      <th>alter.nat</th>\n",
       "      <th>alter.res</th>\n",
       "      <th>alter.clo</th>\n",
       "      <th>alter.loan</th>\n",
       "      <th>alter.fam</th>\n",
       "      <th>alter.age</th>\n",
       "    </tr>\n",
       "  </thead>\n",
       "  <tbody>\n",
       "    <tr>\n",
       "      <th>0</th>\n",
       "      <td>2801</td>\n",
       "      <td>28</td>\n",
       "      <td>1</td>\n",
       "      <td>Female</td>\n",
       "      <td>51-60</td>\n",
       "      <td>Close family</td>\n",
       "      <td>Sri Lanka</td>\n",
       "      <td>Sri Lanka</td>\n",
       "      <td>NaN</td>\n",
       "      <td>NaN</td>\n",
       "      <td>Yes</td>\n",
       "      <td>52</td>\n",
       "    </tr>\n",
       "    <tr>\n",
       "      <th>1</th>\n",
       "      <td>2802</td>\n",
       "      <td>28</td>\n",
       "      <td>2</td>\n",
       "      <td>Male</td>\n",
       "      <td>51-60</td>\n",
       "      <td>Other family</td>\n",
       "      <td>Sri Lanka</td>\n",
       "      <td>Sri Lanka</td>\n",
       "      <td>3.0</td>\n",
       "      <td>No</td>\n",
       "      <td>Yes</td>\n",
       "      <td>54</td>\n",
       "    </tr>\n",
       "    <tr>\n",
       "      <th>2</th>\n",
       "      <td>2803</td>\n",
       "      <td>28</td>\n",
       "      <td>3</td>\n",
       "      <td>Male</td>\n",
       "      <td>51-60</td>\n",
       "      <td>Close family</td>\n",
       "      <td>Sri Lanka</td>\n",
       "      <td>Sri Lanka</td>\n",
       "      <td>NaN</td>\n",
       "      <td>NaN</td>\n",
       "      <td>Yes</td>\n",
       "      <td>56</td>\n",
       "    </tr>\n",
       "    <tr>\n",
       "      <th>3</th>\n",
       "      <td>2804</td>\n",
       "      <td>28</td>\n",
       "      <td>4</td>\n",
       "      <td>Male</td>\n",
       "      <td>60+</td>\n",
       "      <td>Close family</td>\n",
       "      <td>Sri Lanka</td>\n",
       "      <td>Sri Lanka</td>\n",
       "      <td>NaN</td>\n",
       "      <td>NaN</td>\n",
       "      <td>Yes</td>\n",
       "      <td>63</td>\n",
       "    </tr>\n",
       "    <tr>\n",
       "      <th>4</th>\n",
       "      <td>2805</td>\n",
       "      <td>28</td>\n",
       "      <td>5</td>\n",
       "      <td>Female</td>\n",
       "      <td>41-50</td>\n",
       "      <td>Close family</td>\n",
       "      <td>Sri Lanka</td>\n",
       "      <td>Sri Lanka</td>\n",
       "      <td>NaN</td>\n",
       "      <td>NaN</td>\n",
       "      <td>Yes</td>\n",
       "      <td>47</td>\n",
       "    </tr>\n",
       "    <tr>\n",
       "      <th>5</th>\n",
       "      <td>2806</td>\n",
       "      <td>28</td>\n",
       "      <td>6</td>\n",
       "      <td>Female</td>\n",
       "      <td>60+</td>\n",
       "      <td>Close family</td>\n",
       "      <td>Sri Lanka</td>\n",
       "      <td>Sri Lanka</td>\n",
       "      <td>NaN</td>\n",
       "      <td>NaN</td>\n",
       "      <td>Yes</td>\n",
       "      <td>81</td>\n",
       "    </tr>\n",
       "    <tr>\n",
       "      <th>6</th>\n",
       "      <td>2807</td>\n",
       "      <td>28</td>\n",
       "      <td>7</td>\n",
       "      <td>Male</td>\n",
       "      <td>41-50</td>\n",
       "      <td>Other family</td>\n",
       "      <td>Sri Lanka</td>\n",
       "      <td>Sri Lanka</td>\n",
       "      <td>5.0</td>\n",
       "      <td>No</td>\n",
       "      <td>Yes</td>\n",
       "      <td>42</td>\n",
       "    </tr>\n",
       "    <tr>\n",
       "      <th>7</th>\n",
       "      <td>2808</td>\n",
       "      <td>28</td>\n",
       "      <td>8</td>\n",
       "      <td>Female</td>\n",
       "      <td>36-40</td>\n",
       "      <td>Other family</td>\n",
       "      <td>Sri Lanka</td>\n",
       "      <td>Sri Lanka</td>\n",
       "      <td>4.0</td>\n",
       "      <td>Yes</td>\n",
       "      <td>Yes</td>\n",
       "      <td>38</td>\n",
       "    </tr>\n",
       "    <tr>\n",
       "      <th>8</th>\n",
       "      <td>2809</td>\n",
       "      <td>28</td>\n",
       "      <td>9</td>\n",
       "      <td>Female</td>\n",
       "      <td>51-60</td>\n",
       "      <td>Other family</td>\n",
       "      <td>Sri Lanka</td>\n",
       "      <td>Sri Lanka</td>\n",
       "      <td>5.0</td>\n",
       "      <td>Yes</td>\n",
       "      <td>Yes</td>\n",
       "      <td>58</td>\n",
       "    </tr>\n",
       "    <tr>\n",
       "      <th>9</th>\n",
       "      <td>2810</td>\n",
       "      <td>28</td>\n",
       "      <td>10</td>\n",
       "      <td>Male</td>\n",
       "      <td>60+</td>\n",
       "      <td>Other family</td>\n",
       "      <td>Sri Lanka</td>\n",
       "      <td>Sri Lanka</td>\n",
       "      <td>5.0</td>\n",
       "      <td>No</td>\n",
       "      <td>Yes</td>\n",
       "      <td>68</td>\n",
       "    </tr>\n",
       "    <tr>\n",
       "      <th>10</th>\n",
       "      <td>2811</td>\n",
       "      <td>28</td>\n",
       "      <td>11</td>\n",
       "      <td>Male</td>\n",
       "      <td>51-60</td>\n",
       "      <td>Friends</td>\n",
       "      <td>Sri Lanka</td>\n",
       "      <td>Sri Lanka</td>\n",
       "      <td>5.0</td>\n",
       "      <td>Yes</td>\n",
       "      <td>No</td>\n",
       "      <td>58</td>\n",
       "    </tr>\n",
       "    <tr>\n",
       "      <th>11</th>\n",
       "      <td>2812</td>\n",
       "      <td>28</td>\n",
       "      <td>12</td>\n",
       "      <td>Male</td>\n",
       "      <td>41-50</td>\n",
       "      <td>Friends</td>\n",
       "      <td>Sri Lanka</td>\n",
       "      <td>Sri Lanka</td>\n",
       "      <td>4.0</td>\n",
       "      <td>No</td>\n",
       "      <td>No</td>\n",
       "      <td>41</td>\n",
       "    </tr>\n",
       "    <tr>\n",
       "      <th>12</th>\n",
       "      <td>2813</td>\n",
       "      <td>28</td>\n",
       "      <td>13</td>\n",
       "      <td>Male</td>\n",
       "      <td>51-60</td>\n",
       "      <td>Friends</td>\n",
       "      <td>Sri Lanka</td>\n",
       "      <td>Italy</td>\n",
       "      <td>3.0</td>\n",
       "      <td>Yes</td>\n",
       "      <td>No</td>\n",
       "      <td>52</td>\n",
       "    </tr>\n",
       "    <tr>\n",
       "      <th>13</th>\n",
       "      <td>2814</td>\n",
       "      <td>28</td>\n",
       "      <td>14</td>\n",
       "      <td>Male</td>\n",
       "      <td>41-50</td>\n",
       "      <td>Friends</td>\n",
       "      <td>Sri Lanka</td>\n",
       "      <td>Italy</td>\n",
       "      <td>5.0</td>\n",
       "      <td>Yes</td>\n",
       "      <td>No</td>\n",
       "      <td>43</td>\n",
       "    </tr>\n",
       "    <tr>\n",
       "      <th>14</th>\n",
       "      <td>2815</td>\n",
       "      <td>28</td>\n",
       "      <td>15</td>\n",
       "      <td>Male</td>\n",
       "      <td>18-25</td>\n",
       "      <td>Friends</td>\n",
       "      <td>Sri Lanka</td>\n",
       "      <td>Italy</td>\n",
       "      <td>3.0</td>\n",
       "      <td>Yes</td>\n",
       "      <td>No</td>\n",
       "      <td>22</td>\n",
       "    </tr>\n",
       "    <tr>\n",
       "      <th>15</th>\n",
       "      <td>2816</td>\n",
       "      <td>28</td>\n",
       "      <td>16</td>\n",
       "      <td>Male</td>\n",
       "      <td>31-35</td>\n",
       "      <td>Friends</td>\n",
       "      <td>Sri Lanka</td>\n",
       "      <td>Italy</td>\n",
       "      <td>3.0</td>\n",
       "      <td>Yes</td>\n",
       "      <td>No</td>\n",
       "      <td>32</td>\n",
       "    </tr>\n",
       "    <tr>\n",
       "      <th>16</th>\n",
       "      <td>2817</td>\n",
       "      <td>28</td>\n",
       "      <td>17</td>\n",
       "      <td>Male</td>\n",
       "      <td>26-30</td>\n",
       "      <td>Acquaintances</td>\n",
       "      <td>Sri Lanka</td>\n",
       "      <td>Italy</td>\n",
       "      <td>1.0</td>\n",
       "      <td>Yes</td>\n",
       "      <td>No</td>\n",
       "      <td>29</td>\n",
       "    </tr>\n",
       "    <tr>\n",
       "      <th>17</th>\n",
       "      <td>2818</td>\n",
       "      <td>28</td>\n",
       "      <td>18</td>\n",
       "      <td>Male</td>\n",
       "      <td>60+</td>\n",
       "      <td>Friends</td>\n",
       "      <td>Sri Lanka</td>\n",
       "      <td>Italy</td>\n",
       "      <td>5.0</td>\n",
       "      <td>Yes</td>\n",
       "      <td>No</td>\n",
       "      <td>69</td>\n",
       "    </tr>\n",
       "    <tr>\n",
       "      <th>18</th>\n",
       "      <td>2819</td>\n",
       "      <td>28</td>\n",
       "      <td>19</td>\n",
       "      <td>Male</td>\n",
       "      <td>41-50</td>\n",
       "      <td>Acquaintances</td>\n",
       "      <td>Sri Lanka</td>\n",
       "      <td>Italy</td>\n",
       "      <td>4.0</td>\n",
       "      <td>No</td>\n",
       "      <td>No</td>\n",
       "      <td>44</td>\n",
       "    </tr>\n",
       "    <tr>\n",
       "      <th>19</th>\n",
       "      <td>2820</td>\n",
       "      <td>28</td>\n",
       "      <td>20</td>\n",
       "      <td>Male</td>\n",
       "      <td>60+</td>\n",
       "      <td>Friends</td>\n",
       "      <td>Sri Lanka</td>\n",
       "      <td>Other</td>\n",
       "      <td>5.0</td>\n",
       "      <td>Yes</td>\n",
       "      <td>No</td>\n",
       "      <td>77</td>\n",
       "    </tr>\n",
       "    <tr>\n",
       "      <th>20</th>\n",
       "      <td>2821</td>\n",
       "      <td>28</td>\n",
       "      <td>21</td>\n",
       "      <td>Male</td>\n",
       "      <td>60+</td>\n",
       "      <td>Friends</td>\n",
       "      <td>Sri Lanka</td>\n",
       "      <td>Italy</td>\n",
       "      <td>5.0</td>\n",
       "      <td>Yes</td>\n",
       "      <td>No</td>\n",
       "      <td>83</td>\n",
       "    </tr>\n",
       "    <tr>\n",
       "      <th>21</th>\n",
       "      <td>2822</td>\n",
       "      <td>28</td>\n",
       "      <td>22</td>\n",
       "      <td>Male</td>\n",
       "      <td>41-50</td>\n",
       "      <td>Friends</td>\n",
       "      <td>Sri Lanka</td>\n",
       "      <td>Italy</td>\n",
       "      <td>5.0</td>\n",
       "      <td>Yes</td>\n",
       "      <td>No</td>\n",
       "      <td>42</td>\n",
       "    </tr>\n",
       "    <tr>\n",
       "      <th>22</th>\n",
       "      <td>2823</td>\n",
       "      <td>28</td>\n",
       "      <td>23</td>\n",
       "      <td>Male</td>\n",
       "      <td>41-50</td>\n",
       "      <td>Friends</td>\n",
       "      <td>Sri Lanka</td>\n",
       "      <td>Italy</td>\n",
       "      <td>5.0</td>\n",
       "      <td>Yes</td>\n",
       "      <td>No</td>\n",
       "      <td>49</td>\n",
       "    </tr>\n",
       "    <tr>\n",
       "      <th>23</th>\n",
       "      <td>2824</td>\n",
       "      <td>28</td>\n",
       "      <td>24</td>\n",
       "      <td>Male</td>\n",
       "      <td>18-25</td>\n",
       "      <td>Friends</td>\n",
       "      <td>Sri Lanka</td>\n",
       "      <td>Italy</td>\n",
       "      <td>5.0</td>\n",
       "      <td>Yes</td>\n",
       "      <td>No</td>\n",
       "      <td>18</td>\n",
       "    </tr>\n",
       "    <tr>\n",
       "      <th>24</th>\n",
       "      <td>2825</td>\n",
       "      <td>28</td>\n",
       "      <td>25</td>\n",
       "      <td>Male</td>\n",
       "      <td>41-50</td>\n",
       "      <td>Acquaintances</td>\n",
       "      <td>Sri Lanka</td>\n",
       "      <td>Italy</td>\n",
       "      <td>2.0</td>\n",
       "      <td>No</td>\n",
       "      <td>No</td>\n",
       "      <td>48</td>\n",
       "    </tr>\n",
       "    <tr>\n",
       "      <th>25</th>\n",
       "      <td>2826</td>\n",
       "      <td>28</td>\n",
       "      <td>26</td>\n",
       "      <td>Male</td>\n",
       "      <td>36-40</td>\n",
       "      <td>Acquaintances</td>\n",
       "      <td>Sri Lanka</td>\n",
       "      <td>Italy</td>\n",
       "      <td>3.0</td>\n",
       "      <td>No</td>\n",
       "      <td>No</td>\n",
       "      <td>36</td>\n",
       "    </tr>\n",
       "    <tr>\n",
       "      <th>26</th>\n",
       "      <td>2827</td>\n",
       "      <td>28</td>\n",
       "      <td>27</td>\n",
       "      <td>Male</td>\n",
       "      <td>26-30</td>\n",
       "      <td>Friends</td>\n",
       "      <td>Sri Lanka</td>\n",
       "      <td>Sri Lanka</td>\n",
       "      <td>4.0</td>\n",
       "      <td>No</td>\n",
       "      <td>No</td>\n",
       "      <td>28</td>\n",
       "    </tr>\n",
       "    <tr>\n",
       "      <th>27</th>\n",
       "      <td>2828</td>\n",
       "      <td>28</td>\n",
       "      <td>28</td>\n",
       "      <td>Female</td>\n",
       "      <td>31-35</td>\n",
       "      <td>Friends</td>\n",
       "      <td>Sri Lanka</td>\n",
       "      <td>Sri Lanka</td>\n",
       "      <td>5.0</td>\n",
       "      <td>Yes</td>\n",
       "      <td>No</td>\n",
       "      <td>33</td>\n",
       "    </tr>\n",
       "    <tr>\n",
       "      <th>28</th>\n",
       "      <td>2829</td>\n",
       "      <td>28</td>\n",
       "      <td>29</td>\n",
       "      <td>Male</td>\n",
       "      <td>60+</td>\n",
       "      <td>Friends</td>\n",
       "      <td>Sri Lanka</td>\n",
       "      <td>Sri Lanka</td>\n",
       "      <td>5.0</td>\n",
       "      <td>Yes</td>\n",
       "      <td>No</td>\n",
       "      <td>99</td>\n",
       "    </tr>\n",
       "    <tr>\n",
       "      <th>29</th>\n",
       "      <td>2830</td>\n",
       "      <td>28</td>\n",
       "      <td>30</td>\n",
       "      <td>Male</td>\n",
       "      <td>31-35</td>\n",
       "      <td>Friends</td>\n",
       "      <td>Sri Lanka</td>\n",
       "      <td>Italy</td>\n",
       "      <td>5.0</td>\n",
       "      <td>Yes</td>\n",
       "      <td>No</td>\n",
       "      <td>34</td>\n",
       "    </tr>\n",
       "    <tr>\n",
       "      <th>30</th>\n",
       "      <td>2831</td>\n",
       "      <td>28</td>\n",
       "      <td>31</td>\n",
       "      <td>Male</td>\n",
       "      <td>41-50</td>\n",
       "      <td>Friends</td>\n",
       "      <td>Sri Lanka</td>\n",
       "      <td>Italy</td>\n",
       "      <td>5.0</td>\n",
       "      <td>Yes</td>\n",
       "      <td>No</td>\n",
       "      <td>42</td>\n",
       "    </tr>\n",
       "    <tr>\n",
       "      <th>31</th>\n",
       "      <td>2832</td>\n",
       "      <td>28</td>\n",
       "      <td>32</td>\n",
       "      <td>Female</td>\n",
       "      <td>51-60</td>\n",
       "      <td>Acquaintances</td>\n",
       "      <td>Other</td>\n",
       "      <td>Italy</td>\n",
       "      <td>3.0</td>\n",
       "      <td>No</td>\n",
       "      <td>No</td>\n",
       "      <td>59</td>\n",
       "    </tr>\n",
       "    <tr>\n",
       "      <th>32</th>\n",
       "      <td>2833</td>\n",
       "      <td>28</td>\n",
       "      <td>33</td>\n",
       "      <td>Male</td>\n",
       "      <td>51-60</td>\n",
       "      <td>Friends</td>\n",
       "      <td>Sri Lanka</td>\n",
       "      <td>Italy</td>\n",
       "      <td>5.0</td>\n",
       "      <td>Yes</td>\n",
       "      <td>No</td>\n",
       "      <td>58</td>\n",
       "    </tr>\n",
       "    <tr>\n",
       "      <th>33</th>\n",
       "      <td>2834</td>\n",
       "      <td>28</td>\n",
       "      <td>34</td>\n",
       "      <td>Male</td>\n",
       "      <td>41-50</td>\n",
       "      <td>Acquaintances</td>\n",
       "      <td>Sri Lanka</td>\n",
       "      <td>Italy</td>\n",
       "      <td>3.0</td>\n",
       "      <td>No</td>\n",
       "      <td>No</td>\n",
       "      <td>43</td>\n",
       "    </tr>\n",
       "    <tr>\n",
       "      <th>34</th>\n",
       "      <td>2835</td>\n",
       "      <td>28</td>\n",
       "      <td>35</td>\n",
       "      <td>Male</td>\n",
       "      <td>31-35</td>\n",
       "      <td>Friends</td>\n",
       "      <td>Sri Lanka</td>\n",
       "      <td>Italy</td>\n",
       "      <td>4.0</td>\n",
       "      <td>No</td>\n",
       "      <td>No</td>\n",
       "      <td>32</td>\n",
       "    </tr>\n",
       "    <tr>\n",
       "      <th>35</th>\n",
       "      <td>2836</td>\n",
       "      <td>28</td>\n",
       "      <td>36</td>\n",
       "      <td>Male</td>\n",
       "      <td>51-60</td>\n",
       "      <td>Friends</td>\n",
       "      <td>Sri Lanka</td>\n",
       "      <td>Italy</td>\n",
       "      <td>5.0</td>\n",
       "      <td>No</td>\n",
       "      <td>No</td>\n",
       "      <td>55</td>\n",
       "    </tr>\n",
       "    <tr>\n",
       "      <th>36</th>\n",
       "      <td>2837</td>\n",
       "      <td>28</td>\n",
       "      <td>37</td>\n",
       "      <td>Female</td>\n",
       "      <td>31-35</td>\n",
       "      <td>Friends</td>\n",
       "      <td>Other</td>\n",
       "      <td>Italy</td>\n",
       "      <td>5.0</td>\n",
       "      <td>Yes</td>\n",
       "      <td>No</td>\n",
       "      <td>33</td>\n",
       "    </tr>\n",
       "    <tr>\n",
       "      <th>37</th>\n",
       "      <td>2838</td>\n",
       "      <td>28</td>\n",
       "      <td>38</td>\n",
       "      <td>Male</td>\n",
       "      <td>41-50</td>\n",
       "      <td>Friends</td>\n",
       "      <td>Sri Lanka</td>\n",
       "      <td>Italy</td>\n",
       "      <td>5.0</td>\n",
       "      <td>No</td>\n",
       "      <td>No</td>\n",
       "      <td>44</td>\n",
       "    </tr>\n",
       "    <tr>\n",
       "      <th>38</th>\n",
       "      <td>2839</td>\n",
       "      <td>28</td>\n",
       "      <td>39</td>\n",
       "      <td>Male</td>\n",
       "      <td>41-50</td>\n",
       "      <td>Friends</td>\n",
       "      <td>Sri Lanka</td>\n",
       "      <td>Italy</td>\n",
       "      <td>5.0</td>\n",
       "      <td>No</td>\n",
       "      <td>No</td>\n",
       "      <td>48</td>\n",
       "    </tr>\n",
       "    <tr>\n",
       "      <th>39</th>\n",
       "      <td>2840</td>\n",
       "      <td>28</td>\n",
       "      <td>40</td>\n",
       "      <td>Male</td>\n",
       "      <td>60+</td>\n",
       "      <td>Friends</td>\n",
       "      <td>Sri Lanka</td>\n",
       "      <td>Sri Lanka</td>\n",
       "      <td>3.0</td>\n",
       "      <td>No</td>\n",
       "      <td>No</td>\n",
       "      <td>96</td>\n",
       "    </tr>\n",
       "    <tr>\n",
       "      <th>40</th>\n",
       "      <td>2841</td>\n",
       "      <td>28</td>\n",
       "      <td>41</td>\n",
       "      <td>Male</td>\n",
       "      <td>60+</td>\n",
       "      <td>Friends</td>\n",
       "      <td>Sri Lanka</td>\n",
       "      <td>Sri Lanka</td>\n",
       "      <td>3.0</td>\n",
       "      <td>Yes</td>\n",
       "      <td>No</td>\n",
       "      <td>78</td>\n",
       "    </tr>\n",
       "    <tr>\n",
       "      <th>41</th>\n",
       "      <td>2842</td>\n",
       "      <td>28</td>\n",
       "      <td>42</td>\n",
       "      <td>Male</td>\n",
       "      <td>41-50</td>\n",
       "      <td>Acquaintances</td>\n",
       "      <td>Sri Lanka</td>\n",
       "      <td>Italy</td>\n",
       "      <td>3.0</td>\n",
       "      <td>No</td>\n",
       "      <td>No</td>\n",
       "      <td>42</td>\n",
       "    </tr>\n",
       "    <tr>\n",
       "      <th>42</th>\n",
       "      <td>2843</td>\n",
       "      <td>28</td>\n",
       "      <td>43</td>\n",
       "      <td>Male</td>\n",
       "      <td>31-35</td>\n",
       "      <td>Acquaintances</td>\n",
       "      <td>Sri Lanka</td>\n",
       "      <td>Italy</td>\n",
       "      <td>3.0</td>\n",
       "      <td>No</td>\n",
       "      <td>No</td>\n",
       "      <td>34</td>\n",
       "    </tr>\n",
       "    <tr>\n",
       "      <th>43</th>\n",
       "      <td>2844</td>\n",
       "      <td>28</td>\n",
       "      <td>44</td>\n",
       "      <td>Male</td>\n",
       "      <td>26-30</td>\n",
       "      <td>Friends</td>\n",
       "      <td>Sri Lanka</td>\n",
       "      <td>Italy</td>\n",
       "      <td>3.0</td>\n",
       "      <td>No</td>\n",
       "      <td>No</td>\n",
       "      <td>28</td>\n",
       "    </tr>\n",
       "    <tr>\n",
       "      <th>44</th>\n",
       "      <td>2845</td>\n",
       "      <td>28</td>\n",
       "      <td>45</td>\n",
       "      <td>Male</td>\n",
       "      <td>51-60</td>\n",
       "      <td>Friends</td>\n",
       "      <td>Sri Lanka</td>\n",
       "      <td>Italy</td>\n",
       "      <td>5.0</td>\n",
       "      <td>Yes</td>\n",
       "      <td>No</td>\n",
       "      <td>52</td>\n",
       "    </tr>\n",
       "  </tbody>\n",
       "</table>\n",
       "</div>"
      ],
      "text/plain": [
       "    alter_ID  ego_ID  alter_num alter.sex alter.age.cat      alter.rel  \\\n",
       "0       2801      28          1    Female         51-60   Close family   \n",
       "1       2802      28          2      Male         51-60   Other family   \n",
       "2       2803      28          3      Male         51-60   Close family   \n",
       "3       2804      28          4      Male           60+   Close family   \n",
       "4       2805      28          5    Female         41-50   Close family   \n",
       "5       2806      28          6    Female           60+   Close family   \n",
       "6       2807      28          7      Male         41-50   Other family   \n",
       "7       2808      28          8    Female         36-40   Other family   \n",
       "8       2809      28          9    Female         51-60   Other family   \n",
       "9       2810      28         10      Male           60+   Other family   \n",
       "10      2811      28         11      Male         51-60        Friends   \n",
       "11      2812      28         12      Male         41-50        Friends   \n",
       "12      2813      28         13      Male         51-60        Friends   \n",
       "13      2814      28         14      Male         41-50        Friends   \n",
       "14      2815      28         15      Male         18-25        Friends   \n",
       "15      2816      28         16      Male         31-35        Friends   \n",
       "16      2817      28         17      Male         26-30  Acquaintances   \n",
       "17      2818      28         18      Male           60+        Friends   \n",
       "18      2819      28         19      Male         41-50  Acquaintances   \n",
       "19      2820      28         20      Male           60+        Friends   \n",
       "20      2821      28         21      Male           60+        Friends   \n",
       "21      2822      28         22      Male         41-50        Friends   \n",
       "22      2823      28         23      Male         41-50        Friends   \n",
       "23      2824      28         24      Male         18-25        Friends   \n",
       "24      2825      28         25      Male         41-50  Acquaintances   \n",
       "25      2826      28         26      Male         36-40  Acquaintances   \n",
       "26      2827      28         27      Male         26-30        Friends   \n",
       "27      2828      28         28    Female         31-35        Friends   \n",
       "28      2829      28         29      Male           60+        Friends   \n",
       "29      2830      28         30      Male         31-35        Friends   \n",
       "30      2831      28         31      Male         41-50        Friends   \n",
       "31      2832      28         32    Female         51-60  Acquaintances   \n",
       "32      2833      28         33      Male         51-60        Friends   \n",
       "33      2834      28         34      Male         41-50  Acquaintances   \n",
       "34      2835      28         35      Male         31-35        Friends   \n",
       "35      2836      28         36      Male         51-60        Friends   \n",
       "36      2837      28         37    Female         31-35        Friends   \n",
       "37      2838      28         38      Male         41-50        Friends   \n",
       "38      2839      28         39      Male         41-50        Friends   \n",
       "39      2840      28         40      Male           60+        Friends   \n",
       "40      2841      28         41      Male           60+        Friends   \n",
       "41      2842      28         42      Male         41-50  Acquaintances   \n",
       "42      2843      28         43      Male         31-35  Acquaintances   \n",
       "43      2844      28         44      Male         26-30        Friends   \n",
       "44      2845      28         45      Male         51-60        Friends   \n",
       "\n",
       "    alter.nat  alter.res  alter.clo alter.loan alter.fam  alter.age  \n",
       "0   Sri Lanka  Sri Lanka        NaN        NaN       Yes         52  \n",
       "1   Sri Lanka  Sri Lanka        3.0         No       Yes         54  \n",
       "2   Sri Lanka  Sri Lanka        NaN        NaN       Yes         56  \n",
       "3   Sri Lanka  Sri Lanka        NaN        NaN       Yes         63  \n",
       "4   Sri Lanka  Sri Lanka        NaN        NaN       Yes         47  \n",
       "5   Sri Lanka  Sri Lanka        NaN        NaN       Yes         81  \n",
       "6   Sri Lanka  Sri Lanka        5.0         No       Yes         42  \n",
       "7   Sri Lanka  Sri Lanka        4.0        Yes       Yes         38  \n",
       "8   Sri Lanka  Sri Lanka        5.0        Yes       Yes         58  \n",
       "9   Sri Lanka  Sri Lanka        5.0         No       Yes         68  \n",
       "10  Sri Lanka  Sri Lanka        5.0        Yes        No         58  \n",
       "11  Sri Lanka  Sri Lanka        4.0         No        No         41  \n",
       "12  Sri Lanka      Italy        3.0        Yes        No         52  \n",
       "13  Sri Lanka      Italy        5.0        Yes        No         43  \n",
       "14  Sri Lanka      Italy        3.0        Yes        No         22  \n",
       "15  Sri Lanka      Italy        3.0        Yes        No         32  \n",
       "16  Sri Lanka      Italy        1.0        Yes        No         29  \n",
       "17  Sri Lanka      Italy        5.0        Yes        No         69  \n",
       "18  Sri Lanka      Italy        4.0         No        No         44  \n",
       "19  Sri Lanka      Other        5.0        Yes        No         77  \n",
       "20  Sri Lanka      Italy        5.0        Yes        No         83  \n",
       "21  Sri Lanka      Italy        5.0        Yes        No         42  \n",
       "22  Sri Lanka      Italy        5.0        Yes        No         49  \n",
       "23  Sri Lanka      Italy        5.0        Yes        No         18  \n",
       "24  Sri Lanka      Italy        2.0         No        No         48  \n",
       "25  Sri Lanka      Italy        3.0         No        No         36  \n",
       "26  Sri Lanka  Sri Lanka        4.0         No        No         28  \n",
       "27  Sri Lanka  Sri Lanka        5.0        Yes        No         33  \n",
       "28  Sri Lanka  Sri Lanka        5.0        Yes        No         99  \n",
       "29  Sri Lanka      Italy        5.0        Yes        No         34  \n",
       "30  Sri Lanka      Italy        5.0        Yes        No         42  \n",
       "31      Other      Italy        3.0         No        No         59  \n",
       "32  Sri Lanka      Italy        5.0        Yes        No         58  \n",
       "33  Sri Lanka      Italy        3.0         No        No         43  \n",
       "34  Sri Lanka      Italy        4.0         No        No         32  \n",
       "35  Sri Lanka      Italy        5.0         No        No         55  \n",
       "36      Other      Italy        5.0        Yes        No         33  \n",
       "37  Sri Lanka      Italy        5.0         No        No         44  \n",
       "38  Sri Lanka      Italy        5.0         No        No         48  \n",
       "39  Sri Lanka  Sri Lanka        3.0         No        No         96  \n",
       "40  Sri Lanka  Sri Lanka        3.0        Yes        No         78  \n",
       "41  Sri Lanka      Italy        3.0         No        No         42  \n",
       "42  Sri Lanka      Italy        3.0         No        No         34  \n",
       "43  Sri Lanka      Italy        3.0         No        No         28  \n",
       "44  Sri Lanka      Italy        5.0        Yes        No         52  "
      ]
     },
     "execution_count": 4,
     "metadata": {},
     "output_type": "execute_result"
    }
   ],
   "source": [
    "# use pandas to import list of alters of Ego 28, with their attributes\n",
    "Alters28 = pd.read_csv('Alter.attr.28.csv', sep=';')\n",
    "Alters28"
   ]
  },
  {
   "cell_type": "code",
   "execution_count": 5,
   "metadata": {},
   "outputs": [
    {
     "data": {
      "text/html": [
       "<div>\n",
       "<style scoped>\n",
       "    .dataframe tbody tr th:only-of-type {\n",
       "        vertical-align: middle;\n",
       "    }\n",
       "\n",
       "    .dataframe tbody tr th {\n",
       "        vertical-align: top;\n",
       "    }\n",
       "\n",
       "    .dataframe thead th {\n",
       "        text-align: right;\n",
       "    }\n",
       "</style>\n",
       "<table border=\"1\" class=\"dataframe\">\n",
       "  <thead>\n",
       "    <tr style=\"text-align: right;\">\n",
       "      <th></th>\n",
       "      <th>V1</th>\n",
       "      <th>V2</th>\n",
       "    </tr>\n",
       "  </thead>\n",
       "  <tbody>\n",
       "    <tr>\n",
       "      <th>0</th>\n",
       "      <td>2801</td>\n",
       "      <td>2802</td>\n",
       "    </tr>\n",
       "    <tr>\n",
       "      <th>1</th>\n",
       "      <td>2801</td>\n",
       "      <td>2803</td>\n",
       "    </tr>\n",
       "    <tr>\n",
       "      <th>2</th>\n",
       "      <td>2801</td>\n",
       "      <td>2804</td>\n",
       "    </tr>\n",
       "    <tr>\n",
       "      <th>3</th>\n",
       "      <td>2801</td>\n",
       "      <td>2805</td>\n",
       "    </tr>\n",
       "    <tr>\n",
       "      <th>4</th>\n",
       "      <td>2801</td>\n",
       "      <td>2806</td>\n",
       "    </tr>\n",
       "    <tr>\n",
       "      <th>...</th>\n",
       "      <td>...</td>\n",
       "      <td>...</td>\n",
       "    </tr>\n",
       "    <tr>\n",
       "      <th>254</th>\n",
       "      <td>2839</td>\n",
       "      <td>2845</td>\n",
       "    </tr>\n",
       "    <tr>\n",
       "      <th>255</th>\n",
       "      <td>2840</td>\n",
       "      <td>2841</td>\n",
       "    </tr>\n",
       "    <tr>\n",
       "      <th>256</th>\n",
       "      <td>2840</td>\n",
       "      <td>2844</td>\n",
       "    </tr>\n",
       "    <tr>\n",
       "      <th>257</th>\n",
       "      <td>2840</td>\n",
       "      <td>2845</td>\n",
       "    </tr>\n",
       "    <tr>\n",
       "      <th>258</th>\n",
       "      <td>2842</td>\n",
       "      <td>2843</td>\n",
       "    </tr>\n",
       "  </tbody>\n",
       "</table>\n",
       "<p>259 rows × 2 columns</p>\n",
       "</div>"
      ],
      "text/plain": [
       "       V1    V2\n",
       "0    2801  2802\n",
       "1    2801  2803\n",
       "2    2801  2804\n",
       "3    2801  2805\n",
       "4    2801  2806\n",
       "..    ...   ...\n",
       "254  2839  2845\n",
       "255  2840  2841\n",
       "256  2840  2844\n",
       "257  2840  2845\n",
       "258  2842  2843\n",
       "\n",
       "[259 rows x 2 columns]"
      ]
     },
     "execution_count": 5,
     "metadata": {},
     "output_type": "execute_result"
    }
   ],
   "source": [
    "# use pandas to import edgelist (of Ego 28) as a table\n",
    "EgoEdges28 = pd.read_table('EgoNet.28.alone.csv', sep=';')\n",
    "EgoEdges28"
   ]
  },
  {
   "cell_type": "code",
   "execution_count": 6,
   "metadata": {},
   "outputs": [
    {
     "name": "stdout",
     "output_type": "stream",
     "text": [
      "Graph with 45 nodes and 259 edges\n"
     ]
    }
   ],
   "source": [
    "# generate graph from pandas edgelist\n",
    "# it is an undirected graph\n",
    "\n",
    "EgoNet28 = nx.from_pandas_edgelist(EgoEdges28, 'V1', 'V2', create_using=nx.Graph()) \n",
    "print(EgoNet28)"
   ]
  },
  {
   "cell_type": "code",
   "execution_count": 7,
   "metadata": {},
   "outputs": [
    {
     "name": "stdout",
     "output_type": "stream",
     "text": [
      "[(2801, {'ego_ID': 28, 'alter_num': 1, 'alter.sex': 'Female', 'alter.age.cat': '51-60', 'alter.rel': 'Close family', 'alter.nat': 'Sri Lanka', 'alter.res': 'Sri Lanka', 'alter.clo': nan, 'alter.loan': nan, 'alter.fam': 'Yes', 'alter.age': 52}), (2802, {'ego_ID': 28, 'alter_num': 2, 'alter.sex': 'Male', 'alter.age.cat': '51-60', 'alter.rel': 'Other family', 'alter.nat': 'Sri Lanka', 'alter.res': 'Sri Lanka', 'alter.clo': 3.0, 'alter.loan': 'No', 'alter.fam': 'Yes', 'alter.age': 54}), (2803, {'ego_ID': 28, 'alter_num': 3, 'alter.sex': 'Male', 'alter.age.cat': '51-60', 'alter.rel': 'Close family', 'alter.nat': 'Sri Lanka', 'alter.res': 'Sri Lanka', 'alter.clo': nan, 'alter.loan': nan, 'alter.fam': 'Yes', 'alter.age': 56}), (2804, {'ego_ID': 28, 'alter_num': 4, 'alter.sex': 'Male', 'alter.age.cat': '60+', 'alter.rel': 'Close family', 'alter.nat': 'Sri Lanka', 'alter.res': 'Sri Lanka', 'alter.clo': nan, 'alter.loan': nan, 'alter.fam': 'Yes', 'alter.age': 63}), (2805, {'ego_ID': 28, 'alter_num': 5, 'alter.sex': 'Female', 'alter.age.cat': '41-50', 'alter.rel': 'Close family', 'alter.nat': 'Sri Lanka', 'alter.res': 'Sri Lanka', 'alter.clo': nan, 'alter.loan': nan, 'alter.fam': 'Yes', 'alter.age': 47}), (2806, {'ego_ID': 28, 'alter_num': 6, 'alter.sex': 'Female', 'alter.age.cat': '60+', 'alter.rel': 'Close family', 'alter.nat': 'Sri Lanka', 'alter.res': 'Sri Lanka', 'alter.clo': nan, 'alter.loan': nan, 'alter.fam': 'Yes', 'alter.age': 81}), (2807, {'ego_ID': 28, 'alter_num': 7, 'alter.sex': 'Male', 'alter.age.cat': '41-50', 'alter.rel': 'Other family', 'alter.nat': 'Sri Lanka', 'alter.res': 'Sri Lanka', 'alter.clo': 5.0, 'alter.loan': 'No', 'alter.fam': 'Yes', 'alter.age': 42}), (2808, {'ego_ID': 28, 'alter_num': 8, 'alter.sex': 'Female', 'alter.age.cat': '36-40', 'alter.rel': 'Other family', 'alter.nat': 'Sri Lanka', 'alter.res': 'Sri Lanka', 'alter.clo': 4.0, 'alter.loan': 'Yes', 'alter.fam': 'Yes', 'alter.age': 38}), (2809, {'ego_ID': 28, 'alter_num': 9, 'alter.sex': 'Female', 'alter.age.cat': '51-60', 'alter.rel': 'Other family', 'alter.nat': 'Sri Lanka', 'alter.res': 'Sri Lanka', 'alter.clo': 5.0, 'alter.loan': 'Yes', 'alter.fam': 'Yes', 'alter.age': 58}), (2810, {'ego_ID': 28, 'alter_num': 10, 'alter.sex': 'Male', 'alter.age.cat': '60+', 'alter.rel': 'Other family', 'alter.nat': 'Sri Lanka', 'alter.res': 'Sri Lanka', 'alter.clo': 5.0, 'alter.loan': 'No', 'alter.fam': 'Yes', 'alter.age': 68}), (2811, {'ego_ID': 28, 'alter_num': 11, 'alter.sex': 'Male', 'alter.age.cat': '51-60', 'alter.rel': 'Friends', 'alter.nat': 'Sri Lanka', 'alter.res': 'Sri Lanka', 'alter.clo': 5.0, 'alter.loan': 'Yes', 'alter.fam': 'No', 'alter.age': 58}), (2812, {'ego_ID': 28, 'alter_num': 12, 'alter.sex': 'Male', 'alter.age.cat': '41-50', 'alter.rel': 'Friends', 'alter.nat': 'Sri Lanka', 'alter.res': 'Sri Lanka', 'alter.clo': 4.0, 'alter.loan': 'No', 'alter.fam': 'No', 'alter.age': 41}), (2813, {'ego_ID': 28, 'alter_num': 13, 'alter.sex': 'Male', 'alter.age.cat': '51-60', 'alter.rel': 'Friends', 'alter.nat': 'Sri Lanka', 'alter.res': 'Italy', 'alter.clo': 3.0, 'alter.loan': 'Yes', 'alter.fam': 'No', 'alter.age': 52}), (2814, {'ego_ID': 28, 'alter_num': 14, 'alter.sex': 'Male', 'alter.age.cat': '41-50', 'alter.rel': 'Friends', 'alter.nat': 'Sri Lanka', 'alter.res': 'Italy', 'alter.clo': 5.0, 'alter.loan': 'Yes', 'alter.fam': 'No', 'alter.age': 43}), (2815, {'ego_ID': 28, 'alter_num': 15, 'alter.sex': 'Male', 'alter.age.cat': '18-25', 'alter.rel': 'Friends', 'alter.nat': 'Sri Lanka', 'alter.res': 'Italy', 'alter.clo': 3.0, 'alter.loan': 'Yes', 'alter.fam': 'No', 'alter.age': 22}), (2818, {'ego_ID': 28, 'alter_num': 18, 'alter.sex': 'Male', 'alter.age.cat': '60+', 'alter.rel': 'Friends', 'alter.nat': 'Sri Lanka', 'alter.res': 'Italy', 'alter.clo': 5.0, 'alter.loan': 'Yes', 'alter.fam': 'No', 'alter.age': 69}), (2820, {'ego_ID': 28, 'alter_num': 20, 'alter.sex': 'Male', 'alter.age.cat': '60+', 'alter.rel': 'Friends', 'alter.nat': 'Sri Lanka', 'alter.res': 'Other', 'alter.clo': 5.0, 'alter.loan': 'Yes', 'alter.fam': 'No', 'alter.age': 77}), (2823, {'ego_ID': 28, 'alter_num': 23, 'alter.sex': 'Male', 'alter.age.cat': '41-50', 'alter.rel': 'Friends', 'alter.nat': 'Sri Lanka', 'alter.res': 'Italy', 'alter.clo': 5.0, 'alter.loan': 'Yes', 'alter.fam': 'No', 'alter.age': 49}), (2825, {'ego_ID': 28, 'alter_num': 25, 'alter.sex': 'Male', 'alter.age.cat': '41-50', 'alter.rel': 'Acquaintances', 'alter.nat': 'Sri Lanka', 'alter.res': 'Italy', 'alter.clo': 2.0, 'alter.loan': 'No', 'alter.fam': 'No', 'alter.age': 48}), (2827, {'ego_ID': 28, 'alter_num': 27, 'alter.sex': 'Male', 'alter.age.cat': '26-30', 'alter.rel': 'Friends', 'alter.nat': 'Sri Lanka', 'alter.res': 'Sri Lanka', 'alter.clo': 4.0, 'alter.loan': 'No', 'alter.fam': 'No', 'alter.age': 28}), (2828, {'ego_ID': 28, 'alter_num': 28, 'alter.sex': 'Female', 'alter.age.cat': '31-35', 'alter.rel': 'Friends', 'alter.nat': 'Sri Lanka', 'alter.res': 'Sri Lanka', 'alter.clo': 5.0, 'alter.loan': 'Yes', 'alter.fam': 'No', 'alter.age': 33}), (2829, {'ego_ID': 28, 'alter_num': 29, 'alter.sex': 'Male', 'alter.age.cat': '60+', 'alter.rel': 'Friends', 'alter.nat': 'Sri Lanka', 'alter.res': 'Sri Lanka', 'alter.clo': 5.0, 'alter.loan': 'Yes', 'alter.fam': 'No', 'alter.age': 99}), (2831, {'ego_ID': 28, 'alter_num': 31, 'alter.sex': 'Male', 'alter.age.cat': '41-50', 'alter.rel': 'Friends', 'alter.nat': 'Sri Lanka', 'alter.res': 'Italy', 'alter.clo': 5.0, 'alter.loan': 'Yes', 'alter.fam': 'No', 'alter.age': 42}), (2840, {'ego_ID': 28, 'alter_num': 40, 'alter.sex': 'Male', 'alter.age.cat': '60+', 'alter.rel': 'Friends', 'alter.nat': 'Sri Lanka', 'alter.res': 'Sri Lanka', 'alter.clo': 3.0, 'alter.loan': 'No', 'alter.fam': 'No', 'alter.age': 96}), (2841, {'ego_ID': 28, 'alter_num': 41, 'alter.sex': 'Male', 'alter.age.cat': '60+', 'alter.rel': 'Friends', 'alter.nat': 'Sri Lanka', 'alter.res': 'Sri Lanka', 'alter.clo': 3.0, 'alter.loan': 'Yes', 'alter.fam': 'No', 'alter.age': 78}), (2816, {'ego_ID': 28, 'alter_num': 16, 'alter.sex': 'Male', 'alter.age.cat': '31-35', 'alter.rel': 'Friends', 'alter.nat': 'Sri Lanka', 'alter.res': 'Italy', 'alter.clo': 3.0, 'alter.loan': 'Yes', 'alter.fam': 'No', 'alter.age': 32}), (2817, {'ego_ID': 28, 'alter_num': 17, 'alter.sex': 'Male', 'alter.age.cat': '26-30', 'alter.rel': 'Acquaintances', 'alter.nat': 'Sri Lanka', 'alter.res': 'Italy', 'alter.clo': 1.0, 'alter.loan': 'Yes', 'alter.fam': 'No', 'alter.age': 29}), (2822, {'ego_ID': 28, 'alter_num': 22, 'alter.sex': 'Male', 'alter.age.cat': '41-50', 'alter.rel': 'Friends', 'alter.nat': 'Sri Lanka', 'alter.res': 'Italy', 'alter.clo': 5.0, 'alter.loan': 'Yes', 'alter.fam': 'No', 'alter.age': 42}), (2824, {'ego_ID': 28, 'alter_num': 24, 'alter.sex': 'Male', 'alter.age.cat': '18-25', 'alter.rel': 'Friends', 'alter.nat': 'Sri Lanka', 'alter.res': 'Italy', 'alter.clo': 5.0, 'alter.loan': 'Yes', 'alter.fam': 'No', 'alter.age': 18}), (2832, {'ego_ID': 28, 'alter_num': 32, 'alter.sex': 'Female', 'alter.age.cat': '51-60', 'alter.rel': 'Acquaintances', 'alter.nat': 'Other', 'alter.res': 'Italy', 'alter.clo': 3.0, 'alter.loan': 'No', 'alter.fam': 'No', 'alter.age': 59}), (2835, {'ego_ID': 28, 'alter_num': 35, 'alter.sex': 'Male', 'alter.age.cat': '31-35', 'alter.rel': 'Friends', 'alter.nat': 'Sri Lanka', 'alter.res': 'Italy', 'alter.clo': 4.0, 'alter.loan': 'No', 'alter.fam': 'No', 'alter.age': 32}), (2839, {'ego_ID': 28, 'alter_num': 39, 'alter.sex': 'Male', 'alter.age.cat': '41-50', 'alter.rel': 'Friends', 'alter.nat': 'Sri Lanka', 'alter.res': 'Italy', 'alter.clo': 5.0, 'alter.loan': 'No', 'alter.fam': 'No', 'alter.age': 48}), (2844, {'ego_ID': 28, 'alter_num': 44, 'alter.sex': 'Male', 'alter.age.cat': '26-30', 'alter.rel': 'Friends', 'alter.nat': 'Sri Lanka', 'alter.res': 'Italy', 'alter.clo': 3.0, 'alter.loan': 'No', 'alter.fam': 'No', 'alter.age': 28}), (2845, {'ego_ID': 28, 'alter_num': 45, 'alter.sex': 'Male', 'alter.age.cat': '51-60', 'alter.rel': 'Friends', 'alter.nat': 'Sri Lanka', 'alter.res': 'Italy', 'alter.clo': 5.0, 'alter.loan': 'Yes', 'alter.fam': 'No', 'alter.age': 52}), (2833, {'ego_ID': 28, 'alter_num': 33, 'alter.sex': 'Male', 'alter.age.cat': '51-60', 'alter.rel': 'Friends', 'alter.nat': 'Sri Lanka', 'alter.res': 'Italy', 'alter.clo': 5.0, 'alter.loan': 'Yes', 'alter.fam': 'No', 'alter.age': 58}), (2819, {'ego_ID': 28, 'alter_num': 19, 'alter.sex': 'Male', 'alter.age.cat': '41-50', 'alter.rel': 'Acquaintances', 'alter.nat': 'Sri Lanka', 'alter.res': 'Italy', 'alter.clo': 4.0, 'alter.loan': 'No', 'alter.fam': 'No', 'alter.age': 44}), (2836, {'ego_ID': 28, 'alter_num': 36, 'alter.sex': 'Male', 'alter.age.cat': '51-60', 'alter.rel': 'Friends', 'alter.nat': 'Sri Lanka', 'alter.res': 'Italy', 'alter.clo': 5.0, 'alter.loan': 'No', 'alter.fam': 'No', 'alter.age': 55}), (2821, {'ego_ID': 28, 'alter_num': 21, 'alter.sex': 'Male', 'alter.age.cat': '60+', 'alter.rel': 'Friends', 'alter.nat': 'Sri Lanka', 'alter.res': 'Italy', 'alter.clo': 5.0, 'alter.loan': 'Yes', 'alter.fam': 'No', 'alter.age': 83}), (2826, {'ego_ID': 28, 'alter_num': 26, 'alter.sex': 'Male', 'alter.age.cat': '36-40', 'alter.rel': 'Acquaintances', 'alter.nat': 'Sri Lanka', 'alter.res': 'Italy', 'alter.clo': 3.0, 'alter.loan': 'No', 'alter.fam': 'No', 'alter.age': 36}), (2838, {'ego_ID': 28, 'alter_num': 38, 'alter.sex': 'Male', 'alter.age.cat': '41-50', 'alter.rel': 'Friends', 'alter.nat': 'Sri Lanka', 'alter.res': 'Italy', 'alter.clo': 5.0, 'alter.loan': 'No', 'alter.fam': 'No', 'alter.age': 44}), (2843, {'ego_ID': 28, 'alter_num': 43, 'alter.sex': 'Male', 'alter.age.cat': '31-35', 'alter.rel': 'Acquaintances', 'alter.nat': 'Sri Lanka', 'alter.res': 'Italy', 'alter.clo': 3.0, 'alter.loan': 'No', 'alter.fam': 'No', 'alter.age': 34}), (2834, {'ego_ID': 28, 'alter_num': 34, 'alter.sex': 'Male', 'alter.age.cat': '41-50', 'alter.rel': 'Acquaintances', 'alter.nat': 'Sri Lanka', 'alter.res': 'Italy', 'alter.clo': 3.0, 'alter.loan': 'No', 'alter.fam': 'No', 'alter.age': 43}), (2837, {'ego_ID': 28, 'alter_num': 37, 'alter.sex': 'Female', 'alter.age.cat': '31-35', 'alter.rel': 'Friends', 'alter.nat': 'Other', 'alter.res': 'Italy', 'alter.clo': 5.0, 'alter.loan': 'Yes', 'alter.fam': 'No', 'alter.age': 33}), (2842, {'ego_ID': 28, 'alter_num': 42, 'alter.sex': 'Male', 'alter.age.cat': '41-50', 'alter.rel': 'Acquaintances', 'alter.nat': 'Sri Lanka', 'alter.res': 'Italy', 'alter.clo': 3.0, 'alter.loan': 'No', 'alter.fam': 'No', 'alter.age': 42}), (2830, {'ego_ID': 28, 'alter_num': 30, 'alter.sex': 'Male', 'alter.age.cat': '31-35', 'alter.rel': 'Friends', 'alter.nat': 'Sri Lanka', 'alter.res': 'Italy', 'alter.clo': 5.0, 'alter.loan': 'Yes', 'alter.fam': 'No', 'alter.age': 34})]\n"
     ]
    }
   ],
   "source": [
    "# match nodes of graph with attributes of nodes\n",
    "NodeData = Alters28.set_index('alter_ID').to_dict('index').items()\n",
    "EgoNet28.add_nodes_from(NodeData)\n",
    "\n",
    "# view results\n",
    "print(EgoNet28.nodes(data=True))"
   ]
  },
  {
   "cell_type": "code",
   "execution_count": 8,
   "metadata": {},
   "outputs": [
    {
     "name": "stdout",
     "output_type": "stream",
     "text": [
      "[(2801, 2802, {}), (2801, 2803, {}), (2801, 2804, {}), (2801, 2805, {}), (2801, 2806, {}), (2801, 2807, {}), (2801, 2808, {}), (2801, 2809, {}), (2801, 2810, {}), (2801, 2811, {}), (2801, 2812, {}), (2801, 2813, {}), (2801, 2814, {}), (2801, 2815, {}), (2801, 2818, {}), (2801, 2820, {}), (2801, 2823, {}), (2801, 2825, {}), (2801, 2827, {}), (2801, 2828, {}), (2801, 2829, {}), (2801, 2831, {}), (2801, 2840, {}), (2801, 2841, {}), (2802, 2803, {}), (2802, 2804, {}), (2802, 2805, {}), (2802, 2806, {}), (2802, 2807, {}), (2802, 2808, {}), (2802, 2809, {}), (2802, 2810, {}), (2802, 2811, {}), (2802, 2812, {}), (2802, 2813, {}), (2802, 2815, {}), (2802, 2823, {}), (2802, 2831, {}), (2802, 2840, {}), (2802, 2841, {}), (2803, 2804, {}), (2803, 2805, {}), (2803, 2806, {}), (2803, 2807, {}), (2803, 2808, {}), (2803, 2809, {}), (2803, 2810, {}), (2803, 2811, {}), (2803, 2812, {}), (2803, 2840, {}), (2803, 2841, {}), (2804, 2805, {}), (2804, 2806, {}), (2804, 2807, {}), (2804, 2808, {}), (2804, 2809, {}), (2804, 2810, {}), (2804, 2811, {}), (2804, 2840, {}), (2804, 2841, {}), (2805, 2806, {}), (2805, 2807, {}), (2805, 2808, {}), (2805, 2809, {}), (2805, 2810, {}), (2805, 2811, {}), (2805, 2840, {}), (2805, 2841, {}), (2806, 2807, {}), (2806, 2808, {}), (2806, 2809, {}), (2806, 2810, {}), (2806, 2811, {}), (2806, 2812, {}), (2806, 2840, {}), (2806, 2841, {}), (2807, 2808, {}), (2807, 2809, {}), (2807, 2810, {}), (2807, 2811, {}), (2807, 2812, {}), (2807, 2840, {}), (2807, 2841, {}), (2808, 2809, {}), (2808, 2810, {}), (2808, 2812, {}), (2808, 2840, {}), (2808, 2841, {}), (2809, 2810, {}), (2809, 2812, {}), (2811, 2812, {}), (2811, 2828, {}), (2811, 2840, {}), (2811, 2841, {}), (2813, 2814, {}), (2813, 2815, {}), (2813, 2816, {}), (2813, 2817, {}), (2813, 2818, {}), (2813, 2822, {}), (2813, 2823, {}), (2813, 2824, {}), (2813, 2831, {}), (2813, 2832, {}), (2813, 2835, {}), (2813, 2839, {}), (2813, 2840, {}), (2813, 2841, {}), (2813, 2844, {}), (2813, 2845, {}), (2814, 2815, {}), (2814, 2816, {}), (2814, 2817, {}), (2814, 2818, {}), (2814, 2822, {}), (2814, 2823, {}), (2814, 2824, {}), (2814, 2831, {}), (2814, 2832, {}), (2814, 2833, {}), (2814, 2835, {}), (2814, 2844, {}), (2815, 2816, {}), (2815, 2817, {}), (2815, 2818, {}), (2815, 2822, {}), (2815, 2823, {}), (2815, 2824, {}), (2815, 2831, {}), (2815, 2832, {}), (2815, 2833, {}), (2815, 2835, {}), (2815, 2844, {}), (2815, 2845, {}), (2818, 2816, {}), (2818, 2817, {}), (2818, 2823, {}), (2818, 2824, {}), (2818, 2831, {}), (2818, 2844, {}), (2820, 2823, {}), (2823, 2816, {}), (2823, 2817, {}), (2823, 2819, {}), (2823, 2821, {}), (2823, 2822, {}), (2823, 2824, {}), (2823, 2825, {}), (2823, 2826, {}), (2823, 2830, {}), (2823, 2831, {}), (2823, 2832, {}), (2823, 2833, {}), (2823, 2834, {}), (2823, 2835, {}), (2823, 2837, {}), (2823, 2838, {}), (2823, 2839, {}), (2823, 2842, {}), (2823, 2843, {}), (2823, 2845, {}), (2825, 2821, {}), (2825, 2822, {}), (2825, 2830, {}), (2825, 2833, {}), (2825, 2835, {}), (2825, 2838, {}), (2825, 2839, {}), (2825, 2843, {}), (2827, 2828, {}), (2827, 2840, {}), (2827, 2841, {}), (2829, 2840, {}), (2829, 2841, {}), (2831, 2816, {}), (2831, 2817, {}), (2831, 2822, {}), (2831, 2824, {}), (2831, 2826, {}), (2831, 2832, {}), (2831, 2834, {}), (2831, 2840, {}), (2840, 2841, {}), (2840, 2844, {}), (2840, 2845, {}), (2816, 2817, {}), (2816, 2824, {}), (2816, 2835, {}), (2817, 2824, {}), (2817, 2835, {}), (2822, 2821, {}), (2822, 2824, {}), (2822, 2832, {}), (2822, 2833, {}), (2822, 2834, {}), (2822, 2835, {}), (2822, 2837, {}), (2822, 2838, {}), (2822, 2839, {}), (2822, 2842, {}), (2822, 2843, {}), (2822, 2845, {}), (2824, 2832, {}), (2824, 2833, {}), (2824, 2834, {}), (2824, 2835, {}), (2832, 2826, {}), (2832, 2833, {}), (2832, 2834, {}), (2832, 2835, {}), (2832, 2837, {}), (2832, 2838, {}), (2832, 2839, {}), (2832, 2843, {}), (2832, 2845, {}), (2835, 2821, {}), (2835, 2826, {}), (2835, 2830, {}), (2835, 2833, {}), (2835, 2834, {}), (2835, 2837, {}), (2835, 2838, {}), (2835, 2839, {}), (2835, 2842, {}), (2835, 2843, {}), (2835, 2845, {}), (2839, 2821, {}), (2839, 2833, {}), (2839, 2834, {}), (2839, 2837, {}), (2839, 2838, {}), (2839, 2842, {}), (2839, 2843, {}), (2839, 2845, {}), (2845, 2833, {}), (2845, 2834, {}), (2845, 2837, {}), (2845, 2838, {}), (2833, 2821, {}), (2833, 2826, {}), (2833, 2834, {}), (2833, 2837, {}), (2833, 2838, {}), (2833, 2843, {}), (2819, 2836, {}), (2836, 2838, {}), (2836, 2842, {}), (2821, 2826, {}), (2821, 2838, {}), (2821, 2843, {}), (2826, 2834, {}), (2826, 2837, {}), (2838, 2834, {}), (2838, 2837, {}), (2838, 2842, {}), (2838, 2843, {}), (2843, 2834, {}), (2843, 2837, {}), (2843, 2842, {})]\n"
     ]
    }
   ],
   "source": [
    "# view edges\n",
    "print(EgoNet28.edges(data=True))"
   ]
  },
  {
   "cell_type": "code",
   "execution_count": 9,
   "metadata": {},
   "outputs": [
    {
     "data": {
      "image/png": "[encoded data removed]",
      "text/plain": [
       "<Figure size 640x480 with 1 Axes>"
      ]
     },
     "metadata": {},
     "output_type": "display_data"
    }
   ],
   "source": [
    "# Draw graph\n",
    "nx.draw(EgoNet28)\n",
    "plt.show()"
   ]
  },
  {
   "cell_type": "markdown",
   "metadata": {},
   "source": [
    "## Personal network composition indicators"
   ]
  },
  {
   "cell_type": "code",
   "execution_count": 10,
   "metadata": {},
   "outputs": [
    {
     "data": {
      "text/plain": [
       "61.0"
      ]
     },
     "execution_count": 10,
     "metadata": {},
     "output_type": "execute_result"
    }
   ],
   "source": [
    "# Is the network of Ego 28 homogeneous by age?\n",
    "# let's first look at the age of Ego 28 (the first in the table):\n",
    "Egos['ego.age'].iloc[0]\n",
    "# Ego turns out to be 61 yo"
   ]
  },
  {
   "cell_type": "code",
   "execution_count": 11,
   "metadata": {},
   "outputs": [
    {
     "name": "stdout",
     "output_type": "stream",
     "text": [
      "49.77777777777778\n",
      "343.4949494949495\n",
      "18.53361674080236\n",
      "0.25    36.0\n",
      "0.50    47.0\n",
      "0.75    58.0\n",
      "Name: alter.age, dtype: float64\n"
     ]
    }
   ],
   "source": [
    "# Let's nos look at the age of alters\n",
    "#For a numerical variable, like age, we can take mean, variance, stdev, quartiles, median...\n",
    "print(Alters28['alter.age'].mean())\n",
    "print(Alters28['alter.age'].var())\n",
    "print(Alters28['alter.age'].std())\n",
    "print(Alters28['alter.age'].quantile([0.25, 0.5, 0.75]))\n",
    "# Ego 28's contacts are a bit younger, though with some variation"
   ]
  },
  {
   "cell_type": "code",
   "execution_count": 12,
   "metadata": {},
   "outputs": [
    {
     "data": {
      "text/plain": [
       "'Male'"
      ]
     },
     "execution_count": 12,
     "metadata": {},
     "output_type": "execute_result"
    }
   ],
   "source": [
    "# Is the network of Ego 28 homogeneous by gender?\n",
    "# Let's first look at ego's gender:\n",
    "Egos['ego.sex'].iloc[0]\n",
    "# Ego turns out to be a man"
   ]
  },
  {
   "cell_type": "code",
   "execution_count": 13,
   "metadata": {},
   "outputs": [
    {
     "data": {
      "text/plain": [
       "alter.sex\n",
       "Male         82.222222\n",
       "Female       17.777778\n",
       "dtype: float64"
      ]
     },
     "execution_count": 13,
     "metadata": {},
     "output_type": "execute_result"
    }
   ],
   "source": [
    "# Let's nos look at his alters\n",
    "# For a binary variable like sex (well, at least in this case!),\n",
    "# we can take proportion/percentage of women in network:\n",
    "Alters28[['alter.sex']].value_counts(normalize=True)*100\n",
    "# Ego 28, a man, is mostly surrounded by men"
   ]
  },
  {
   "cell_type": "markdown",
   "metadata": {},
   "source": [
    "#### Do the same for one of the other binary variables, for example alter.nat (country of birth/nationality), or alter.fam (whether alter is family member)\n"
   ]
  },
  {
   "cell_type": "code",
   "execution_count": 14,
   "metadata": {},
   "outputs": [
    {
     "data": {
      "text/plain": [
       "0.8009876543209876"
      ]
     },
     "execution_count": 14,
     "metadata": {},
     "output_type": "execute_result"
    }
   ],
   "source": [
    "## Blau index (for a categorical variable with more than 2 categories)\n",
    "\n",
    "# recall it is equal to 1 - p1^2 - p2^2 - ... - pk^2\n",
    "\n",
    "# first create a function\n",
    "def blau(df, col):\n",
    "    return (1- ((df[col].value_counts() / df[col].count()) ** 2).sum())\n",
    "\n",
    "# then apply it to the 'alters' table of ego 28, for example with attribute 'alter.age.cat' (= age category)\n",
    "blau(Alters28, 'alter.age.cat')"
   ]
  },
  {
   "cell_type": "code",
   "execution_count": 15,
   "metadata": {},
   "outputs": [
    {
     "name": "stdout",
     "output_type": "stream",
     "text": [
      "['51-60' '60+' '41-50' '36-40' '18-25' '31-35' '26-30']\n"
     ]
    }
   ],
   "source": [
    "# Now, Index of Qualitative Variation\n",
    "# which is a normalized version of Blau\n",
    "# It is equal to Blau * k/(k-1), where k is the number of categories\n",
    "# If you need to see how many/ which categories are represented in a categorical variables\n",
    "print (Alters28['alter.age.cat'].unique())"
   ]
  },
  {
   "cell_type": "code",
   "execution_count": 16,
   "metadata": {},
   "outputs": [
    {
     "data": {
      "text/plain": [
       "0.9344855967078188"
      ]
     },
     "execution_count": 16,
     "metadata": {},
     "output_type": "execute_result"
    }
   ],
   "source": [
    "# There are 7 categories! \n",
    "# We can now calculate the IQV\n",
    "\n",
    "blau(Alters28, 'alter.age.cat')*7/6"
   ]
  },
  {
   "cell_type": "code",
   "execution_count": null,
   "metadata": {},
   "outputs": [],
   "source": [
    "# Herfindahl-Hirschman index (HHI)\n",
    "# equal to 1 - Blau\n",
    "\n",
    "1 - blau(Alters28, 'alter.age.cat')"
   ]
  },
  {
   "cell_type": "markdown",
   "metadata": {},
   "source": [
    "#### Exercise: calculate these indexes for one of the other categorical variables, for example alter.rel (= type of relationship) or alter.res (=country of residence)"
   ]
  },
  {
   "cell_type": "markdown",
   "metadata": {},
   "source": [
    "## Structural measures"
   ]
  },
  {
   "cell_type": "code",
   "execution_count": 17,
   "metadata": {},
   "outputs": [
    {
     "data": {
      "text/plain": [
       "[]"
      ]
     },
     "execution_count": 17,
     "metadata": {},
     "output_type": "execute_result"
    }
   ],
   "source": [
    "# find isolates (components consisting in 1 node)\n",
    "list(nx.isolates(EgoNet28)) "
   ]
  },
  {
   "cell_type": "code",
   "execution_count": 18,
   "metadata": {},
   "outputs": [
    {
     "data": {
      "text/plain": [
       "0.26161616161616164"
      ]
     },
     "execution_count": 18,
     "metadata": {},
     "output_type": "execute_result"
    }
   ],
   "source": [
    "# density\n",
    "nx.density(EgoNet28) "
   ]
  },
  {
   "cell_type": "code",
   "execution_count": null,
   "metadata": {},
   "outputs": [],
   "source": [
    "# Transitivity\n",
    "print(nx.transitivity(EgoNet28)) "
   ]
  },
  {
   "cell_type": "code",
   "execution_count": null,
   "metadata": {},
   "outputs": [],
   "source": [
    "# Diameter\n",
    "nx.diameter(EgoNet28)"
   ]
  },
  {
   "cell_type": "code",
   "execution_count": null,
   "metadata": {},
   "outputs": [],
   "source": [
    "nx.average_shortest_path_length(EgoNet28)"
   ]
  },
  {
   "cell_type": "code",
   "execution_count": null,
   "metadata": {},
   "outputs": [],
   "source": [
    "# degree contrality\n",
    "nx.degree_centrality(EgoNet28)"
   ]
  },
  {
   "cell_type": "markdown",
   "metadata": {},
   "source": [
    "##### In principle, all structural measures can be calculated on a personal / ego network. Just be aware of the relevance of each measure (par ex. reciprocity is not meaningful in un undirected graph, diameter cannot be computed in an unconnected graph, etc.)."
   ]
  },
  {
   "cell_type": "markdown",
   "metadata": {},
   "source": [
    "## Exercise for next week"
   ]
  },
  {
   "cell_type": "markdown",
   "metadata": {},
   "source": [
    "##### Describe the ego-network of another actor in the database and compare it to the ego-network of Ego 28. in particular, look at their age and year of arrival in destination country (Italy). Do the egos who have spent more time in Italy have more diverse networks (for example with fewer family members, or with more residents in Italy than in native Sri Lanka, or with more Italian-born contacts)? Are more diverse networks also less cohesive (lower density or transitivity, or higher APL, etc.)? "
   ]
  },
  {
   "cell_type": "markdown",
   "metadata": {},
   "source": [
    "# Solutions homework 28 February\n",
    "## Personal networks, ego networks"
   ]
  },
  {
   "cell_type": "markdown",
   "metadata": {},
   "source": [
    "#### Use R. Vacca's data on the personal networks of migrants from Sri Lanka living in Italy. Describe the ego-network of an actor in the database (not n. 28, which we examined together in class) and compare it to the ego-network of Ego 28. in particular, look at their age and year of arrival in destination country (Italy). Do the egos who have spent more time in Italy have more diverse networks (for example with fewer family members, or with more residents in Italy than in native Sri Lanka, or with more Italian-born contacts)? Are more diverse networks also less cohesive (lower density or transitivity, or higher APL, etc.)?"
   ]
  },
  {
   "cell_type": "markdown",
   "metadata": {},
   "source": [
    "##### This is just an example of a possible solution, using the case of Ego 33. Other solutions are possible (also depending on the particular ego-network chosen)."
   ]
  },
  {
   "cell_type": "code",
   "execution_count": null,
   "metadata": {},
   "outputs": [],
   "source": [
    "########### Preparation ##############\n",
    "# import packages\n",
    "import networkx as nx\n",
    "import matplotlib.pyplot as plt\n",
    "import pandas as pd"
   ]
  },
  {
   "cell_type": "code",
   "execution_count": 19,
   "metadata": {},
   "outputs": [
    {
     "name": "stdout",
     "output_type": "stream",
     "text": [
      "     ego_ID ego.sex  ego.age  ego.arr    ego.edu  ego.inc  empl ego.empl.bin  \\\n",
      "0        28    Male     61.0   2008.0  Secondary    350.0     3          Yes   \n",
      "1        29    Male     38.0   2000.0    Primary    900.0     4          Yes   \n",
      "2        33    Male     30.0   2010.0    Primary    200.0     3          Yes   \n",
      "3        35    Male     25.0   2009.0  Secondary   1000.0     3          Yes   \n",
      "4        39    Male     29.0   2007.0    Primary      0.0     1           No   \n",
      "..      ...     ...      ...      ...        ...      ...   ...          ...   \n",
      "97      160    Male     61.0   1993.0    Primary      0.0     2           No   \n",
      "98      161    Male     34.0   2008.0    Primary    225.0     1           No   \n",
      "99      162    Male     44.0   1992.0  Secondary   1100.0     4          Yes   \n",
      "100     163    Male     50.0   2008.0    Primary    900.0     4          Yes   \n",
      "101     164    Male     28.0   2008.0  Secondary   1500.0     4          Yes   \n",
      "\n",
      "    ego.age.cat  \n",
      "0           60+  \n",
      "1         36-40  \n",
      "2         26-30  \n",
      "3         18-25  \n",
      "4         26-30  \n",
      "..          ...  \n",
      "97          60+  \n",
      "98        31-35  \n",
      "99        41-50  \n",
      "100       41-50  \n",
      "101       26-30  \n",
      "\n",
      "[102 rows x 9 columns]\n"
     ]
    }
   ],
   "source": [
    "# use pandas to import list of egos with attributes\n",
    "Egos = pd.read_csv('Ego.attr.csv', sep=';')\n",
    "print(Egos)"
   ]
  },
  {
   "cell_type": "code",
   "execution_count": 20,
   "metadata": {},
   "outputs": [
    {
     "name": "stdout",
     "output_type": "stream",
     "text": [
      "      alter_ID  ego_ID  alter_num alter.sex alter.age.cat     alter.rel  \\\n",
      "0         2801      28          1    Female         51-60  Close family   \n",
      "1         2802      28          2      Male         51-60  Other family   \n",
      "2         2803      28          3      Male         51-60  Close family   \n",
      "3         2804      28          4      Male           60+  Close family   \n",
      "4         2805      28          5    Female         41-50  Close family   \n",
      "...        ...     ...        ...       ...           ...           ...   \n",
      "4585     16441     164         41      Male         31-35       Friends   \n",
      "4586     16442     164         42    Female         26-30       Friends   \n",
      "4587     16443     164         43      Male         36-40       Friends   \n",
      "4588     16444     164         44      Male         31-35       Friends   \n",
      "4589     16445     164         45      Male         36-40       Friends   \n",
      "\n",
      "      alter.nat  alter.res  alter.clo alter.loan alter.fam  alter.age  \n",
      "0     Sri Lanka  Sri Lanka        NaN        NaN       Yes       52.0  \n",
      "1     Sri Lanka  Sri Lanka        3.0         No       Yes       54.0  \n",
      "2     Sri Lanka  Sri Lanka        NaN        NaN       Yes       56.0  \n",
      "3     Sri Lanka  Sri Lanka        NaN        NaN       Yes       63.0  \n",
      "4     Sri Lanka  Sri Lanka        NaN        NaN       Yes       47.0  \n",
      "...         ...        ...        ...        ...       ...        ...  \n",
      "4585  Sri Lanka      Italy        5.0        NaN        No       33.0  \n",
      "4586  Sri Lanka      Other        3.0        NaN        No       28.0  \n",
      "4587  Sri Lanka  Sri Lanka        5.0        NaN        No       40.0  \n",
      "4588  Sri Lanka  Sri Lanka        5.0        NaN        No       32.0  \n",
      "4589  Sri Lanka      Italy        5.0        NaN        No       40.0  \n",
      "\n",
      "[4590 rows x 12 columns]\n"
     ]
    }
   ],
   "source": [
    "# use pandas to import list of alters (of all Egos), with their attributes\n",
    "AltersAll = pd.read_csv('Alter.attr.all.csv', sep=';')\n",
    "print(AltersAll)"
   ]
  },
  {
   "cell_type": "markdown",
   "metadata": {},
   "source": [
    "## Personal network composition indicators"
   ]
  },
  {
   "cell_type": "code",
   "execution_count": 21,
   "metadata": {},
   "outputs": [
    {
     "data": {
      "text/plain": [
       "30.0"
      ]
     },
     "execution_count": 21,
     "metadata": {},
     "output_type": "execute_result"
    }
   ],
   "source": [
    "# Is the network of Ego homogeneous by age?\n",
    "# let's first look at the age of Ego\n",
    "# for example, Ego n. 33\n",
    "\n",
    "# 1st method: if I know the index of Ego 33 (here = 2), then I can use:\n",
    "Egos['ego.age'].iloc[2]\n"
   ]
  },
  {
   "cell_type": "code",
   "execution_count": 22,
   "metadata": {},
   "outputs": [
    {
     "data": {
      "text/plain": [
       "2    30.0\n",
       "Name: ego.age, dtype: float64"
      ]
     },
     "execution_count": 22,
     "metadata": {},
     "output_type": "execute_result"
    }
   ],
   "source": [
    "# 2nd method: I can use the ego_ID variable (here, = 33) to find the cell I am looking for\n",
    "Egos.loc[Egos['ego_ID'] == 33, 'ego.age']"
   ]
  },
  {
   "cell_type": "code",
   "execution_count": 23,
   "metadata": {},
   "outputs": [
    {
     "data": {
      "text/plain": [
       "37.577777777777776"
      ]
     },
     "execution_count": 23,
     "metadata": {},
     "output_type": "execute_result"
    }
   ],
   "source": [
    "# What is the average age of the alters of Ego n. 33?\n",
    "AltersAll.loc[AltersAll['ego_ID'] == 33, 'alter.age'].mean()"
   ]
  },
  {
   "cell_type": "code",
   "execution_count": null,
   "metadata": {},
   "outputs": [
    {
     "data": {
      "text/plain": [
       "116.74949494949496"
      ]
     },
     "metadata": {},
     "output_type": "display_data"
    }
   ],
   "source": [
    "# same for variance\n",
    "AltersAll.loc[AltersAll['ego_ID'] == 33, 'alter.age'].var()"
   ]
  },
  {
   "cell_type": "code",
   "execution_count": null,
   "metadata": {},
   "outputs": [
    {
     "data": {
      "text/plain": [
       "0.25    29.0\n",
       "0.50    34.0\n",
       "0.75    47.0\n",
       "Name: alter.age, dtype: float64"
      ]
     },
     "metadata": {},
     "output_type": "display_data"
    }
   ],
   "source": [
    "# same for quantiles\n",
    "AltersAll.loc[AltersAll['ego_ID'] == 33, 'alter.age'].quantile([0.25, 0.5, 0.75])"
   ]
  },
  {
   "cell_type": "markdown",
   "metadata": {},
   "source": [
    "##### We can conclude that the personal network of Ego 33 includes people who are, on average, rather close to Egos' age (only slightly older)."
   ]
  },
  {
   "cell_type": "code",
   "execution_count": 24,
   "metadata": {},
   "outputs": [
    {
     "data": {
      "text/html": [
       "<div>\n",
       "<style scoped>\n",
       "    .dataframe tbody tr th:only-of-type {\n",
       "        vertical-align: middle;\n",
       "    }\n",
       "\n",
       "    .dataframe tbody tr th {\n",
       "        vertical-align: top;\n",
       "    }\n",
       "\n",
       "    .dataframe thead th {\n",
       "        text-align: right;\n",
       "    }\n",
       "</style>\n",
       "<table border=\"1\" class=\"dataframe\">\n",
       "  <thead>\n",
       "    <tr style=\"text-align: right;\">\n",
       "      <th></th>\n",
       "      <th>ego_ID</th>\n",
       "      <th>alter.age</th>\n",
       "    </tr>\n",
       "  </thead>\n",
       "  <tbody>\n",
       "    <tr>\n",
       "      <th>0</th>\n",
       "      <td>28</td>\n",
       "      <td>49.777778</td>\n",
       "    </tr>\n",
       "    <tr>\n",
       "      <th>1</th>\n",
       "      <td>29</td>\n",
       "      <td>42.400000</td>\n",
       "    </tr>\n",
       "    <tr>\n",
       "      <th>2</th>\n",
       "      <td>33</td>\n",
       "      <td>37.577778</td>\n",
       "    </tr>\n",
       "    <tr>\n",
       "      <th>3</th>\n",
       "      <td>35</td>\n",
       "      <td>36.177778</td>\n",
       "    </tr>\n",
       "    <tr>\n",
       "      <th>4</th>\n",
       "      <td>39</td>\n",
       "      <td>39.822222</td>\n",
       "    </tr>\n",
       "    <tr>\n",
       "      <th>...</th>\n",
       "      <td>...</td>\n",
       "      <td>...</td>\n",
       "    </tr>\n",
       "    <tr>\n",
       "      <th>97</th>\n",
       "      <td>160</td>\n",
       "      <td>52.977778</td>\n",
       "    </tr>\n",
       "    <tr>\n",
       "      <th>98</th>\n",
       "      <td>161</td>\n",
       "      <td>37.777778</td>\n",
       "    </tr>\n",
       "    <tr>\n",
       "      <th>99</th>\n",
       "      <td>162</td>\n",
       "      <td>48.111111</td>\n",
       "    </tr>\n",
       "    <tr>\n",
       "      <th>100</th>\n",
       "      <td>163</td>\n",
       "      <td>46.088889</td>\n",
       "    </tr>\n",
       "    <tr>\n",
       "      <th>101</th>\n",
       "      <td>164</td>\n",
       "      <td>32.318182</td>\n",
       "    </tr>\n",
       "  </tbody>\n",
       "</table>\n",
       "<p>102 rows × 2 columns</p>\n",
       "</div>"
      ],
      "text/plain": [
       "     ego_ID  alter.age\n",
       "0        28  49.777778\n",
       "1        29  42.400000\n",
       "2        33  37.577778\n",
       "3        35  36.177778\n",
       "4        39  39.822222\n",
       "..      ...        ...\n",
       "97      160  52.977778\n",
       "98      161  37.777778\n",
       "99      162  48.111111\n",
       "100     163  46.088889\n",
       "101     164  32.318182\n",
       "\n",
       "[102 rows x 2 columns]"
      ]
     },
     "execution_count": 24,
     "metadata": {},
     "output_type": "execute_result"
    }
   ],
   "source": [
    "# OPTION: generalize this analysis to all Egos\n",
    "# Do people surround themselves with contacts of similar age?\n",
    "\n",
    "# To answer, we must first calculate the average age of the alters of each ego\n",
    "# one way is to use \"groupby\" function in pandas\n",
    "AlterAgeMean = AltersAll.groupby('ego_ID')['alter.age'].mean() # this generates the mean of alters' age for each ego\n",
    "AlterAgeMean = AlterAgeMean.reset_index() # this is just to ensure that output is a pandas dataframe\n",
    "AlterAgeMean # show result"
   ]
  },
  {
   "cell_type": "code",
   "execution_count": 28,
   "metadata": {},
   "outputs": [
    {
     "data": {
      "text/html": [
       "<div>\n",
       "<style scoped>\n",
       "    .dataframe tbody tr th:only-of-type {\n",
       "        vertical-align: middle;\n",
       "    }\n",
       "\n",
       "    .dataframe tbody tr th {\n",
       "        vertical-align: top;\n",
       "    }\n",
       "\n",
       "    .dataframe thead th {\n",
       "        text-align: right;\n",
       "    }\n",
       "</style>\n",
       "<table border=\"1\" class=\"dataframe\">\n",
       "  <thead>\n",
       "    <tr style=\"text-align: right;\">\n",
       "      <th></th>\n",
       "      <th>ego.age</th>\n",
       "      <th>ego_ID</th>\n",
       "      <th>alter.age</th>\n",
       "    </tr>\n",
       "  </thead>\n",
       "  <tbody>\n",
       "    <tr>\n",
       "      <th>0</th>\n",
       "      <td>61.0</td>\n",
       "      <td>28</td>\n",
       "      <td>49.777778</td>\n",
       "    </tr>\n",
       "    <tr>\n",
       "      <th>1</th>\n",
       "      <td>38.0</td>\n",
       "      <td>29</td>\n",
       "      <td>42.400000</td>\n",
       "    </tr>\n",
       "    <tr>\n",
       "      <th>2</th>\n",
       "      <td>30.0</td>\n",
       "      <td>33</td>\n",
       "      <td>37.577778</td>\n",
       "    </tr>\n",
       "    <tr>\n",
       "      <th>3</th>\n",
       "      <td>25.0</td>\n",
       "      <td>35</td>\n",
       "      <td>36.177778</td>\n",
       "    </tr>\n",
       "    <tr>\n",
       "      <th>4</th>\n",
       "      <td>29.0</td>\n",
       "      <td>39</td>\n",
       "      <td>39.822222</td>\n",
       "    </tr>\n",
       "    <tr>\n",
       "      <th>...</th>\n",
       "      <td>...</td>\n",
       "      <td>...</td>\n",
       "      <td>...</td>\n",
       "    </tr>\n",
       "    <tr>\n",
       "      <th>97</th>\n",
       "      <td>61.0</td>\n",
       "      <td>160</td>\n",
       "      <td>52.977778</td>\n",
       "    </tr>\n",
       "    <tr>\n",
       "      <th>98</th>\n",
       "      <td>34.0</td>\n",
       "      <td>161</td>\n",
       "      <td>37.777778</td>\n",
       "    </tr>\n",
       "    <tr>\n",
       "      <th>99</th>\n",
       "      <td>44.0</td>\n",
       "      <td>162</td>\n",
       "      <td>48.111111</td>\n",
       "    </tr>\n",
       "    <tr>\n",
       "      <th>100</th>\n",
       "      <td>50.0</td>\n",
       "      <td>163</td>\n",
       "      <td>46.088889</td>\n",
       "    </tr>\n",
       "    <tr>\n",
       "      <th>101</th>\n",
       "      <td>28.0</td>\n",
       "      <td>164</td>\n",
       "      <td>32.318182</td>\n",
       "    </tr>\n",
       "  </tbody>\n",
       "</table>\n",
       "<p>102 rows × 3 columns</p>\n",
       "</div>"
      ],
      "text/plain": [
       "     ego.age  ego_ID  alter.age\n",
       "0       61.0      28  49.777778\n",
       "1       38.0      29  42.400000\n",
       "2       30.0      33  37.577778\n",
       "3       25.0      35  36.177778\n",
       "4       29.0      39  39.822222\n",
       "..       ...     ...        ...\n",
       "97      61.0     160  52.977778\n",
       "98      34.0     161  37.777778\n",
       "99      44.0     162  48.111111\n",
       "100     50.0     163  46.088889\n",
       "101     28.0     164  32.318182\n",
       "\n",
       "[102 rows x 3 columns]"
      ]
     },
     "execution_count": 28,
     "metadata": {},
     "output_type": "execute_result"
    }
   ],
   "source": [
    "# OPTION (CONT.): To compare the age of ego to the average age of his/her alters, for all egos,\n",
    "# we can put together a new file with ego's age and the average age of his/her alters\n",
    "frames = [Egos['ego.age'], AlterAgeMean] # select the objects we want fropm two different dataframes\n",
    "Age = pd.concat(frames, axis=1) # Merges multiple dataFrame objects\n",
    "Age # view result"
   ]
  },
  {
   "cell_type": "code",
   "execution_count": null,
   "metadata": {},
   "outputs": [
    {
     "name": "stdout",
     "output_type": "stream",
     "text": [
      "-0.7640164016401647\n",
      "54.240349226639864\n"
     ]
    }
   ],
   "source": [
    "# OPTION (CONT.) We can now look at the difference between ego's age and the average age of his/her alters\n",
    "Age['age.diff'] = Age['ego.age'] - Age['alter.age'] # create a new column with this value\n",
    "print(Age['age.diff'].mean()) # show mean of the difference\n",
    "print(Age['age.diff'].var()) # show variance\n",
    "# this helps to see whether overall, these ego networks are homogenous with respect to age"
   ]
  },
  {
   "cell_type": "markdown",
   "metadata": {},
   "source": [
    "##### We can conclude that the Egos in this dataset have alters of similar age on average. "
   ]
  },
  {
   "cell_type": "code",
   "execution_count": null,
   "metadata": {},
   "outputs": [
    {
     "data": {
      "text/plain": [
       "'Male'"
      ]
     },
     "metadata": {},
     "output_type": "display_data"
    }
   ],
   "source": [
    "# Let's now look at a binary variable, for ex. gender\n",
    "# Is the network of Ego 33 homogeneous by gender?\n",
    "# Let's first look at the gender of Ego 33:\n",
    "Egos['ego.sex'].iloc[2]"
   ]
  },
  {
   "cell_type": "code",
   "execution_count": null,
   "metadata": {},
   "outputs": [
    {
     "data": {
      "text/plain": [
       "alter.sex\n",
       "Male      0.622222\n",
       "Female    0.377778\n",
       "Name: proportion, dtype: float64"
      ]
     },
     "metadata": {},
     "output_type": "display_data"
    }
   ],
   "source": [
    "# Let's look at the gender of his alters\n",
    "AltersAll.loc[AltersAll['ego_ID'] == 33, 'alter.sex'].value_counts(normalize=True)"
   ]
  },
  {
   "cell_type": "code",
   "execution_count": null,
   "metadata": {},
   "outputs": [
    {
     "data": {
      "text/plain": [
       "ego.sex\n",
       "Male    1.0\n",
       "Name: proportion, dtype: float64"
      ]
     },
     "metadata": {},
     "output_type": "display_data"
    }
   ],
   "source": [
    "# OPTION: generalize this analysis to all Egos\n",
    "# Do people surround themselves with contacts of similar sex?\n",
    "\n",
    "# First, what is the sex of Egos?\n",
    "Egos['ego.sex'].value_counts(normalize=True)"
   ]
  },
  {
   "cell_type": "code",
   "execution_count": null,
   "metadata": {},
   "outputs": [
    {
     "data": {
      "text/html": [
       "<div>\n",
       "<style scoped>\n",
       "    .dataframe tbody tr th:only-of-type {\n",
       "        vertical-align: middle;\n",
       "    }\n",
       "\n",
       "    .dataframe tbody tr th {\n",
       "        vertical-align: top;\n",
       "    }\n",
       "\n",
       "    .dataframe thead th {\n",
       "        text-align: right;\n",
       "    }\n",
       "</style>\n",
       "<table border=\"1\" class=\"dataframe\">\n",
       "  <thead>\n",
       "    <tr style=\"text-align: right;\">\n",
       "      <th></th>\n",
       "      <th>ego_ID</th>\n",
       "      <th>alter.sex</th>\n",
       "      <th>proportion</th>\n",
       "    </tr>\n",
       "  </thead>\n",
       "  <tbody>\n",
       "    <tr>\n",
       "      <th>0</th>\n",
       "      <td>28</td>\n",
       "      <td>Male</td>\n",
       "      <td>0.822222</td>\n",
       "    </tr>\n",
       "    <tr>\n",
       "      <th>1</th>\n",
       "      <td>28</td>\n",
       "      <td>Female</td>\n",
       "      <td>0.177778</td>\n",
       "    </tr>\n",
       "    <tr>\n",
       "      <th>2</th>\n",
       "      <td>29</td>\n",
       "      <td>Male</td>\n",
       "      <td>0.911111</td>\n",
       "    </tr>\n",
       "    <tr>\n",
       "      <th>3</th>\n",
       "      <td>29</td>\n",
       "      <td>Female</td>\n",
       "      <td>0.088889</td>\n",
       "    </tr>\n",
       "    <tr>\n",
       "      <th>4</th>\n",
       "      <td>33</td>\n",
       "      <td>Male</td>\n",
       "      <td>0.622222</td>\n",
       "    </tr>\n",
       "    <tr>\n",
       "      <th>...</th>\n",
       "      <td>...</td>\n",
       "      <td>...</td>\n",
       "      <td>...</td>\n",
       "    </tr>\n",
       "    <tr>\n",
       "      <th>199</th>\n",
       "      <td>162</td>\n",
       "      <td>Female</td>\n",
       "      <td>0.288889</td>\n",
       "    </tr>\n",
       "    <tr>\n",
       "      <th>200</th>\n",
       "      <td>163</td>\n",
       "      <td>Male</td>\n",
       "      <td>0.666667</td>\n",
       "    </tr>\n",
       "    <tr>\n",
       "      <th>201</th>\n",
       "      <td>163</td>\n",
       "      <td>Female</td>\n",
       "      <td>0.333333</td>\n",
       "    </tr>\n",
       "    <tr>\n",
       "      <th>202</th>\n",
       "      <td>164</td>\n",
       "      <td>Male</td>\n",
       "      <td>0.688889</td>\n",
       "    </tr>\n",
       "    <tr>\n",
       "      <th>203</th>\n",
       "      <td>164</td>\n",
       "      <td>Female</td>\n",
       "      <td>0.311111</td>\n",
       "    </tr>\n",
       "  </tbody>\n",
       "</table>\n",
       "<p>204 rows × 3 columns</p>\n",
       "</div>"
      ],
      "text/plain": [
       "     ego_ID alter.sex  proportion\n",
       "0        28      Male    0.822222\n",
       "1        28    Female    0.177778\n",
       "2        29      Male    0.911111\n",
       "3        29    Female    0.088889\n",
       "4        33      Male    0.622222\n",
       "..      ...       ...         ...\n",
       "199     162    Female    0.288889\n",
       "200     163      Male    0.666667\n",
       "201     163    Female    0.333333\n",
       "202     164      Male    0.688889\n",
       "203     164    Female    0.311111\n",
       "\n",
       "[204 rows x 3 columns]"
      ]
     },
     "metadata": {},
     "output_type": "display_data"
    }
   ],
   "source": [
    "# OPTION (CONT.): \n",
    "# Egos are all men!\n",
    "# We must now look at the proportions of women and men from among the alters of each ego\n",
    "# one way is to use \"groupby\" function in pandas (as above)\n",
    "AlterSexProp = AltersAll.groupby('ego_ID')['alter.sex'].value_counts(normalize=True) # this generates the proportions for each ego\n",
    "AlterSexProp = AlterSexProp.reset_index() # this is just to ensure that output is a pandas dataframe\n",
    "AlterSexProp # show result"
   ]
  },
  {
   "cell_type": "code",
   "execution_count": null,
   "metadata": {},
   "outputs": [
    {
     "data": {
      "text/plain": [
       "0.717429193899782"
      ]
     },
     "metadata": {},
     "output_type": "display_data"
    }
   ],
   "source": [
    "# OPTION (CONT.): What is, on average, the proportion of men among the alters of each ego?\n",
    "AlterSexProp.loc[AlterSexProp['alter.sex'] == 'Male', 'proportion'].mean()"
   ]
  },
  {
   "cell_type": "markdown",
   "metadata": {},
   "source": [
    "##### So, all egos are men and on average, slightly over 70% of their alters are also men. These are very homogeneous (with respect to this variable) personal networks. It may be a result of the specific situation of these people (migrants).\n",
    "##### One could do further analyses, not shown here, to better understand this result: for example, are the female alters also family members? Are they mostly based in the destination country (Italy) or in the origin country (Sri Lanka)?"
   ]
  },
  {
   "cell_type": "code",
   "execution_count": 25,
   "metadata": {},
   "outputs": [
    {
     "data": {
      "text/plain": [
       "0.7022222222222223"
      ]
     },
     "execution_count": 25,
     "metadata": {},
     "output_type": "execute_result"
    }
   ],
   "source": [
    "# Let's now look at the case of categorical variables with more than 2 categories, \n",
    "# for ex. type of alter relationships\n",
    "\n",
    "# First, define a function that calculate the Blau index\n",
    "def blau(df,col):\n",
    "    return(1 - ((df[col].value_counts() / df[col].count())**2).sum())\n",
    "\n",
    "# then apply the function to the case of Ego 33\n",
    "blau(AltersAll.loc[AltersAll['ego_ID'] == 33], 'alter.rel')"
   ]
  },
  {
   "cell_type": "code",
   "execution_count": 26,
   "metadata": {},
   "outputs": [
    {
     "data": {
      "text/plain": [
       "array(['Close family', 'Other family', 'Friends', 'Acquaintances'],\n",
       "      dtype=object)"
      ]
     },
     "execution_count": 26,
     "metadata": {},
     "output_type": "execute_result"
    }
   ],
   "source": [
    "# What are the existing categories?\n",
    "AltersAll['alter.rel'].unique()"
   ]
  },
  {
   "cell_type": "code",
   "execution_count": 27,
   "metadata": {},
   "outputs": [
    {
     "data": {
      "text/plain": [
       "0.9362962962962964"
      ]
     },
     "execution_count": 27,
     "metadata": {},
     "output_type": "execute_result"
    }
   ],
   "source": [
    "# IQV is normalized Blau\n",
    "blau(AltersAll.loc[AltersAll['ego_ID'] == 33], 'alter.rel')*4/3"
   ]
  },
  {
   "cell_type": "markdown",
   "metadata": {},
   "source": [
    "## Structure"
   ]
  },
  {
   "cell_type": "code",
   "execution_count": 32,
   "metadata": {},
   "outputs": [
    {
     "data": {
      "text/html": [
       "<div>\n",
       "<style scoped>\n",
       "    .dataframe tbody tr th:only-of-type {\n",
       "        vertical-align: middle;\n",
       "    }\n",
       "\n",
       "    .dataframe tbody tr th {\n",
       "        vertical-align: top;\n",
       "    }\n",
       "\n",
       "    .dataframe thead th {\n",
       "        text-align: right;\n",
       "    }\n",
       "</style>\n",
       "<table border=\"1\" class=\"dataframe\">\n",
       "  <thead>\n",
       "    <tr style=\"text-align: right;\">\n",
       "      <th></th>\n",
       "      <th>V1</th>\n",
       "      <th>V2</th>\n",
       "    </tr>\n",
       "  </thead>\n",
       "  <tbody>\n",
       "    <tr>\n",
       "      <th>0</th>\n",
       "      <td>3301</td>\n",
       "      <td>3302</td>\n",
       "    </tr>\n",
       "    <tr>\n",
       "      <th>1</th>\n",
       "      <td>3301</td>\n",
       "      <td>3303</td>\n",
       "    </tr>\n",
       "    <tr>\n",
       "      <th>2</th>\n",
       "      <td>3301</td>\n",
       "      <td>3304</td>\n",
       "    </tr>\n",
       "    <tr>\n",
       "      <th>3</th>\n",
       "      <td>3301</td>\n",
       "      <td>3305</td>\n",
       "    </tr>\n",
       "    <tr>\n",
       "      <th>4</th>\n",
       "      <td>3301</td>\n",
       "      <td>3306</td>\n",
       "    </tr>\n",
       "    <tr>\n",
       "      <th>...</th>\n",
       "      <td>...</td>\n",
       "      <td>...</td>\n",
       "    </tr>\n",
       "    <tr>\n",
       "      <th>202</th>\n",
       "      <td>3339</td>\n",
       "      <td>3340</td>\n",
       "    </tr>\n",
       "    <tr>\n",
       "      <th>203</th>\n",
       "      <td>3339</td>\n",
       "      <td>3345</td>\n",
       "    </tr>\n",
       "    <tr>\n",
       "      <th>204</th>\n",
       "      <td>3340</td>\n",
       "      <td>3345</td>\n",
       "    </tr>\n",
       "    <tr>\n",
       "      <th>205</th>\n",
       "      <td>3341</td>\n",
       "      <td>3342</td>\n",
       "    </tr>\n",
       "    <tr>\n",
       "      <th>206</th>\n",
       "      <td>3343</td>\n",
       "      <td>3344</td>\n",
       "    </tr>\n",
       "  </tbody>\n",
       "</table>\n",
       "<p>207 rows × 2 columns</p>\n",
       "</div>"
      ],
      "text/plain": [
       "       V1    V2\n",
       "0    3301  3302\n",
       "1    3301  3303\n",
       "2    3301  3304\n",
       "3    3301  3305\n",
       "4    3301  3306\n",
       "..    ...   ...\n",
       "202  3339  3340\n",
       "203  3339  3345\n",
       "204  3340  3345\n",
       "205  3341  3342\n",
       "206  3343  3344\n",
       "\n",
       "[207 rows x 2 columns]"
      ]
     },
     "execution_count": 32,
     "metadata": {},
     "output_type": "execute_result"
    }
   ],
   "source": [
    "# use pandas to import edgelist (of Ego 33) as a table\n",
    "EgoEdges33 = pd.read_table('EgoNets_All\\EgoNet.33.csv', sep=',')\n",
    "EgoEdges33 = EgoEdges33[['V1','V2']] # selects relevant columns (removing an unnecessary index column)\n",
    "EgoEdges33 # view result"
   ]
  },
  {
   "cell_type": "code",
   "execution_count": 33,
   "metadata": {},
   "outputs": [
    {
     "name": "stdout",
     "output_type": "stream",
     "text": [
      "Graph with 44 nodes and 207 edges\n"
     ]
    }
   ],
   "source": [
    "# generate graph from pandas edgelist\n",
    "# it is an undirected graph\n",
    "\n",
    "EgoNet33 = nx.from_pandas_edgelist(EgoEdges33, 'V1', 'V2', create_using=nx.Graph()) \n",
    "print(EgoNet33)"
   ]
  },
  {
   "cell_type": "code",
   "execution_count": 34,
   "metadata": {},
   "outputs": [],
   "source": [
    "# match nodes of graph with attributes of nodes\n",
    "Alters33 = AltersAll.loc[AltersAll['ego_ID'] == 33] # select only the alters if Ego 33\n",
    "NodeData33 = Alters33.set_index('alter_ID').to_dict('index').items() # Dictionary format\n",
    "EgoNet33.add_nodes_from(NodeData33) # add attributes to graph"
   ]
  },
  {
   "cell_type": "code",
   "execution_count": 35,
   "metadata": {},
   "outputs": [
    {
     "data": {
      "image/png": "[encoded data removed]",
      "text/plain": [
       "<Figure size 640x480 with 1 Axes>"
      ]
     },
     "metadata": {},
     "output_type": "display_data"
    }
   ],
   "source": [
    "# Draw graph\n",
    "nx.draw(EgoNet33)\n",
    "plt.show()\n",
    "# here, visualisation serves to support reasoning - I am not trying to make it beautiful (use Gephi for that)"
   ]
  },
  {
   "cell_type": "code",
   "execution_count": 36,
   "metadata": {},
   "outputs": [
    {
     "data": {
      "text/plain": [
       "[3333]"
      ]
     },
     "execution_count": 36,
     "metadata": {},
     "output_type": "execute_result"
    }
   ],
   "source": [
    "# There seem to be isolates \n",
    "list(nx.isolates(EgoNet33))"
   ]
  },
  {
   "cell_type": "code",
   "execution_count": 37,
   "metadata": {},
   "outputs": [
    {
     "data": {
      "text/plain": [
       "7"
      ]
     },
     "execution_count": 37,
     "metadata": {},
     "output_type": "execute_result"
    }
   ],
   "source": [
    "# and very small components\n",
    "nx.number_connected_components(EgoNet33)"
   ]
  },
  {
   "cell_type": "code",
   "execution_count": 38,
   "metadata": {},
   "outputs": [
    {
     "data": {
      "text/plain": [
       "[{3301,\n",
       "  3302,\n",
       "  3303,\n",
       "  3304,\n",
       "  3305,\n",
       "  3306,\n",
       "  3307,\n",
       "  3308,\n",
       "  3309,\n",
       "  3310,\n",
       "  3311,\n",
       "  3312,\n",
       "  3313,\n",
       "  3314,\n",
       "  3315,\n",
       "  3316,\n",
       "  3317,\n",
       "  3318,\n",
       "  3319,\n",
       "  3320,\n",
       "  3321,\n",
       "  3322,\n",
       "  3323,\n",
       "  3324,\n",
       "  3325},\n",
       " {3326, 3327, 3328, 3329, 3330, 3331, 3332},\n",
       " {3334, 3335},\n",
       " {3336, 3337, 3338, 3339, 3340, 3345},\n",
       " {3341, 3342},\n",
       " {3343, 3344},\n",
       " {3333}]"
      ]
     },
     "execution_count": 38,
     "metadata": {},
     "output_type": "execute_result"
    }
   ],
   "source": [
    "# Which are these components?\n",
    "list(nx.connected_components(EgoNet33))"
   ]
  },
  {
   "cell_type": "code",
   "execution_count": 39,
   "metadata": {},
   "outputs": [
    {
     "name": "stdout",
     "output_type": "stream",
     "text": [
      "Italy\n",
      "Italy\n",
      "Italy\n",
      "Italy\n",
      "Italy\n",
      "Italy\n",
      "Italy\n"
     ]
    }
   ],
   "source": [
    "# Are those in smaller components residents of the destination country (Italy)?\n",
    "residence = nx.get_node_attributes(EgoNet33,'alter.res')\n",
    "# to view the value for the isolate node (n. 3333)\n",
    "print(residence[3333])\n",
    "# and for those in small components\n",
    "print(residence[3343])\n",
    "print(residence[3344])\n",
    "print(residence[3342])\n",
    "print(residence[3341])\n",
    "print(residence[3334])\n",
    "print(residence[3335])"
   ]
  },
  {
   "cell_type": "code",
   "execution_count": 40,
   "metadata": {},
   "outputs": [
    {
     "data": {
      "image/png": "[encoded data removed]",
      "text/plain": [
       "<Figure size 640x480 with 1 Axes>"
      ]
     },
     "metadata": {},
     "output_type": "display_data"
    }
   ],
   "source": [
    "# It seems that the least connected alters live in the destination country\n",
    "# How general is this?\n",
    "\n",
    "# OPTION: see this visually\n",
    "\n",
    "# create empty list for node colors\n",
    "node_color = []\n",
    "\n",
    "# for each alter in the ego net of n. 33\n",
    "for node in EgoNet33.nodes(data=True):\n",
    "\n",
    "    # if the node lives in Sri Lanka\n",
    "    if node[1]['alter.res']=='Sri Lanka':\n",
    "        node_color.append('blue')\n",
    "        \n",
    "    # if the node lives in Italy\n",
    "    elif node[1]['alter.res']=='Italy':\n",
    "        node_color.append('red')\n",
    "\n",
    "    # if the node lives elsewhere\n",
    "    elif node[1]['alter.res']=='Other':\n",
    "        node_color.append('black')\n",
    "\n",
    "# draw graph with node attribute color\n",
    "nx.draw(EgoNet33, node_color=node_color)\n",
    "\n",
    "# again, visualisation serves to support reasoning - I am not trying to make it beautiful (use Gephi for that)"
   ]
  },
  {
   "cell_type": "code",
   "execution_count": null,
   "metadata": {},
   "outputs": [
    {
     "data": {
      "text/plain": [
       "2010.0"
      ]
     },
     "metadata": {},
     "output_type": "display_data"
    }
   ],
   "source": [
    "# The result is a very sparse and rather diverse network, with alters both in Sri Lanka and Italy.\n",
    "# Ego n. 33 arrived in Italy only 2 years before data collection (which was in 2012):\n",
    "Egos['ego.arr'].iloc[2]"
   ]
  },
  {
   "cell_type": "markdown",
   "metadata": {},
   "source": [
    "##### Last week, we examined the network of Ego 28 who had arrived in Italy earlier, and therefore had more time to adjust his relationships. Compared to 33, the network of 28 was much denser (it formed a single connected component)."
   ]
  },
  {
   "cell_type": "markdown",
   "metadata": {},
   "source": [
    "##### Because this particular ego-network consists of several components, and it is of small size, some measures cannot be calculated (for ex. diameter) while others are not very interesting because values will be very low (for ex. clustering coefficient). For this reason, I focused here on components. You should consider the characteristics of the Ego network you are examining before deciding which structural measures to compute. "
   ]
  },
  {
   "cell_type": "code",
   "execution_count": null,
   "metadata": {},
   "outputs": [],
   "source": []
  }
 ],
 "metadata": {
  "kernelspec": {
   "display_name": "Python 3 (ipykernel)",
   "language": "python",
   "name": "python3"
  },
  "language_info": {
   "codemirror_mode": {
    "name": "ipython",
    "version": 3
   },
   "file_extension": ".py",
   "mimetype": "text/x-python",
   "name": "python",
   "nbconvert_exporter": "python",
   "pygments_lexer": "ipython3",
   "version": "3.9.0"
  }
 },
 "nbformat": 4,
 "nbformat_minor": 4
}
