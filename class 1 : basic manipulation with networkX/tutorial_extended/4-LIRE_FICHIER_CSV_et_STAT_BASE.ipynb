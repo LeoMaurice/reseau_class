{
 "cells": [
  {
   "cell_type": "markdown",
   "metadata": {},
   "source": [
    "https://data.enseignementsup-recherche.gouv.fr/explore/dataset/fr-esr-sise-effectifs-d-etudiants-inscrits-esr-public/information/?sort=effectif_sans_cpge&refine.etablissement_lib=Université+Paris-Sorbonne"
   ]
  },
  {
   "cell_type": "markdown",
   "metadata": {},
   "source": [
    "# LIRE UN FICHIER CSV"
   ]
  },
  {
   "cell_type": "markdown",
   "metadata": {},
   "source": [
    "Pandas est la biblioteque pour traiter les tableaux. C'est le moyen le plus direct d'ouvrir les fichiers csv. Pour l'instant, nous ne l'utiliserons que pour la lecture. Dans les prochaines seances nous l'utiliserons pour le traitement des données."
   ]
  },
  {
   "cell_type": "code",
   "execution_count": 40,
   "metadata": {},
   "outputs": [],
   "source": [
    "import pandas as pd"
   ]
  },
  {
   "cell_type": "code",
   "execution_count": 41,
   "metadata": {},
   "outputs": [],
   "source": [
    "df=pd.read_csv('Nombre_inscrits_lettre_universites.csv')"
   ]
  },
  {
   "cell_type": "code",
   "execution_count": 44,
   "metadata": {},
   "outputs": [
    {
     "data": {
      "text/html": [
       "<div>\n",
       "<style scoped>\n",
       "    .dataframe tbody tr th:only-of-type {\n",
       "        vertical-align: middle;\n",
       "    }\n",
       "\n",
       "    .dataframe tbody tr th {\n",
       "        vertical-align: top;\n",
       "    }\n",
       "\n",
       "    .dataframe thead th {\n",
       "        text-align: right;\n",
       "    }\n",
       "</style>\n",
       "<table border=\"1\" class=\"dataframe\">\n",
       "  <thead>\n",
       "    <tr style=\"text-align: right;\">\n",
       "      <th></th>\n",
       "      <th>Etablissement</th>\n",
       "      <th>N_inscrits</th>\n",
       "    </tr>\n",
       "  </thead>\n",
       "  <tbody>\n",
       "    <tr>\n",
       "      <th>0</th>\n",
       "      <td>Aix-Marseille Université</td>\n",
       "      <td>10992</td>\n",
       "    </tr>\n",
       "    <tr>\n",
       "      <th>1</th>\n",
       "      <td>Avignon Université</td>\n",
       "      <td>1063</td>\n",
       "    </tr>\n",
       "    <tr>\n",
       "      <th>2</th>\n",
       "      <td>Bordeaux INP</td>\n",
       "      <td>12</td>\n",
       "    </tr>\n",
       "    <tr>\n",
       "      <th>3</th>\n",
       "      <td>Centrale Lyon</td>\n",
       "      <td>9</td>\n",
       "    </tr>\n",
       "    <tr>\n",
       "      <th>4</th>\n",
       "      <td>Centrale Nantes</td>\n",
       "      <td>22</td>\n",
       "    </tr>\n",
       "    <tr>\n",
       "      <th>5</th>\n",
       "      <td>CentraleSupélec</td>\n",
       "      <td>149</td>\n",
       "    </tr>\n",
       "    <tr>\n",
       "      <th>6</th>\n",
       "      <td>Centre universitaire de Mayotte</td>\n",
       "      <td>216</td>\n",
       "    </tr>\n",
       "    <tr>\n",
       "      <th>7</th>\n",
       "      <td>Institut national des langues et civilisations...</td>\n",
       "      <td>100</td>\n",
       "    </tr>\n",
       "    <tr>\n",
       "      <th>8</th>\n",
       "      <td>Institut national des sciences appliquées Cent...</td>\n",
       "      <td>91</td>\n",
       "    </tr>\n",
       "    <tr>\n",
       "      <th>9</th>\n",
       "      <td>Institut national des sciences appliquées de Lyon</td>\n",
       "      <td>11</td>\n",
       "    </tr>\n",
       "    <tr>\n",
       "      <th>10</th>\n",
       "      <td>Institut national des sciences appliquées de R...</td>\n",
       "      <td>2</td>\n",
       "    </tr>\n",
       "    <tr>\n",
       "      <th>11</th>\n",
       "      <td>Institut national des sciences appliquées de S...</td>\n",
       "      <td>259</td>\n",
       "    </tr>\n",
       "    <tr>\n",
       "      <th>12</th>\n",
       "      <td>Institut national des sciences appliquées de T...</td>\n",
       "      <td>1</td>\n",
       "    </tr>\n",
       "    <tr>\n",
       "      <th>13</th>\n",
       "      <td>Institut national universitaire Jean-François ...</td>\n",
       "      <td>904</td>\n",
       "    </tr>\n",
       "    <tr>\n",
       "      <th>14</th>\n",
       "      <td>Institut polytechnique de Grenoble</td>\n",
       "      <td>53</td>\n",
       "    </tr>\n",
       "    <tr>\n",
       "      <th>15</th>\n",
       "      <td>La Rochelle Université</td>\n",
       "      <td>798</td>\n",
       "    </tr>\n",
       "    <tr>\n",
       "      <th>16</th>\n",
       "      <td>Languedoc-Roussillon Universités</td>\n",
       "      <td>3138</td>\n",
       "    </tr>\n",
       "    <tr>\n",
       "      <th>17</th>\n",
       "      <td>Le Mans Université</td>\n",
       "      <td>910</td>\n",
       "    </tr>\n",
       "    <tr>\n",
       "      <th>18</th>\n",
       "      <td>Lille Nord de France</td>\n",
       "      <td>5599</td>\n",
       "    </tr>\n",
       "    <tr>\n",
       "      <th>19</th>\n",
       "      <td>Muséum national d'histoire naturelle</td>\n",
       "      <td>125</td>\n",
       "    </tr>\n",
       "  </tbody>\n",
       "</table>\n",
       "</div>"
      ],
      "text/plain": [
       "                                        Etablissement  N_inscrits\n",
       "0                            Aix-Marseille Université       10992\n",
       "1                                  Avignon Université        1063\n",
       "2                                        Bordeaux INP          12\n",
       "3                                       Centrale Lyon           9\n",
       "4                                     Centrale Nantes          22\n",
       "5                                     CentraleSupélec         149\n",
       "6                     Centre universitaire de Mayotte         216\n",
       "7   Institut national des langues et civilisations...         100\n",
       "8   Institut national des sciences appliquées Cent...          91\n",
       "9   Institut national des sciences appliquées de Lyon          11\n",
       "10  Institut national des sciences appliquées de R...           2\n",
       "11  Institut national des sciences appliquées de S...         259\n",
       "12  Institut national des sciences appliquées de T...           1\n",
       "13  Institut national universitaire Jean-François ...         904\n",
       "14                 Institut polytechnique de Grenoble          53\n",
       "15                             La Rochelle Université         798\n",
       "16                   Languedoc-Roussillon Universités        3138\n",
       "17                                 Le Mans Université         910\n",
       "18                               Lille Nord de France        5599\n",
       "19               Muséum national d'histoire naturelle         125"
      ]
     },
     "execution_count": 44,
     "metadata": {},
     "output_type": "execute_result"
    }
   ],
   "source": [
    "df.head(20)"
   ]
  },
  {
   "cell_type": "markdown",
   "metadata": {},
   "source": [
    "Nous créons une liste contenant les valeurs de la colonne 'N_inscrits'."
   ]
  },
  {
   "cell_type": "code",
   "execution_count": 45,
   "metadata": {},
   "outputs": [],
   "source": [
    "nInscr=list(df['N_inscrits'])"
   ]
  },
  {
   "cell_type": "code",
   "execution_count": 48,
   "metadata": {},
   "outputs": [
    {
     "name": "stdout",
     "output_type": "stream",
     "text": [
      "[10992, 1063, 12, 9, 22, 149, 216, 100, 91, 11, 2, 259, 1, 904, 53, 798, 3138, 910, 5599, 125, 341, 100, 12, 12, 6085, 2591, 526, 4881, 4529, 173, 8987, 1667, 2844, 1023, 1768, 9725, 12801, 6522, 489, 10822, 9957, 274, 5727, 3737, 8886, 7397, 2265, 684, 10962, 112, 9114, 13, 9271, 2294, 2202, 3696, 18160, 259, 920, 5485, 987, 2569, 815, 6725, 6184, 2360, 5918, 6073, 1075, 4187, 1217, 895, 2620, 2426, 8917, 332, 8561, 1343, 1117, 1112, 5684, 5135, 3817, 604, 6148, 9618, 577, 4613, 990, 717, 599, 8, 26, 228, 1843, 1108, 182, 2177, 146, 241, 515, 177, 480, 743]\n"
     ]
    }
   ],
   "source": [
    "print(nInscr)"
   ]
  },
  {
   "cell_type": "markdown",
   "metadata": {},
   "source": [
    "Nombre d'éléments, maximum, minimum"
   ]
  },
  {
   "cell_type": "code",
   "execution_count": 53,
   "metadata": {},
   "outputs": [
    {
     "name": "stdout",
     "output_type": "stream",
     "text": [
      "La liste contient 104 elements\n"
     ]
    }
   ],
   "source": [
    "ll=len(nInscr)\n",
    "print('La liste contient '+str(ll)+' elements')"
   ]
  },
  {
   "cell_type": "code",
   "execution_count": 54,
   "metadata": {},
   "outputs": [
    {
     "name": "stdout",
     "output_type": "stream",
     "text": [
      "L'etablissement avec moins d'étudiants a 1 inscrits\n"
     ]
    }
   ],
   "source": [
    "minim=min(nInscr)\n",
    "print('L\\'etablissement avec moins d\\'étudiants a '+str(minim)+' inscrits')"
   ]
  },
  {
   "cell_type": "code",
   "execution_count": 55,
   "metadata": {},
   "outputs": [
    {
     "name": "stdout",
     "output_type": "stream",
     "text": [
      "L'etablissement avec plus d'étudiants a 18160 inscrits\n"
     ]
    }
   ],
   "source": [
    "maximum=max(nInscr)\n",
    "print('L\\'etablissement avec plus d\\'étudiants a '+str(maximum)+' inscrits')"
   ]
  },
  {
   "cell_type": "markdown",
   "metadata": {},
   "source": [
    "# STATISTIQUE DE BASE AVEC NUMPY"
   ]
  },
  {
   "cell_type": "code",
   "execution_count": 56,
   "metadata": {},
   "outputs": [],
   "source": [
    "import numpy as np"
   ]
  },
  {
   "cell_type": "code",
   "execution_count": 57,
   "metadata": {},
   "outputs": [
    {
     "name": "stdout",
     "output_type": "stream",
     "text": [
      "3015.153846153846\n",
      "1110.0\n",
      "3642.5197237447906\n"
     ]
    }
   ],
   "source": [
    "#valeur MOYENNE\n",
    "print(np.mean(nInscr))\n",
    "#valeur MEDIAN\n",
    "print(np.median(nInscr))\n",
    "#ecart type\n",
    "print(np.std(nInscr))"
   ]
  },
  {
   "cell_type": "markdown",
   "metadata": {},
   "source": [
    "# PREMIERS VISUALISATIONS"
   ]
  },
  {
   "cell_type": "code",
   "execution_count": 58,
   "metadata": {},
   "outputs": [],
   "source": [
    "import matplotlib.pyplot as plt"
   ]
  },
  {
   "cell_type": "markdown",
   "metadata": {},
   "source": [
    "BOXPLOT"
   ]
  },
  {
   "cell_type": "code",
   "execution_count": 75,
   "metadata": {},
   "outputs": [
    {
     "data": {
      "image/png": "[encoded data removed]",
      "text/plain": [
       "<Figure size 432x288 with 1 Axes>"
      ]
     },
     "metadata": {
      "needs_background": "light"
     },
     "output_type": "display_data"
    }
   ],
   "source": [
    "plt.boxplot(nInscr,showmeans=True)\n",
    "plt.show()"
   ]
  },
  {
   "cell_type": "markdown",
   "metadata": {},
   "source": [
    "HISTOGRAM"
   ]
  },
  {
   "cell_type": "code",
   "execution_count": 61,
   "metadata": {},
   "outputs": [
    {
     "data": {
      "image/png": "[encoded data removed]",
      "text/plain": [
       "<Figure size 432x288 with 1 Axes>"
      ]
     },
     "metadata": {
      "needs_background": "light"
     },
     "output_type": "display_data"
    }
   ],
   "source": [
    "plt.hist(nInscr)\n",
    "plt.show()"
   ]
  },
  {
   "cell_type": "markdown",
   "metadata": {},
   "source": [
    "un peu plus joli...`"
   ]
  },
  {
   "cell_type": "code",
   "execution_count": 74,
   "metadata": {},
   "outputs": [
    {
     "data": {
      "image/png": "[encoded data removed]",
      "text/plain": [
       "<Figure size 432x288 with 1 Axes>"
      ]
     },
     "metadata": {
      "needs_background": "light"
     },
     "output_type": "display_data"
    }
   ],
   "source": [
    "plt.hist(nInscr, color = \"orange\", ec=\"black\",alpha=0.7,lw=3)\n",
    "plt.xlabel('nombre d\\'inscrits')\n",
    "plt.show()"
   ]
  },
  {
   "cell_type": "code",
   "execution_count": null,
   "metadata": {},
   "outputs": [],
   "source": []
  }
 ],
 "metadata": {
  "kernelspec": {
   "display_name": "Python 3",
   "language": "python",
   "name": "python3"
  },
  "language_info": {
   "codemirror_mode": {
    "name": "ipython",
    "version": 3
   },
   "file_extension": ".py",
   "mimetype": "text/x-python",
   "name": "python",
   "nbconvert_exporter": "python",
   "pygments_lexer": "ipython3",
   "version": "3.8.3"
  }
 },
 "nbformat": 4,
 "nbformat_minor": 4
}
