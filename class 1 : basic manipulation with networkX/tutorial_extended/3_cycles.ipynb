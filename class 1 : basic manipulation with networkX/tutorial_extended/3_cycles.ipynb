{
 "cells": [
  {
   "cell_type": "markdown",
   "metadata": {},
   "source": [
    "# CYCLES"
   ]
  },
  {
   "cell_type": "markdown",
   "metadata": {},
   "source": [
    "En python, nous pouvons importer des bibliothèques (un ensemble de fonctionnes spécifiques) avec la commande \"import\". \n",
    "\n",
    "Random est la bibliothèque pour générer des chiffres aleatoires.\n",
    "\n",
    "random.uniform(min,max) génère des nombres aléatoires uniformes entre un minimum et un maximum."
   ]
  },
  {
   "cell_type": "code",
   "execution_count": 3,
   "metadata": {},
   "outputs": [],
   "source": [
    "import random"
   ]
  },
  {
   "cell_type": "code",
   "execution_count": 4,
   "metadata": {},
   "outputs": [
    {
     "data": {
      "text/plain": [
       "27.51594334902252"
      ]
     },
     "execution_count": 4,
     "metadata": {},
     "output_type": "execute_result"
    }
   ],
   "source": [
    "random.uniform(0,50)"
   ]
  },
  {
   "cell_type": "markdown",
   "metadata": {},
   "source": [
    "Pour répéter une opération plusieurs fois, nous utilisons une boucle 'for'.\n",
    "\n",
    "La boucle for parcourt les éléments d'une liste un par un."
   ]
  },
  {
   "cell_type": "code",
   "execution_count": 1,
   "metadata": {},
   "outputs": [
    {
     "name": "stdout",
     "output_type": "stream",
     "text": [
      "range(0, 10)\n"
     ]
    }
   ],
   "source": [
    "# pour generer une sequence de nombre entier\n",
    "sequence=range(10)\n",
    "print (sequence)"
   ]
  },
  {
   "cell_type": "code",
   "execution_count": 2,
   "metadata": {},
   "outputs": [
    {
     "name": "stdout",
     "output_type": "stream",
     "text": [
      "0\n",
      "1\n",
      "2\n",
      "3\n",
      "4\n",
      "5\n",
      "6\n",
      "7\n",
      "8\n",
      "9\n"
     ]
    }
   ],
   "source": [
    "for i in sequence:\n",
    "    print(i)"
   ]
  },
  {
   "cell_type": "markdown",
   "metadata": {},
   "source": [
    "Dans une boucle 'for', je peux effectuer plusieurs opérations"
   ]
  },
  {
   "cell_type": "code",
   "execution_count": 5,
   "metadata": {},
   "outputs": [
    {
     "name": "stdout",
     "output_type": "stream",
     "text": [
      "0 1.9370853590017334\n",
      "1 38.34404419293827\n",
      "2 23.811368331281297\n",
      "3 8.122953480456719\n",
      "4 23.178690031439338\n",
      "5 24.433132473528435\n",
      "6 10.434433490770006\n",
      "7 28.946350113375104\n",
      "8 7.798634719101832\n",
      "9 4.28222200838817\n"
     ]
    }
   ],
   "source": [
    "for i in sequence:\n",
    "    myVar=random.uniform(0,50)\n",
    "    print(i,myVar)\n",
    "    \n",
    "#myVar est differente à toutes les itérations"
   ]
  },
  {
   "cell_type": "markdown",
   "metadata": {},
   "source": [
    "Attention à la position des commandes!"
   ]
  },
  {
   "cell_type": "code",
   "execution_count": 6,
   "metadata": {},
   "outputs": [
    {
     "name": "stdout",
     "output_type": "stream",
     "text": [
      "9 25.149573133477926\n"
     ]
    }
   ],
   "source": [
    "for i in sequence:\n",
    "    myVar=random.uniform(0,50)\n",
    "print(i,myVar)"
   ]
  },
  {
   "cell_type": "markdown",
   "metadata": {},
   "source": [
    "Je peux utiliser une boucle 'for' pour créer une liste."
   ]
  },
  {
   "cell_type": "code",
   "execution_count": 7,
   "metadata": {},
   "outputs": [],
   "source": [
    "# 1- Je crée une liste vide\n",
    "newList=[]\n",
    "#J'ajoute un élément à chaque itération\n",
    "for i in sequence:\n",
    "    myVar=int(random.uniform(0,50))\n",
    "    newList.append(myVar)"
   ]
  },
  {
   "cell_type": "code",
   "execution_count": 8,
   "metadata": {},
   "outputs": [
    {
     "data": {
      "text/plain": [
       "[43, 20, 19, 0, 28, 49, 6, 3, 8, 4]"
      ]
     },
     "execution_count": 8,
     "metadata": {},
     "output_type": "execute_result"
    }
   ],
   "source": [
    "newList"
   ]
  },
  {
   "cell_type": "code",
   "execution_count": 9,
   "metadata": {},
   "outputs": [
    {
     "name": "stdout",
     "output_type": "stream",
     "text": [
      "10 0 49\n"
     ]
    }
   ],
   "source": [
    "print(len(newList),min(newList),max(newList))"
   ]
  },
  {
   "cell_type": "markdown",
   "metadata": {},
   "source": [
    "Je peux utiliser une boucle 'for' pour modifier une liste."
   ]
  },
  {
   "cell_type": "code",
   "execution_count": 10,
   "metadata": {},
   "outputs": [],
   "source": [
    "# 1- Je crée une nouvelle liste vide\n",
    "modList=[]\n",
    "#Je passe en revue les éléments de la liste originale et les modifie un par un.\n",
    "for i in newList:\n",
    "    modList.append(i+1)"
   ]
  },
  {
   "cell_type": "code",
   "execution_count": 11,
   "metadata": {},
   "outputs": [
    {
     "name": "stdout",
     "output_type": "stream",
     "text": [
      "[43, 20, 19, 0, 28, 49, 6, 3, 8, 4]\n",
      "[44, 21, 20, 1, 29, 50, 7, 4, 9, 5]\n"
     ]
    }
   ],
   "source": [
    "print(newList)\n",
    "print(modList)"
   ]
  },
  {
   "cell_type": "code",
   "execution_count": null,
   "metadata": {},
   "outputs": [],
   "source": []
  },
  {
   "cell_type": "code",
   "execution_count": null,
   "metadata": {},
   "outputs": [],
   "source": []
  }
 ],
 "metadata": {
  "kernelspec": {
   "display_name": "Python 3",
   "language": "python",
   "name": "python3"
  },
  "language_info": {
   "codemirror_mode": {
    "name": "ipython",
    "version": 3
   },
   "file_extension": ".py",
   "mimetype": "text/x-python",
   "name": "python",
   "nbconvert_exporter": "python",
   "pygments_lexer": "ipython3",
   "version": "3.8.3"
  }
 },
 "nbformat": 4,
 "nbformat_minor": 4
}
