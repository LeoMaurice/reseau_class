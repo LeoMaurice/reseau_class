{
 "cells": [
  {
   "cell_type": "code",
   "execution_count": 1,
   "metadata": {},
   "outputs": [],
   "source": [
    "import random\n",
    "import matplotlib.pyplot as plt\n",
    "import pandas as pd"
   ]
  },
  {
   "cell_type": "markdown",
   "metadata": {},
   "source": [
    "Les conditions sont exprimés par le commande if... else..."
   ]
  },
  {
   "cell_type": "code",
   "execution_count": null,
   "metadata": {},
   "outputs": [],
   "source": [
    "myVar=3\n",
    "\n",
    "if myVar>10:\n",
    "    print ('la variable est plus grande que 10')\n",
    "else:\n",
    "    print ('la variable est moins grande que 10')"
   ]
  },
  {
   "cell_type": "markdown",
   "metadata": {},
   "source": [
    "### EXEMPLE 1"
   ]
  },
  {
   "cell_type": "markdown",
   "metadata": {},
   "source": [
    "Dans une liste selectionner les chiffres plus grands que n"
   ]
  },
  {
   "cell_type": "code",
   "execution_count": null,
   "metadata": {},
   "outputs": [],
   "source": [
    "# je vais construire une liste de 1000 ciffres aleatoires entre 0 et 10\n",
    "lenList=1000\n",
    "LL=[]\n",
    "for i in range(lenList):\n",
    "    rr=random.uniform(0,10)\n",
    "    LL.append(rr)"
   ]
  },
  {
   "cell_type": "markdown",
   "metadata": {},
   "source": [
    "Je crée une nouvelle liste contenant uniquement des valeurs supérieures à 5, et une autre avec les valeurs inferieurs à 5"
   ]
  },
  {
   "cell_type": "code",
   "execution_count": null,
   "metadata": {},
   "outputs": [],
   "source": [
    "LLsup5=[]\n",
    "LLinf5=[]\n",
    "for i in LL:\n",
    "    if i>5:\n",
    "        LLsup5.append(i)\n",
    "    else:\n",
    "        LLinf5.append(i)"
   ]
  },
  {
   "cell_type": "code",
   "execution_count": null,
   "metadata": {},
   "outputs": [],
   "source": [
    "LLsup5"
   ]
  }
 ],
 "metadata": {
  "kernelspec": {
   "display_name": "Python 3",
   "language": "python",
   "name": "python3"
  },
  "language_info": {
   "codemirror_mode": {
    "name": "ipython",
    "version": 3
   },
   "file_extension": ".py",
   "mimetype": "text/x-python",
   "name": "python",
   "nbconvert_exporter": "python",
   "pygments_lexer": "ipython3",
   "version": "3.8.3"
  }
 },
 "nbformat": 4,
 "nbformat_minor": 5
}
