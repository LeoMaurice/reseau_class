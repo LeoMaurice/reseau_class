{
 "cells": [
  {
   "cell_type": "code",
   "execution_count": 2,
   "id": "4fb787aa",
   "metadata": {},
   "outputs": [],
   "source": [
    "import pandas as pd"
   ]
  },
  {
   "cell_type": "code",
   "execution_count": 1,
   "id": "bbab35b3",
   "metadata": {},
   "outputs": [],
   "source": [
    "names=['Lucas','Alex','Marie','Luis']\n",
    "age=[4,5,7,3]"
   ]
  },
  {
   "cell_type": "code",
   "execution_count": 5,
   "id": "54bce2f2",
   "metadata": {},
   "outputs": [],
   "source": [
    "df=pd.DataFrame()"
   ]
  },
  {
   "cell_type": "code",
   "execution_count": 6,
   "id": "cadecef4",
   "metadata": {},
   "outputs": [],
   "source": [
    "df['name']=names\n",
    "df['age']=age"
   ]
  },
  {
   "cell_type": "code",
   "execution_count": 7,
   "id": "cfd6eeba",
   "metadata": {},
   "outputs": [
    {
     "data": {
      "text/html": [
       "<div>\n",
       "<style scoped>\n",
       "    .dataframe tbody tr th:only-of-type {\n",
       "        vertical-align: middle;\n",
       "    }\n",
       "\n",
       "    .dataframe tbody tr th {\n",
       "        vertical-align: top;\n",
       "    }\n",
       "\n",
       "    .dataframe thead th {\n",
       "        text-align: right;\n",
       "    }\n",
       "</style>\n",
       "<table border=\"1\" class=\"dataframe\">\n",
       "  <thead>\n",
       "    <tr style=\"text-align: right;\">\n",
       "      <th></th>\n",
       "      <th>name</th>\n",
       "      <th>age</th>\n",
       "    </tr>\n",
       "  </thead>\n",
       "  <tbody>\n",
       "    <tr>\n",
       "      <th>0</th>\n",
       "      <td>Lucas</td>\n",
       "      <td>4</td>\n",
       "    </tr>\n",
       "    <tr>\n",
       "      <th>1</th>\n",
       "      <td>Alex</td>\n",
       "      <td>5</td>\n",
       "    </tr>\n",
       "    <tr>\n",
       "      <th>2</th>\n",
       "      <td>Marie</td>\n",
       "      <td>7</td>\n",
       "    </tr>\n",
       "    <tr>\n",
       "      <th>3</th>\n",
       "      <td>Luis</td>\n",
       "      <td>3</td>\n",
       "    </tr>\n",
       "  </tbody>\n",
       "</table>\n",
       "</div>"
      ],
      "text/plain": [
       "    name  age\n",
       "0  Lucas    4\n",
       "1   Alex    5\n",
       "2  Marie    7\n",
       "3   Luis    3"
      ]
     },
     "execution_count": 7,
     "metadata": {},
     "output_type": "execute_result"
    }
   ],
   "source": [
    "df"
   ]
  },
  {
   "cell_type": "markdown",
   "id": "d09ca9bd",
   "metadata": {},
   "source": [
    "Il existe un moyen plus efficace de représenter ce type de données, les dictionnaires"
   ]
  },
  {
   "cell_type": "code",
   "execution_count": 8,
   "id": "d02a1247",
   "metadata": {},
   "outputs": [],
   "source": [
    "#dictionnaire vide\n",
    "age={}\n",
    "age['Lucas']=4\n",
    "age['Alex']=5\n",
    "age['Marie']=7\n",
    "age['Luis']=3"
   ]
  },
  {
   "cell_type": "code",
   "execution_count": 9,
   "id": "49664ee6",
   "metadata": {},
   "outputs": [
    {
     "data": {
      "text/plain": [
       "{'Lucas': 4, 'Alex': 5, 'Marie': 7, 'Luis': 3}"
      ]
     },
     "execution_count": 9,
     "metadata": {},
     "output_type": "execute_result"
    }
   ],
   "source": [
    "age"
   ]
  },
  {
   "cell_type": "markdown",
   "id": "1a2a41d0",
   "metadata": {},
   "source": [
    "Les clés du dictionnaire sont les sujets pour lesquels les attributs sont définis."
   ]
  },
  {
   "cell_type": "code",
   "execution_count": 10,
   "id": "36c55e29",
   "metadata": {},
   "outputs": [
    {
     "data": {
      "text/plain": [
       "dict_keys(['Lucas', 'Alex', 'Marie', 'Luis'])"
      ]
     },
     "execution_count": 10,
     "metadata": {},
     "output_type": "execute_result"
    }
   ],
   "source": [
    "age.keys()"
   ]
  },
  {
   "cell_type": "markdown",
   "id": "b329a5d4",
   "metadata": {},
   "source": [
    "Les valeurs du dictionnaire sont les valeurs des attributs"
   ]
  },
  {
   "cell_type": "code",
   "execution_count": 11,
   "id": "250c5840",
   "metadata": {},
   "outputs": [
    {
     "data": {
      "text/plain": [
       "dict_values([4, 5, 7, 3])"
      ]
     },
     "execution_count": 11,
     "metadata": {},
     "output_type": "execute_result"
    }
   ],
   "source": [
    "age.values()"
   ]
  },
  {
   "cell_type": "markdown",
   "id": "f57fb2bb",
   "metadata": {},
   "source": [
    "Si je veux connaître le valeur attribuée à un sujet:"
   ]
  },
  {
   "cell_type": "code",
   "execution_count": 12,
   "id": "fe9ef7d7",
   "metadata": {},
   "outputs": [
    {
     "data": {
      "text/plain": [
       "3"
      ]
     },
     "execution_count": 12,
     "metadata": {},
     "output_type": "execute_result"
    }
   ],
   "source": [
    "age['Luis']"
   ]
  },
  {
   "cell_type": "markdown",
   "id": "f01dab9f",
   "metadata": {},
   "source": [
    "Les clés d'un dictionnaire peuvent être : des nombres entiers ou des chaînes de caractères.\n",
    "Les valeurs d'un dictionnaire peuvent être de n'importe quel type (même des listes ou des dictionnaires)."
   ]
  },
  {
   "cell_type": "code",
   "execution_count": 13,
   "id": "4778fdb4",
   "metadata": {},
   "outputs": [],
   "source": [
    "objects ={}\n",
    "\n",
    "objects[\"Fruit\"]=[\"Mango\",\"Banana\"]\n",
    "objects[\"Color\"]=[\"Blue\", \"Red\"]"
   ]
  },
  {
   "cell_type": "code",
   "execution_count": 14,
   "id": "eab52dd0",
   "metadata": {},
   "outputs": [
    {
     "data": {
      "text/plain": [
       "{'Fruit': ['Mango', 'Banana'], 'Color': ['Blue', 'Red']}"
      ]
     },
     "execution_count": 14,
     "metadata": {},
     "output_type": "execute_result"
    }
   ],
   "source": [
    "objects"
   ]
  },
  {
   "cell_type": "code",
   "execution_count": 15,
   "id": "3cb6918c",
   "metadata": {},
   "outputs": [
    {
     "data": {
      "text/plain": [
       "['Mango', 'Banana']"
      ]
     },
     "execution_count": 15,
     "metadata": {},
     "output_type": "execute_result"
    }
   ],
   "source": [
    "objects['Fruit']"
   ]
  },
  {
   "cell_type": "code",
   "execution_count": null,
   "id": "3dfae55d",
   "metadata": {},
   "outputs": [],
   "source": []
  }
 ],
 "metadata": {
  "kernelspec": {
   "display_name": "Python 3 (ipykernel)",
   "language": "python",
   "name": "python3"
  },
  "language_info": {
   "codemirror_mode": {
    "name": "ipython",
    "version": 3
   },
   "file_extension": ".py",
   "mimetype": "text/x-python",
   "name": "python",
   "nbconvert_exporter": "python",
   "pygments_lexer": "ipython3",
   "version": "3.9.12"
  }
 },
 "nbformat": 4,
 "nbformat_minor": 5
}
