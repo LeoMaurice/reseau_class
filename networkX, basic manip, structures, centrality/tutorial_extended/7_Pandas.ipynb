{
 "cells": [
  {
   "cell_type": "code",
   "execution_count": null,
   "metadata": {},
   "outputs": [],
   "source": [
    "import pandas as pd\n",
    "import numpy as np\n",
    "import matplotlib.pyplot as plt"
   ]
  },
  {
   "cell_type": "markdown",
   "metadata": {},
   "source": [
    "Un tableu est representé en Python comme un objet dataframe de la bibliotheque pandas"
   ]
  },
  {
   "cell_type": "markdown",
   "metadata": {},
   "source": [
    "On peut créer un dataframe en mettant ensemble une serie de listes de la meme longueur, chaque liste est une colonne"
   ]
  },
  {
   "cell_type": "code",
   "execution_count": null,
   "metadata": {},
   "outputs": [],
   "source": [
    "# liste names\n",
    "names=['Paolo','Marco','Marta','Emma']\n",
    "#liste genre\n",
    "genre=['M','M','F','F']\n",
    "#liste age\n",
    "age=[14,15,10,19]\n",
    "#liste nombre de pays visités\n",
    "ncountry=[8,2,5,9]"
   ]
  },
  {
   "cell_type": "code",
   "execution_count": null,
   "metadata": {},
   "outputs": [],
   "source": [
    "# dataFrame vide\n",
    "df=pd.DataFrame()\n",
    "\n",
    "#j'ajoute les colonnes en choisissant un nom:\n",
    "df['name']=names\n",
    "df['gender']=genre\n",
    "df['age']=age\n",
    "df['ncountry']=ncountry"
   ]
  },
  {
   "cell_type": "code",
   "execution_count": null,
   "metadata": {},
   "outputs": [],
   "source": [
    "df"
   ]
  },
  {
   "cell_type": "markdown",
   "metadata": {},
   "source": [
    "Les premiers n lignes d'un dataframe sont visualisées avec le commande df.head(n)"
   ]
  },
  {
   "cell_type": "code",
   "execution_count": null,
   "metadata": {},
   "outputs": [],
   "source": [
    "df.head(2)"
   ]
  },
  {
   "cell_type": "markdown",
   "metadata": {},
   "source": [
    "Les dernieres n lignes d'un dataframe sont visualisées avec le commande df.tail(n)"
   ]
  },
  {
   "cell_type": "code",
   "execution_count": null,
   "metadata": {},
   "outputs": [],
   "source": [
    "df.tail(3)"
   ]
  },
  {
   "cell_type": "markdown",
   "metadata": {},
   "source": [
    "Une description statistique des colonnes numeriques:"
   ]
  },
  {
   "cell_type": "code",
   "execution_count": null,
   "metadata": {},
   "outputs": [],
   "source": [
    "df.describe()"
   ]
  },
  {
   "cell_type": "markdown",
   "metadata": {},
   "source": [
    "Je peux faire des operations entre les colonnes pour créer une nouvelle colonne:"
   ]
  },
  {
   "cell_type": "code",
   "execution_count": null,
   "metadata": {},
   "outputs": [],
   "source": [
    "#exemple 1 \"voyages/année\"\n",
    "df['freq_de_voyage']=df['ncountry']/df['age']"
   ]
  },
  {
   "cell_type": "code",
   "execution_count": null,
   "metadata": {},
   "outputs": [],
   "source": [
    "df"
   ]
  },
  {
   "cell_type": "code",
   "execution_count": null,
   "metadata": {},
   "outputs": [],
   "source": [
    "#ecart de l'age moyenne\n",
    "agemoyenne=np.mean(df['age'])\n",
    "print(agemoyenne)"
   ]
  },
  {
   "cell_type": "code",
   "execution_count": null,
   "metadata": {},
   "outputs": [],
   "source": [
    "df['ecartAge']=df['age']-agemoyenne"
   ]
  },
  {
   "cell_type": "code",
   "execution_count": null,
   "metadata": {},
   "outputs": [],
   "source": [
    "df"
   ]
  },
  {
   "cell_type": "markdown",
   "metadata": {},
   "source": [
    "#### filtrer un dataframe"
   ]
  },
  {
   "cell_type": "markdown",
   "metadata": {},
   "source": [
    "Dataframe pour le genre F"
   ]
  },
  {
   "cell_type": "code",
   "execution_count": null,
   "metadata": {},
   "outputs": [],
   "source": [
    "dfF=df[df['gender']=='F']\n",
    "dfF"
   ]
  },
  {
   "cell_type": "markdown",
   "metadata": {},
   "source": [
    "Dataframe pour les ages >14"
   ]
  },
  {
   "cell_type": "code",
   "execution_count": null,
   "metadata": {},
   "outputs": [],
   "source": [
    "dfm14=df[df['age']>14]\n",
    "dfm14"
   ]
  },
  {
   "cell_type": "markdown",
   "metadata": {},
   "source": [
    "# EXEMPLE 1 - students' performances"
   ]
  },
  {
   "cell_type": "code",
   "execution_count": null,
   "metadata": {},
   "outputs": [],
   "source": [
    "df=pd.read_csv('StudentsPerformance.csv')"
   ]
  },
  {
   "cell_type": "code",
   "execution_count": null,
   "metadata": {},
   "outputs": [],
   "source": [
    "df"
   ]
  },
  {
   "cell_type": "markdown",
   "metadata": {},
   "source": [
    "some descriptive statistics:"
   ]
  },
  {
   "cell_type": "code",
   "execution_count": null,
   "metadata": {},
   "outputs": [],
   "source": [
    "df.describe()"
   ]
  },
  {
   "cell_type": "markdown",
   "metadata": {},
   "source": [
    "### some histograms and boxplots"
   ]
  },
  {
   "cell_type": "code",
   "execution_count": null,
   "metadata": {},
   "outputs": [],
   "source": [
    "#distribution math score\n",
    "df.hist('math score',bins=20,edgecolor='black')\n",
    "plt.show()"
   ]
  },
  {
   "cell_type": "code",
   "execution_count": null,
   "metadata": {},
   "outputs": [],
   "source": [
    "#distribution reading score\n",
    "df.hist('reading score',bins=20,edgecolor='black')\n",
    "plt.show()"
   ]
  },
  {
   "cell_type": "code",
   "execution_count": null,
   "metadata": {},
   "outputs": [],
   "source": [
    "# distribution math score by gender\n",
    "df[df['gender']=='female'].hist('math score',bins=20,edgecolor='black',color='red')\n",
    "df[df['gender']=='male'].hist('math score',bins=20,edgecolor='black')\n",
    "plt.show()"
   ]
  },
  {
   "cell_type": "code",
   "execution_count": null,
   "metadata": {},
   "outputs": [],
   "source": [
    "# avec des boxplot\n",
    "plt.figure(figsize=(10,8))\n",
    "df.boxplot(by ='gender', column =['math score'],grid=False)\n",
    "plt.show()"
   ]
  },
  {
   "cell_type": "code",
   "execution_count": null,
   "metadata": {},
   "outputs": [],
   "source": [
    "# avec des boxplot plus beaux:\n",
    "import seaborn as sns\n",
    "sns.boxplot(x = 'gender', y = 'math score', data = df)\n",
    "plt.show()"
   ]
  },
  {
   "cell_type": "code",
   "execution_count": null,
   "metadata": {},
   "outputs": [],
   "source": [
    "sns.boxplot(x = 'gender', y = 'reading score', data = df)\n",
    "plt.show()"
   ]
  },
  {
   "cell_type": "code",
   "execution_count": null,
   "metadata": {},
   "outputs": [],
   "source": [
    "sns.boxplot(x = 'race/ethnicity', y = 'reading score', data = df)\n",
    "plt.show()"
   ]
  },
  {
   "cell_type": "code",
   "execution_count": null,
   "metadata": {},
   "outputs": [],
   "source": [
    "sns.boxplot(x = 'parental level of education', y = 'writing score', data = df)\n",
    "plt.xticks(rotation=90)\n",
    "plt.show()"
   ]
  },
  {
   "cell_type": "markdown",
   "metadata": {},
   "source": [
    "ecart H/F in math for different levels of parents' education"
   ]
  },
  {
   "cell_type": "code",
   "execution_count": null,
   "metadata": {},
   "outputs": [],
   "source": [
    "levelsOfEduc=set(df['parental level of education'])\n",
    "levelsOfEduc"
   ]
  },
  {
   "cell_type": "code",
   "execution_count": null,
   "metadata": {},
   "outputs": [],
   "source": [
    "for lev in levelsOfEduc:\n",
    "    thisDf=df[df['parental level of education']==lev]\n",
    "    sns.boxplot(x = 'gender', y = 'math score', data = thisDf,order=['female','male'])\n",
    "    plt.title(lev)\n",
    "    plt.show()"
   ]
  },
  {
   "cell_type": "code",
   "execution_count": null,
   "metadata": {},
   "outputs": [],
   "source": [
    "re=set(df['race/ethnicity'])\n",
    "for lev in re:\n",
    "    thisDf=df[df['race/ethnicity']==lev]\n",
    "    sns.boxplot(x = 'gender', y = 'math score', data = thisDf,order=['female','male'])\n",
    "    plt.title(lev)\n",
    "    plt.show()"
   ]
  },
  {
   "cell_type": "markdown",
   "metadata": {},
   "source": [
    "### correlations"
   ]
  },
  {
   "cell_type": "code",
   "execution_count": null,
   "metadata": {},
   "outputs": [],
   "source": [
    "df.plot.scatter(x='math score',y='reading score')\n",
    "plt.show()"
   ]
  },
  {
   "cell_type": "code",
   "execution_count": null,
   "metadata": {},
   "outputs": [],
   "source": [
    "df.plot.scatter(x='writing score',y='reading score')\n",
    "plt.show()"
   ]
  },
  {
   "cell_type": "code",
   "execution_count": null,
   "metadata": {},
   "outputs": [],
   "source": [
    "df.corr(method='pearson')"
   ]
  },
  {
   "cell_type": "code",
   "execution_count": null,
   "metadata": {},
   "outputs": [],
   "source": [
    "pd.plotting.scatter_matrix(df)\n",
    "plt.show()"
   ]
  },
  {
   "cell_type": "markdown",
   "metadata": {},
   "source": [
    "# exemple 2 - prenoms"
   ]
  },
  {
   "cell_type": "code",
   "execution_count": null,
   "metadata": {},
   "outputs": [],
   "source": [
    "df=pd.read_csv('dpt2021.csv',sep=';')"
   ]
  },
  {
   "cell_type": "code",
   "execution_count": null,
   "metadata": {},
   "outputs": [],
   "source": [
    "df.head(30)"
   ]
  },
  {
   "cell_type": "code",
   "execution_count": null,
   "metadata": {},
   "outputs": [],
   "source": [
    "#remove prenoms rares\n",
    "df=df[df['preusuel']!='_PRENOMS_RARES']"
   ]
  },
  {
   "cell_type": "code",
   "execution_count": null,
   "metadata": {},
   "outputs": [],
   "source": [
    "#remove XXXX et XX\n",
    "df=df[df['annais']!='XXXX']\n",
    "df=df[df['dpt']!='XX']"
   ]
  },
  {
   "cell_type": "code",
   "execution_count": null,
   "metadata": {},
   "outputs": [],
   "source": [
    "df"
   ]
  },
  {
   "cell_type": "markdown",
   "metadata": {},
   "source": [
    "Je divise en deux le tableau : noms masculins et féminins"
   ]
  },
  {
   "cell_type": "code",
   "execution_count": null,
   "metadata": {},
   "outputs": [],
   "source": [
    "dfF=df[df['sexe']==2]\n",
    "dfM=df[df['sexe']==1]"
   ]
  },
  {
   "cell_type": "code",
   "execution_count": null,
   "metadata": {},
   "outputs": [],
   "source": [
    "#top 10 prenoms masculins in dep 75, in 1950\n",
    "dfM75_1950=dfM[(dfM['annais']=='1950') & (dfM['dpt']=='75')]\n",
    "dfM75_1950.sort_values(by='nombre',ascending=False).head(10)"
   ]
  },
  {
   "cell_type": "code",
   "execution_count": null,
   "metadata": {},
   "outputs": [],
   "source": [
    "#top 10 prenoms M in dep 75, in 2017\n",
    "dfM75_2017=dfM[(dfM['annais']=='2017') & (dfM['dpt']=='75')]\n",
    "dfM75_2017.sort_values(by='nombre',ascending=False).head(10)"
   ]
  },
  {
   "cell_type": "markdown",
   "metadata": {},
   "source": [
    "### evolution de la longueur des prenoms"
   ]
  },
  {
   "cell_type": "markdown",
   "metadata": {},
   "source": [
    "J'ajoute une colonne avec la longueur du prenom"
   ]
  },
  {
   "cell_type": "code",
   "execution_count": null,
   "metadata": {},
   "outputs": [],
   "source": [
    "#methode 1\n",
    "longPr=[]\n",
    "for i in df['preusuel']:\n",
    "    longPr.append(len(i))\n",
    "    \n",
    "df['longPr']=longPr"
   ]
  },
  {
   "cell_type": "code",
   "execution_count": null,
   "metadata": {},
   "outputs": [],
   "source": [
    "#methode 2\n",
    "df['longPr']=df['preusuel'].apply(lambda x:len(x))"
   ]
  },
  {
   "cell_type": "code",
   "execution_count": null,
   "metadata": {},
   "outputs": [],
   "source": [
    "# conversion de l'année en chiffre entier\n",
    "df['year']=df['annais'].apply(lambda x:int(x))"
   ]
  },
  {
   "cell_type": "code",
   "execution_count": null,
   "metadata": {},
   "outputs": [],
   "source": [
    "df"
   ]
  },
  {
   "cell_type": "code",
   "execution_count": null,
   "metadata": {},
   "outputs": [],
   "source": [
    "#liste des années\n",
    "years=sorted(list(set(df['year'])))"
   ]
  },
  {
   "cell_type": "code",
   "execution_count": null,
   "metadata": {},
   "outputs": [],
   "source": [
    "avLen=[]\n",
    "for y in years:\n",
    "    thisDf=df[df['year']==y]\n",
    "    thisDf['prod']=thisDf['longPr']*thisDf['nombre']\n",
    "    nNom=sum(thisDf['nombre'])\n",
    "    avLen.append(sum(thisDf['prod'])/nNom)"
   ]
  },
  {
   "cell_type": "code",
   "execution_count": null,
   "metadata": {},
   "outputs": [],
   "source": [
    "plt.plot(years,avLen)\n",
    "plt.show()"
   ]
  },
  {
   "cell_type": "code",
   "execution_count": null,
   "metadata": {},
   "outputs": [],
   "source": [
    "dfF"
   ]
  },
  {
   "cell_type": "code",
   "execution_count": null,
   "metadata": {},
   "outputs": [],
   "source": [
    "dfF['longPr']=dfF['preusuel'].apply(lambda x:len(x))\n",
    "dfF['year']=dfF['annais'].apply(lambda x:int(x))\n",
    "\n",
    "avLenF=[]\n",
    "for y in years:\n",
    "    thisDf=dfF[dfF['year']==y]\n",
    "    thisDf['prod']=thisDf['longPr']*thisDf['nombre']\n",
    "    nNom=sum(thisDf['nombre'])\n",
    "    avLenF.append(sum(thisDf['prod'])/nNom)\n",
    "    \n",
    "dfM['longPr']=dfM['preusuel'].apply(lambda x:len(x))\n",
    "dfM['year']=dfM['annais'].apply(lambda x:int(x))\n",
    "\n",
    "avLenM=[]\n",
    "for y in years:\n",
    "    thisDf=dfM[dfM['year']==y]\n",
    "    thisDf['prod']=thisDf['longPr']*thisDf['nombre']\n",
    "    nNom=sum(thisDf['nombre'])\n",
    "    avLenM.append(sum(thisDf['prod'])/nNom)"
   ]
  },
  {
   "cell_type": "code",
   "execution_count": null,
   "metadata": {},
   "outputs": [],
   "source": [
    "plt.plot(years,avLenF,label='F')\n",
    "plt.plot(years,avLenM,label='M')\n",
    "plt.legend()\n",
    "plt.show()"
   ]
  },
  {
   "cell_type": "code",
   "execution_count": null,
   "metadata": {},
   "outputs": [],
   "source": []
  }
 ],
 "metadata": {
  "kernelspec": {
   "display_name": "Python 3",
   "language": "python",
   "name": "python3"
  },
  "language_info": {
   "codemirror_mode": {
    "name": "ipython",
    "version": 3
   },
   "file_extension": ".py",
   "mimetype": "text/x-python",
   "name": "python",
   "nbconvert_exporter": "python",
   "pygments_lexer": "ipython3",
   "version": "3.8.3"
  }
 },
 "nbformat": 4,
 "nbformat_minor": 4
}
