{
 "cells": [
  {
   "cell_type": "markdown",
   "metadata": {},
   "source": [
    "# NetworkX"
   ]
  },
  {
   "cell_type": "code",
   "execution_count": 2,
   "metadata": {},
   "outputs": [],
   "source": [
    "import networkx as nx\n",
    "import matplotlib.pyplot as plt\n",
    "import pandas as pd\n",
    "import numpy as np"
   ]
  },
  {
   "cell_type": "markdown",
   "metadata": {},
   "source": [
    "## Ouverture"
   ]
  },
  {
   "cell_type": "code",
   "execution_count": null,
   "metadata": {},
   "outputs": [],
   "source": [
    "symmetric = nx.read_edgelist('edges_list.txt',\n",
    "                             comments=\"node\",\n",
    "                             create_using=nx.Graph(),nodetype=int)\n",
    "asymmetric = nx.read_edgelist('edges_list.txt',\n",
    "                             comments=\"node\",\n",
    "                             create_using=nx.DiGraph(),nodetype=int)\n",
    "G_undirected = nx.DiGraph.to_undirected(asymmetric)\n",
    "G = asymmetric"
   ]
  },
  {
   "cell_type": "code",
   "execution_count": null,
   "metadata": {},
   "outputs": [],
   "source": [
    "### Alternative way to read the edgelist (1st step)\n",
    "df = pd.read_csv('edge_list.txt', sep='\\t')\n",
    "G_from_df = nx.from_pandas_edgelist(df, 'node1', 'node2', create_using=nx.DiGraph())\n",
    "\n",
    "## With attributes\n",
    "nodes_with_attributes = pd.read_table(\"node_attributes.txt\", sep='\\t')\n",
    "nodes_with_attributes = pd.read_table(\"node_attributes.txt\", sep='\\t')\n",
    "nodes_with_attributesData = nodes_with_attributes.set_index('Node').to_dict('index').items()\n",
    "G.add_nodes_from(nodes_with_attributesData)"
   ]
  },
  {
   "cell_type": "markdown",
   "metadata": {},
   "source": [
    "Adding note attributes can create isolates that do not appear in the edge list (by definition) :"
   ]
  },
  {
   "cell_type": "code",
   "execution_count": null,
   "metadata": {},
   "outputs": [],
   "source": [
    "# get nodes index of isolates\n",
    "\n",
    "list(nx.isolates(G)), list(nx.isolates(G_undirected))"
   ]
  },
  {
   "cell_type": "code",
   "execution_count": null,
   "metadata": {},
   "outputs": [],
   "source": [
    "########### Simple graph generators ###########\n",
    "\n",
    "# complete graph\n",
    "G1 = nx.complete_graph (10)\n",
    "# chain\n",
    "G2 = nx.path_graph (10)\n"
   ]
  },
  {
   "cell_type": "code",
   "execution_count": null,
   "metadata": {},
   "outputs": [],
   "source": [
    "# remove isolates\n",
    "G_without_isolates = G.copy() # we make a copy because we will need the initial graph afterwards\n",
    "G_without_isolates.remove_nodes_from(list(nx.isolates(G)))"
   ]
  },
  {
   "cell_type": "markdown",
   "metadata": {},
   "source": [
    "## Simple visualisation"
   ]
  },
  {
   "cell_type": "code",
   "execution_count": null,
   "metadata": {},
   "outputs": [],
   "source": [
    "nx.draw(G)\n",
    "\n",
    "nx.draw(G, with_labels=False, node_size=30, node_color=\"red\", edge_color = \"gray\",\n",
    "        pos=nx.fruchterman_reingold_layout(G))\n",
    "\n",
    "# to display proprieties\n",
    "\n",
    "### use different colors to represent attributes, eg Office\n",
    "# Office has 3 values only (categorical variable)\n",
    "\n",
    "# create empty list for node colors\n",
    "node_color = []\n",
    "\n",
    "# for each node in the graph\n",
    "for node in G.nodes(data=True):\n",
    "\n",
    "    # if the node has the attribute Office 1\n",
    "    if node[1]['Office']==1:\n",
    "        node_color.append('blue')\n",
    "        \n",
    "    # if the node has the attribute Office 2\n",
    "    elif node[1]['Office']==2:\n",
    "        node_color.append('red')\n",
    "\n",
    "    # if the node has the attribute office 3\n",
    "    elif node[1]['Office']==3:\n",
    "        node_color.append('yellow')\n",
    "\n",
    "    # draw graph with node attribute color\n",
    "nx.draw(G, with_labels=False, node_size=25, node_color=node_color, edge_color = \"gray\")\n"
   ]
  },
  {
   "cell_type": "markdown",
   "metadata": {},
   "source": [
    "## properties"
   ]
  },
  {
   "cell_type": "markdown",
   "metadata": {},
   "source": [
    "### Simple ones"
   ]
  },
  {
   "cell_type": "code",
   "execution_count": null,
   "metadata": {},
   "outputs": [],
   "source": [
    "# Simple properties:  number of nodes \n",
    "G.number_of_nodes() # or: len(G)\n",
    "G.nodes()"
   ]
  },
  {
   "cell_type": "code",
   "execution_count": null,
   "metadata": {},
   "outputs": [],
   "source": [
    "# Simple properties: number of edges\n",
    "G.number_of_edges ()\n",
    "G.edges()"
   ]
  },
  {
   "cell_type": "code",
   "execution_count": null,
   "metadata": {},
   "outputs": [],
   "source": [
    "# Degree ( = number of edges incident to each node)\n",
    "G.degree ()\n",
    "# Degree of a specific node ( = the number of edges incident to it)\n",
    "G.degree (1)"
   ]
  },
  {
   "cell_type": "markdown",
   "metadata": {},
   "source": [
    "### stats structures"
   ]
  },
  {
   "cell_type": "code",
   "execution_count": null,
   "metadata": {},
   "outputs": [],
   "source": [
    "##### Isolates (components consisting in 1 node) ### \n",
    "\n",
    "list(nx.isolates(G))\n",
    "\n",
    "##### Dyads: reciprocity (only interesting in digraph; not relevant in undirected graphs)\n",
    "\n",
    "nx.reciprocity(G)\n",
    "\n",
    "##### Triads: global transitivity\n",
    "print(nx.transitivity(G)) # this is the global clustering coefficient\n",
    "\n",
    "##### Triads: local transitivity\n",
    "print(nx.clustering(G))  # measure is by node (local clustering coefficient)\n",
    "## take the average:\n",
    "print(nx.average_clustering(G)) "
   ]
  },
  {
   "cell_type": "code",
   "execution_count": null,
   "metadata": {},
   "outputs": [],
   "source": [
    "##### Density\n",
    "nx.density(G)\n",
    "\n",
    "### /!\\ find cliques /!\\\n",
    "\n",
    "# /!\\ the networkx algorithm is only for undirected graphs\n",
    "list(nx.find_cliques(G_undirected))\n",
    "\n",
    "################## Basic connectivity measures\n",
    "\n",
    "# is the graph connected?\n",
    "print(nx.is_strongly_connected(G)) # \"strongly\" because it is a digraph\n",
    "# with an undirected graph, nx.is_connected(G)\n",
    "\n",
    "# if \"strongly\" is false, try with \"weakly\":\n",
    "print(nx.is_weakly_connected(G))\n",
    "\n",
    "print(nx.is_connected(G)) # false if there are isolates\n",
    "\n",
    "## diameter\n",
    "\n",
    "# because graph is not strongly connected (infinite distances)\n",
    "# we need to take its undirected representation\n",
    "# ELadviceUG = nx.DiGraph.to_undirected(ELadviceG)\n",
    "# /!\\ the networkx algorithm is only for undirected graphs\n",
    "print(nx.diameter(G_undirected))\n",
    "\n",
    "## average shortest path length\n",
    "# because graph is not strongly connected (infinite distances)\n",
    "# we need to take its undirected representation\n",
    "# ELadviceUG = nx.DiGraph.to_undirected(ELadviceG)\n",
    "# /!\\ the networkx algorithm is only for undirected graphs\n",
    "nx.average_shortest_path_length(G_undirected)"
   ]
  },
  {
   "cell_type": "code",
   "execution_count": null,
   "metadata": {},
   "outputs": [],
   "source": [
    "################# Centrality\n",
    "\n",
    "# degree centrality (without considering directed edges)\n",
    "print(nx.degree_centrality(G))\n",
    "\n",
    "# indegree centrality (incoming ties)\n",
    "print(nx.in_degree_centrality(G))\n",
    "\n",
    "# indegree centrality (outgoing ties)\n",
    "print(nx.out_degree_centrality(G))\n",
    "\n",
    "# Eigenvector centrality\n",
    "\n",
    "nx.eigenvector_centrality(G_undirected)\n",
    "\n",
    "# This measure works only with undirected graphs.\n",
    "# For directed graphs, networkx takes the “left” eigenvector centrality\n",
    "# which corresponds to the in-edges in the graph.\n",
    "# For out-edges eigenvector centrality first reverse the graph with G.reverse()\n",
    "# (it is the transpose of the adjacency matrix)\n",
    "\n",
    "# Closeness centrality\n",
    "nx.closeness_centrality(G)\n",
    "\n",
    "# The closeness centrality uses inward distance to a node, not outward.\n",
    "# If you want to use outword distances apply the function to G.reverse()\n",
    "\n",
    "# Betweenness centrality\n",
    "nx.betweenness_centrality(G)\n",
    "\n",
    "# Betweenness values are normalized by 2/((n-1)(n-2)) for graphs,\n",
    "# and 1/((n-1)(n-2)) for directed graphs, where n is the number of nodes \n",
    "\n",
    "#### Let's briefly look at degree distributions\n",
    "indegrees = [val for (node, val) in G.in_degree()]\n",
    "outdegrees = [val for (node, val) in G.out_degree()]\n",
    "\n",
    "In = np.array(indegrees)\n",
    "Out = np.array(outdegrees)\n",
    "\n",
    "plt.hist([In, Out], bins=5, label=['Indegrees', 'Outdegrees'])\n",
    "plt.legend(loc='upper right')\n",
    "plt.show()"
   ]
  },
  {
   "cell_type": "code",
   "execution_count": null,
   "metadata": {},
   "outputs": [],
   "source": [
    "# first create a function\n",
    "def blau(df, col):\n",
    "    return (1- ((df[col].value_counts() / df[col].count()) ** 2).sum())\n",
    "\n",
    "# then apply it to the 'alters' table of ego 28, for example with attribute 'alter.age.cat' (= age category)\n",
    "blau(G, 'categorial_var')\n",
    "\n",
    "# We can now calculate the IQV\n",
    "\n",
    "blau(G, 'categorial_var')*7/6\n",
    "\n",
    "# Herfindahl-Hirschman index (HHI)\n",
    "# equal to 1 - Blau\n",
    "\n",
    "1 - blau(G, 'categorial_var')"
   ]
  },
  {
   "cell_type": "markdown",
   "metadata": {},
   "source": [
    "## Export"
   ]
  },
  {
   "cell_type": "code",
   "execution_count": null,
   "metadata": {},
   "outputs": [],
   "source": [
    "###### For better visualization\n",
    "## export graph in Gephi format\n",
    "\n",
    "nx.write_gexf(G, 'G.gexf')"
   ]
  }
 ],
 "metadata": {
  "kernelspec": {
   "display_name": "batomouche",
   "language": "python",
   "name": "python3"
  },
  "language_info": {
   "codemirror_mode": {
    "name": "ipython",
    "version": 3
   },
   "file_extension": ".py",
   "mimetype": "text/x-python",
   "name": "python",
   "nbconvert_exporter": "python",
   "pygments_lexer": "ipython3",
   "version": "3.9.0"
  }
 },
 "nbformat": 4,
 "nbformat_minor": 2
}
