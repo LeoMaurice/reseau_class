{
 "cells": [
  {
   "cell_type": "markdown",
   "metadata": {},
   "source": [
    "# Tutorial, 14 February 2024"
   ]
  },
  {
   "cell_type": "code",
   "execution_count": null,
   "metadata": {},
   "outputs": [],
   "source": [
    "# import networkx (and other useful packages)\n",
    "import networkx as nx\n",
    "import matplotlib.pyplot as plt\n",
    "import pandas as pd\n",
    "import numpy as np"
   ]
  },
  {
   "cell_type": "markdown",
   "metadata": {},
   "source": [
    "## Matching graphs and node attributes"
   ]
  },
  {
   "cell_type": "code",
   "execution_count": null,
   "metadata": {},
   "outputs": [],
   "source": [
    "########### Graphs from empirical data ##############\n",
    "\n",
    "# generate new digraph by reading edgelist (from empirical data)\n",
    "# it is a \"DiGraph\" (not \"Graph\") because it is directed\n",
    "ELadviceG = nx.read_edgelist('ELadvice_edgelist.txt',comments=\"node\",create_using=nx.DiGraph(),nodetype=int)"
   ]
  },
  {
   "cell_type": "code",
   "execution_count": null,
   "metadata": {},
   "outputs": [],
   "source": [
    "### Alternative way to read the edgelist (1st step)\n",
    "advice = pd.read_csv('ELadvice_edgelist.txt', sep='\\t')\n",
    "advice\n"
   ]
  },
  {
   "cell_type": "code",
   "execution_count": null,
   "metadata": {},
   "outputs": [],
   "source": [
    "### Alternative way to read the edgelist (2nd step)\n",
    "ELadviceG1 = nx.from_pandas_edgelist(advice, 'node1', 'node2', create_using=nx.DiGraph())"
   ]
  },
  {
   "cell_type": "code",
   "execution_count": null,
   "metadata": {},
   "outputs": [],
   "source": [
    "ELnodes = pd.read_table(\"ELnodeAttributes.txt\", sep='\\t')\n",
    "print(ELnodes)"
   ]
  },
  {
   "cell_type": "code",
   "execution_count": null,
   "metadata": {},
   "outputs": [],
   "source": [
    "# match nodes of digraph with attributes of nodes\n",
    "ELNodeData = ELnodes.set_index('Node').to_dict('index').items()\n",
    "ELadviceG.add_nodes_from(ELNodeData)\n",
    "\n",
    "# view results\n",
    "print(ELadviceG.nodes(data=True))\n"
   ]
  },
  {
   "cell_type": "code",
   "execution_count": null,
   "metadata": {},
   "outputs": [],
   "source": [
    "# view results (2)\n",
    "print(ELadviceG.edges(data=True))"
   ]
  },
  {
   "cell_type": "code",
   "execution_count": null,
   "metadata": {},
   "outputs": [],
   "source": [
    "# to view attributes\n",
    "\n",
    "# for example, 'Office'\n",
    "offices = nx.get_node_attributes(ELadviceG,'Office')\n",
    "print(offices)\n",
    "# to view the value for a single node (for example, node n. 4)\n",
    "offices[4]\n"
   ]
  },
  {
   "cell_type": "code",
   "execution_count": null,
   "metadata": {},
   "outputs": [],
   "source": [
    "######################### Mini-digression ##############################\n",
    "\n",
    "### A separate file with nodes (possibly with attributes)\n",
    "### must be imported separately from the edge list, and 'added' to the graph\n",
    "### if there are isolates (which do not appear in edgelists)\n",
    "\n",
    "# For example, import friendship graph\n",
    "ELfriendG = nx.read_edgelist('ELfriend_edgelist.txt',comments=\"node\",create_using=nx.DiGraph(),nodetype=int)\n",
    "# see nodes\n",
    "ELfriendG.nodes()"
   ]
  },
  {
   "cell_type": "code",
   "execution_count": null,
   "metadata": {},
   "outputs": [],
   "source": [
    "# how many nodes?\n",
    "len(ELfriendG.nodes())"
   ]
  },
  {
   "cell_type": "code",
   "execution_count": null,
   "metadata": {},
   "outputs": [],
   "source": [
    "# now add attributes\n",
    "ELfriendG.add_nodes_from(ELNodeData)\n",
    "\n",
    "# how many nodes now?\n",
    "len(ELfriendG.nodes())\n",
    "\n",
    "############### end of digression ##############"
   ]
  },
  {
   "cell_type": "markdown",
   "metadata": {},
   "source": [
    "## Local structures"
   ]
  },
  {
   "cell_type": "code",
   "execution_count": null,
   "metadata": {},
   "outputs": [],
   "source": [
    "##### Isolates (components consisting in 1 node) ### \n",
    "list(nx.isolates(ELadviceG))"
   ]
  },
  {
   "cell_type": "code",
   "execution_count": null,
   "metadata": {},
   "outputs": [],
   "source": [
    "### NB but if we use the friendhsip graph instead... ### \n",
    "list(nx.isolates(ELfriendG))"
   ]
  },
  {
   "cell_type": "code",
   "execution_count": null,
   "metadata": {},
   "outputs": [],
   "source": [
    "##### Dyads: reciprocity (only interesting in digraph; not relevant in undirected graphs)\n",
    "\n",
    "nx.reciprocity(ELadviceG)"
   ]
  },
  {
   "cell_type": "code",
   "execution_count": null,
   "metadata": {},
   "outputs": [],
   "source": [
    "##### Triads: global transitivity\n",
    "print(nx.transitivity(ELadviceG)) # this is the global clustering coefficient"
   ]
  },
  {
   "cell_type": "code",
   "execution_count": null,
   "metadata": {},
   "outputs": [],
   "source": [
    "##### Triads: local transitivity\n",
    "print(nx.clustering(ELadviceG))  # measure is by node (local clustering coefficient)\n",
    "## take the average:\n",
    "print(nx.average_clustering(ELadviceG)) "
   ]
  },
  {
   "cell_type": "markdown",
   "metadata": {},
   "source": [
    "## Global structures: cohesion"
   ]
  },
  {
   "cell_type": "code",
   "execution_count": null,
   "metadata": {},
   "outputs": [],
   "source": [
    "##### Density\n",
    "nx.density(ELadviceG)"
   ]
  },
  {
   "cell_type": "code",
   "execution_count": null,
   "metadata": {},
   "outputs": [],
   "source": [
    "### find cliques \n",
    "\n",
    "# the networkx algorithm is only for undirected graphs\n",
    "# so we need to take undirected representation\n",
    "ELadviceUG = nx.DiGraph.to_undirected(ELadviceG)\n",
    "\n",
    "list(nx.find_cliques(ELadviceUG))"
   ]
  },
  {
   "cell_type": "markdown",
   "metadata": {},
   "source": [
    "## Global structures: connectivity"
   ]
  },
  {
   "cell_type": "code",
   "execution_count": null,
   "metadata": {},
   "outputs": [],
   "source": [
    "################## Basic connectivity measures\n",
    "\n",
    "# is the graph connected?\n",
    "print(nx.is_strongly_connected(ELadviceG)) # \"strongly\" because it is a digraph\n",
    "# with an undirected graph, nx.is_connected(G)\n",
    "\n",
    "# if \"strongly\" is false, try with \"weakly\":\n",
    "print(nx.is_weakly_connected(ELadviceG))"
   ]
  },
  {
   "cell_type": "code",
   "execution_count": null,
   "metadata": {},
   "outputs": [],
   "source": [
    "## diameter\n",
    "\n",
    "# because graph is not strongly connected (infinite distances)\n",
    "# we need to take its undirected representation\n",
    "# ELadviceUG = nx.DiGraph.to_undirected(ELadviceG)\n",
    "print(nx.diameter(ELadviceUG))\n"
   ]
  },
  {
   "cell_type": "code",
   "execution_count": null,
   "metadata": {},
   "outputs": [],
   "source": [
    "## average shortest path length\n",
    "# because graph is not strongly connected (infinite distances)\n",
    "# we need to take its undirected representation\n",
    "# ELadviceUG = nx.DiGraph.to_undirected(ELadviceG)\n",
    "nx.average_shortest_path_length(ELadviceUG)\n"
   ]
  },
  {
   "cell_type": "markdown",
   "metadata": {},
   "source": [
    "## Centrality"
   ]
  },
  {
   "cell_type": "code",
   "execution_count": null,
   "metadata": {},
   "outputs": [],
   "source": [
    "################# Centrality\n",
    "\n",
    "# degree centrality (without considering directed edges)\n",
    "print(nx.degree_centrality(ELadviceG))\n",
    "\n",
    "# indegree centrality (incoming ties)\n",
    "print(nx.in_degree_centrality(ELadviceG))\n",
    "\n",
    "# indegree centrality (outgoing ties)\n",
    "print(nx.out_degree_centrality(ELadviceG))"
   ]
  },
  {
   "cell_type": "code",
   "execution_count": null,
   "metadata": {},
   "outputs": [],
   "source": [
    "# Eigenvector centrality\n",
    "\n",
    "nx.eigenvector_centrality(ELadviceG)\n",
    "\n",
    "# This measure works only with undirected graphs.\n",
    "# For directed graphs, networkx takes the “left” eigenvector centrality\n",
    "# which corresponds to the in-edges in the graph.\n",
    "# For out-edges eigenvector centrality first reverse the graph with G.reverse()\n",
    "# (it is the transpose of the adjacency matrix)"
   ]
  },
  {
   "cell_type": "code",
   "execution_count": null,
   "metadata": {},
   "outputs": [],
   "source": [
    "# Closeness centrality\n",
    "nx.closeness_centrality(ELadviceG)\n",
    "\n",
    "# The closeness centrality uses inward distance to a node, not outward.\n",
    "# If you want to use outword distances apply the function to G.reverse()"
   ]
  },
  {
   "cell_type": "code",
   "execution_count": null,
   "metadata": {},
   "outputs": [],
   "source": [
    "# Betweenness centrality\n",
    "nx.betweenness_centrality(ELadviceG)\n",
    "\n",
    "# Betweenness values are normalized by 2/((n-1)(n-2)) for graphs,\n",
    "# and 1/((n-1)(n-2)) for directed graphs, where n is the number of nodes "
   ]
  },
  {
   "cell_type": "code",
   "execution_count": null,
   "metadata": {},
   "outputs": [],
   "source": [
    "#### Let's briefly look at degree distributions\n",
    "indegrees = [val for (node, val) in ELadviceG.in_degree()]\n",
    "outdegrees = [val for (node, val) in ELadviceG.out_degree()]\n",
    "\n",
    "In = np.array(indegrees)\n",
    "Out = np.array(outdegrees)\n",
    "\n",
    "plt.hist([In, Out], bins=5, label=['Indegrees', 'Outdegrees'])\n",
    "plt.legend(loc='upper right')\n",
    "plt.show()\n",
    "\n"
   ]
  },
  {
   "cell_type": "markdown",
   "metadata": {},
   "source": [
    "## Visualization"
   ]
  },
  {
   "cell_type": "code",
   "execution_count": null,
   "metadata": {},
   "outputs": [],
   "source": [
    "#### Let us look at visualization\n",
    "\n",
    "# draw graph\n",
    "nx.draw(ELadviceG)\n",
    "plt.show()"
   ]
  },
  {
   "cell_type": "code",
   "execution_count": null,
   "metadata": {},
   "outputs": [],
   "source": [
    "# improve visualization\n",
    "\n",
    "# change layout, eg Fruchterman Reingold\n",
    "# reduce node size, make edges more transparent to improve visibility\n",
    "nx.draw(ELadviceG, with_labels=False, node_size=30, node_color=\"red\", edge_color = \"gray\",\n",
    "        pos=nx.fruchterman_reingold_layout(ELadviceG))\n",
    "\n",
    "# autres layouts to try: spring_layout, spectral_layout, random_layout, circular_layout... \n"
   ]
  },
  {
   "cell_type": "code",
   "execution_count": null,
   "metadata": {},
   "outputs": [],
   "source": [
    "### use different colors to represent attributes, eg Office\n",
    "# Office has 3 values only (categorical variable)\n",
    "\n",
    "# create empty list for node colors\n",
    "node_color = []\n",
    "\n",
    "# for each node in the graph\n",
    "for node in ELadviceG.nodes(data=True):\n",
    "\n",
    "    # if the node has the attribute Office 1\n",
    "    if node[1]['Office']==1:\n",
    "        node_color.append('blue')\n",
    "        \n",
    "    # if the node has the attribute Office 2\n",
    "    elif node[1]['Office']==2:\n",
    "        node_color.append('red')\n",
    "\n",
    "    # if the node has the attribute office 3\n",
    "    elif node[1]['Office']==3:\n",
    "        node_color.append('yellow')\n",
    "\n",
    "    # draw graph with node attribute color\n",
    "nx.draw(ELadviceG, with_labels=False, node_size=25, node_color=node_color, edge_color = \"gray\")\n"
   ]
  },
  {
   "cell_type": "code",
   "execution_count": null,
   "metadata": {},
   "outputs": [],
   "source": [
    "# change node size to reflect indegree\n",
    "\n",
    "indeg = ELadviceG.in_degree   # sets up the indegree view\n",
    "indegs = [d for n, d in indeg]   # gets all nodes' degree values \n",
    "\n",
    "# draw plot (color = office)\n",
    "nx.draw(ELadviceG, pos=nx.fruchterman_reingold_layout(ELadviceG), with_labels=False,\n",
    "        node_color=node_color, edge_color = \"gray\", \n",
    "        node_size=indegs)\n",
    "plt.show()\n",
    "\n",
    "# Exercise: do the same for outdegree"
   ]
  },
  {
   "cell_type": "code",
   "execution_count": null,
   "metadata": {},
   "outputs": [],
   "source": [
    "###### For better visualization\n",
    "## export graph in Gephi format\n",
    "\n",
    "nx.write_gexf(ELadviceG, 'ELadviceG.gexf')"
   ]
  },
  {
   "cell_type": "markdown",
   "metadata": {},
   "source": [
    "## Homework for next session\n",
    "\n",
    "Re-do the same with ELfriend and ELcowork: create graph objects, add attributes, analyze\n",
    "\n",
    "Careful: ELfriend is an asymmetric matrix (like ELadvice) while ELcowork is symmetric\n",
    "\n",
    "Also: mind the presence of isolates\n"
   ]
  },
  {
   "cell_type": "markdown",
   "metadata": {},
   "source": [
    "## Home exercises week 2"
   ]
  },
  {
   "cell_type": "code",
   "execution_count": 1,
   "metadata": {},
   "outputs": [],
   "source": [
    "import networkx as nx\n",
    "import matplotlib.pyplot as plt\n",
    "import pandas as pd\n",
    "import numpy as np"
   ]
  },
  {
   "cell_type": "markdown",
   "metadata": {},
   "source": [
    "### Matching graphs and node attributes"
   ]
  },
  {
   "cell_type": "code",
   "execution_count": 2,
   "metadata": {},
   "outputs": [],
   "source": [
    "# Create directed graph\n",
    "ELfriendG = nx.read_edgelist('ELfriend_edgelist.txt', comments=\"node\", create_using=nx.DiGraph(), nodetype=int)\n",
    "#Create undirected graph\n",
    "ELcoworkG = nx.read_edgelist('ELcowork_edgelist.txt', comments=\"node\", create_using=nx.Graph(), nodetype=int)"
   ]
  },
  {
   "cell_type": "code",
   "execution_count": 3,
   "metadata": {},
   "outputs": [
    {
     "data": {
      "text/plain": [
       "(69, 70)"
      ]
     },
     "execution_count": 3,
     "metadata": {},
     "output_type": "execute_result"
    }
   ],
   "source": [
    "ELfriendG.number_of_nodes(), ELcoworkG.number_of_nodes()"
   ]
  },
  {
   "cell_type": "code",
   "execution_count": 4,
   "metadata": {},
   "outputs": [],
   "source": [
    "# read the attributes\n",
    "ELnodes = pd.read_table(\"ELnodeAttributes.txt\", sep='\\t')"
   ]
  },
  {
   "cell_type": "code",
   "execution_count": 5,
   "metadata": {},
   "outputs": [],
   "source": [
    "# match nodes of directed graph with attributes of nodes\n",
    "ELnodeData = ELnodes.set_index('Node').to_dict('index').items()\n",
    "ELfriendG.add_nodes_from(ELnodeData)\n",
    "ELcoworkG.add_nodes_from(ELnodeData)"
   ]
  },
  {
   "cell_type": "code",
   "execution_count": 6,
   "metadata": {},
   "outputs": [
    {
     "data": {
      "text/plain": [
       "(71, 71)"
      ]
     },
     "execution_count": 6,
     "metadata": {},
     "output_type": "execute_result"
    }
   ],
   "source": [
    "ELfriendG.number_of_nodes(), ELcoworkG.number_of_nodes()"
   ]
  },
  {
   "cell_type": "markdown",
   "metadata": {},
   "source": [
    "The number of nodes has changed after adding attributes, because both graphs have isolates (not in the edge list). This will have implications for parts of our analysis. For now, we consider graphs with isolates."
   ]
  },
  {
   "cell_type": "code",
   "execution_count": 7,
   "metadata": {},
   "outputs": [
    {
     "data": {
      "text/plain": [
       "([44, 47], [8])"
      ]
     },
     "execution_count": 7,
     "metadata": {},
     "output_type": "execute_result"
    }
   ],
   "source": [
    "# let's look at isolates\n",
    "list(nx.isolates(ELfriendG)), list(nx.isolates(ELcoworkG))"
   ]
  },
  {
   "cell_type": "code",
   "execution_count": 8,
   "metadata": {},
   "outputs": [
    {
     "name": "stdout",
     "output_type": "stream",
     "text": [
      "{1: 1, 2: 1, 4: 1, 8: 1, 17: 1, 16: 1, 22: 1, 26: 1, 3: 1, 9: 1, 11: 1, 12: 1, 14: 1, 19: 1, 21: 1, 23: 1, 27: 2, 29: 2, 5: 1, 7: 1, 18: 1, 25: 1, 24: 1, 10: 1, 13: 1, 34: 2, 38: 2, 15: 1, 20: 1, 41: 1, 43: 2, 52: 1, 6: 1, 28: 1, 50: 1, 37: 1, 32: 1, 39: 2, 40: 1, 31: 1, 33: 1, 35: 1, 51: 2, 58: 1, 46: 2, 60: 2, 36: 1, 57: 2, 30: 1, 42: 1, 54: 1, 56: 1, 48: 2, 49: 1, 64: 2, 45: 1, 55: 1, 65: 1, 62: 1, 59: 2, 53: 1, 61: 2, 63: 1, 66: 1, 69: 2, 70: 1, 71: 2, 68: 1, 67: 2, 44: 2, 47: 1}\n"
     ]
    }
   ],
   "source": [
    "# let's look at attribute 'Gender' (same for both graphs)\n",
    "gender = nx.get_node_attributes(ELfriendG,'Gender')\n",
    "print(gender)"
   ]
  },
  {
   "cell_type": "code",
   "execution_count": 9,
   "metadata": {},
   "outputs": [
    {
     "name": "stdout",
     "output_type": "stream",
     "text": [
      "61.2 % of friendship relations are reciprocical.\n"
     ]
    }
   ],
   "source": [
    "# reciprocity (only interesting for ELfriend as it is an undirected graph)\n",
    "nx.reciprocity(ELfriendG)\n",
    "print(round(nx.reciprocity(ELfriendG)*100,1), \"% of friendship relations are reciprocical.\")"
   ]
  },
  {
   "cell_type": "code",
   "execution_count": 10,
   "metadata": {},
   "outputs": [
    {
     "name": "stdout",
     "output_type": "stream",
     "text": [
      "{1: 0.6142857142857143, 2: 0.5229885057471264, 4: 0.37468671679197996, 8: 0.37037037037037035, 17: 0.31218905472636815, 16: 0.2533783783783784, 22: 0.5625, 26: 0.38100436681222705, 3: 0.25, 9: 0.5978260869565217, 11: 0.5301204819277109, 12: 0.3548009367681499, 14: 0.29069767441860467, 19: 0.28846153846153844, 21: 0.536734693877551, 23: 0.7037037037037037, 27: 0.4858490566037736, 29: 0.40710382513661203, 5: 0.17307692307692307, 7: 0.2, 18: 0.47093023255813954, 25: 0.3602941176470588, 24: 0.3542483660130719, 10: 0.5503355704697986, 13: 0.34392014519056263, 34: 0.29770992366412213, 38: 0.3235294117647059, 15: 0.38461538461538464, 20: 0.45481927710843373, 41: 0.3110831234256927, 43: 0.3220108695652174, 52: 0.444636678200692, 6: 0, 28: 0.40594059405940597, 50: 0.504424778761062, 37: 0, 32: 0.5098039215686274, 39: 0.2867647058823529, 40: 0.38513513513513514, 31: 0.22916666666666666, 33: 0.30097087378640774, 35: 0.37575757575757573, 51: 0.6506849315068494, 58: 0.4013840830449827, 46: 0.38461538461538464, 60: 0.2903225806451613, 36: 0.26229508196721313, 57: 0.34068627450980393, 30: 0.33653846153846156, 42: 0.3675373134328358, 54: 0.5544217687074829, 56: 0.5204081632653061, 48: 0.3235294117647059, 49: 0.6829268292682927, 64: 0.21532846715328466, 45: 0.19767441860465115, 55: 0.3333333333333333, 65: 0.2757009345794392, 62: 0.53125, 59: 0.48484848484848486, 53: 0, 61: 0.8333333333333334, 63: 1.0, 66: 0.31547619047619047, 69: 0.6818181818181818, 70: 0.45901639344262296, 71: 0.65, 68: 0.37735849056603776, 67: 0.7631578947368421, 44: 0, 47: 0} {1: 0.16666666666666666, 17: 0.2813852813852814, 39: 0.18181818181818182, 40: 0.1794871794871795, 41: 0.3, 2: 0.37777777777777777, 7: 0.3333333333333333, 16: 0.23, 22: 0.13227513227513227, 26: 0.2022792022792023, 29: 0.2867647058823529, 44: 0.6, 53: 0.4, 62: 0.6444444444444445, 64: 0.7, 3: 0.6666666666666666, 18: 0.46153846153846156, 25: 0.39285714285714285, 28: 0.3157894736842105, 4: 0.3235294117647059, 12: 0.48717948717948717, 19: 0.2631578947368421, 20: 0.7, 31: 0.32748538011695905, 37: 0.6666666666666666, 45: 0.37777777777777777, 46: 0.5833333333333334, 52: 0.3333333333333333, 61: 0.5277777777777778, 70: 0.39285714285714285, 5: 0.38461538461538464, 24: 0.20915032679738563, 32: 0.35947712418300654, 33: 0.5, 38: 0.3333333333333333, 50: 0.5714285714285714, 51: 0.5777777777777777, 54: 0.23636363636363636, 58: 0.6666666666666666, 59: 0.7142857142857143, 63: 0.3939393939393939, 6: 0.3484848484848485, 30: 0.3611111111111111, 43: 0.14285714285714285, 65: 0.41818181818181815, 9: 0.5, 60: 0.3333333333333333, 10: 0.17857142857142858, 34: 0.5714285714285714, 49: 0.30303030303030304, 11: 0.2, 56: 0.47619047619047616, 15: 0.25146198830409355, 42: 0.39285714285714285, 13: 0.19047619047619047, 55: 0.3717948717948718, 57: 0.25, 66: 0.5, 67: 0.3333333333333333, 71: 0.5, 14: 0.5, 35: 0.43636363636363634, 36: 0.2222222222222222, 47: 0.3333333333333333, 48: 0.5, 27: 0.32727272727272727, 68: 0.5333333333333333, 21: 0.38095238095238093, 69: 0.5, 23: 0.21428571428571427, 8: 0}\n"
     ]
    }
   ],
   "source": [
    "# One can look at the local transitivity\n",
    "print(nx.clustering(ELfriendG), nx.clustering(ELcoworkG))"
   ]
  },
  {
   "cell_type": "code",
   "execution_count": 11,
   "metadata": {},
   "outputs": [
    {
     "name": "stdout",
     "output_type": "stream",
     "text": [
      "0 0 0\n"
     ]
    }
   ],
   "source": [
    "# we expect a local transitivity of 0 for isolates:\n",
    "print(nx.clustering(ELfriendG)[44], nx.clustering(ELfriendG)[47], nx.clustering(ELcoworkG)[8])"
   ]
  },
  {
   "cell_type": "code",
   "execution_count": 12,
   "metadata": {},
   "outputs": [
    {
     "name": "stdout",
     "output_type": "stream",
     "text": [
      "0.3952045322118626 0.3852689534189992\n",
      "0.3473431401981387 0.3069738480697385\n"
     ]
    }
   ],
   "source": [
    "# Let's look at the average local transitivity\n",
    "print(nx.average_clustering(ELfriendG), nx.average_clustering(ELcoworkG))\n",
    "# Triads: global transitivity\n",
    "print(nx.transitivity(ELfriendG), nx.transitivity(ELcoworkG))"
   ]
  },
  {
   "cell_type": "markdown",
   "metadata": {},
   "source": [
    "One can notice average local transitivity is close to global transitivity for both graphs."
   ]
  },
  {
   "cell_type": "markdown",
   "metadata": {},
   "source": [
    "### Other indicators of cohesion"
   ]
  },
  {
   "cell_type": "code",
   "execution_count": 13,
   "metadata": {},
   "outputs": [
    {
     "data": {
      "text/plain": [
       "(0.11569416498993963, 0.15211267605633802)"
      ]
     },
     "execution_count": 13,
     "metadata": {},
     "output_type": "execute_result"
    }
   ],
   "source": [
    "# Density\n",
    "nx.density(ELfriendG), nx.density(ELcoworkG)"
   ]
  },
  {
   "cell_type": "code",
   "execution_count": 14,
   "metadata": {},
   "outputs": [
    {
     "name": "stdout",
     "output_type": "stream",
     "text": [
      "[[1, 17, 12, 8], [1, 17, 12, 2, 26, 4, 22], [1, 17, 39, 26], [2, 12, 17, 10, 24, 26], [2, 12, 17, 4, 22, 16], [2, 12, 17, 4, 22, 24, 26], [2, 53], [3, 14, 4], [3, 14, 28], [3, 7], [5, 33, 25], [5, 33, 18], [5, 33, 7], [5, 12, 25], [5, 20], [6, 18], [6, 14], [8, 41, 65], [8, 11, 65], [8, 11, 10, 17, 12], [9, 24, 27, 10, 12, 29, 26], [9, 24, 27, 10, 12, 13, 17, 26], [9, 24, 27, 10, 12, 13, 17, 11, 21], [9, 24, 27, 4, 17, 25, 12, 26], [9, 24, 27, 4, 17, 25, 12, 21], [9, 24, 27, 4, 17, 13, 26, 12], [9, 24, 27, 4, 17, 13, 26, 20], [9, 24, 27, 4, 17, 13, 11, 21, 12], [9, 24, 27, 4, 17, 13, 11, 21, 20], [9, 24, 27, 4, 17, 13, 23], [9, 24, 27, 4, 29, 26, 12], [10, 12, 34, 26, 17], [10, 12, 34, 26, 29], [10, 12, 38, 24, 26, 27, 13], [10, 12, 38, 24, 26, 27, 29], [11, 27, 40, 17, 21, 43], [11, 27, 40, 17, 21, 20], [11, 27, 13, 24, 43, 17, 21], [11, 27, 13, 24, 4, 65], [12, 34, 16, 17], [12, 4, 16, 13, 17, 21], [12, 4, 16, 13, 17, 22], [12, 4, 19, 22], [12, 4, 22, 13, 17, 24, 26], [12, 38, 16, 13], [12, 15, 16, 13], [14, 17, 4, 16], [14, 17, 4, 25], [14, 17, 4, 20], [14, 17, 28, 16], [14, 17, 28, 25], [14, 50, 28], [15, 37], [16, 32, 28], [17, 26, 40, 27, 43], [17, 26, 40, 27, 20], [17, 26, 40, 39, 43], [17, 26, 24, 43, 27, 13], [17, 26, 24, 43, 39], [17, 26, 24, 4, 22, 20, 13], [17, 26, 34, 43, 39], [17, 26, 30, 25], [17, 26, 30, 43], [19, 35, 60, 46], [20, 36, 40, 26], [21, 41, 43, 40], [21, 41, 43, 24, 13], [31, 32, 35, 28, 33], [31, 32, 35, 28, 58, 51], [31, 33, 35, 28, 25], [31, 33, 35, 28, 18], [31, 33, 36, 41], [31, 33, 36, 30], [31, 33, 30, 25], [31, 33, 63], [31, 34, 26, 36, 29], [31, 35, 28, 18, 50, 58, 51], [31, 65, 66, 52, 56, 54], [31, 65, 66, 52, 24, 13], [31, 65, 4, 24, 26, 27, 13], [31, 65, 41, 26, 24, 13], [31, 65, 41, 26, 36], [31, 65, 41, 52, 24, 13], [31, 65, 41, 52, 42, 56, 54], [31, 65, 58, 56, 42, 52, 54], [31, 38, 24, 29, 26, 27], [31, 38, 24, 13, 26, 27], [31, 38, 24, 13, 52], [31, 38, 42, 52], [31, 38, 36, 26, 29], [31, 23, 24, 27, 4, 13], [31, 25, 26, 24, 27, 4], [31, 25, 26, 30], [31, 29, 4, 24, 26, 27], [31, 30, 26, 36], [39, 34, 48, 43], [39, 66, 65, 64], [39, 66, 65, 24], [39, 41, 65, 64, 42], [39, 41, 65, 24, 26], [39, 41, 33], [39, 41, 43, 64, 42], [39, 41, 43, 24, 26], [39, 41, 43, 40, 42], [39, 41, 43, 40, 26], [39, 45, 48], [39, 45, 65, 42], [39, 48, 64, 43], [40, 41, 49, 42], [40, 41, 36, 26, 43], [40, 27, 38, 26], [40, 38, 42], [40, 38, 36, 26], [43, 36, 26, 34], [43, 36, 26, 30], [43, 13, 24, 41, 57], [43, 13, 24, 41, 26], [43, 57, 64, 41, 42], [43, 57, 64, 62], [44], [45, 62, 65], [45, 35], [45, 29, 48], [45, 70], [46, 34], [46, 60, 64, 57], [47], [48, 29, 34], [48, 29, 38], [49, 65, 56, 41, 42, 52], [53, 64], [53, 13], [55, 56, 42], [55, 56, 66], [57, 64, 65, 52, 54, 41, 42], [57, 64, 65, 52, 54, 66], [57, 64, 65, 62], [57, 64, 60, 61], [57, 24, 13, 52, 65, 41], [57, 24, 13, 52, 65, 66], [57, 24, 13, 52, 38], [57, 38, 42, 52], [59, 58, 64, 54], [59, 58, 50, 51], [59, 30], [60, 50, 35], [60, 36], [64, 52, 65, 54, 56, 66], [64, 52, 65, 54, 56, 42, 41], [64, 52, 65, 54, 56, 42, 58], [64, 69, 66, 70, 71], [67, 66, 68, 69, 70, 71], [68, 41, 56, 65, 54], [68, 66, 56, 65, 54]]\n",
      "[[1, 40], [1, 17, 39], [1, 41], [3, 28, 25], [3, 28, 18], [5, 32, 18, 50, 28], [5, 32, 18, 31, 33, 51], [5, 32, 18, 31, 33, 59], [5, 32, 18, 31, 58, 51], [5, 32, 18, 31, 58, 59], [5, 32, 18, 31, 58, 28], [5, 32, 18, 31, 63, 28], [5, 38, 24], [5, 39], [5, 54, 51, 33], [5, 54, 51, 58], [5, 24, 31], [6, 65, 24], [6, 43], [6, 38, 24], [6, 31, 32, 58, 51], [6, 31, 32, 58, 59], [6, 31, 32, 58, 28], [6, 31, 32, 63, 28], [6, 31, 24], [6, 31, 30, 58, 59], [6, 31, 30, 58, 51], [6, 31, 30, 58, 28], [7, 2], [7, 18, 63], [8], [9, 29, 16, 12], [9, 29, 60], [9, 29, 45], [10, 34, 29], [10, 49, 26], [10, 53], [10, 24, 26], [10, 24, 31], [10, 60, 29], [11, 70, 40], [11, 39, 17], [11, 40, 65], [11, 41, 56], [11, 41, 65, 49], [11, 41, 65, 54], [11, 41, 43], [11, 45, 17], [12, 16, 17, 34, 29, 61], [12, 16, 17, 26, 62], [12, 16, 17, 42], [12, 16, 38, 26], [12, 16, 15, 26, 62], [12, 16, 15, 61, 29], [12, 19, 17, 34], [12, 19, 17, 4, 26, 62], [12, 19, 17, 42], [12, 19, 15, 26, 62], [12, 4, 17, 29, 61], [13, 33, 57], [13, 33, 31], [13, 67, 43], [13, 38, 57], [13, 38, 52], [13, 38, 55], [13, 39, 66], [13, 40, 65], [13, 41, 65, 49], [13, 41, 65, 55], [13, 41, 66, 49], [13, 41, 66, 55], [13, 41, 43], [13, 41, 57], [13, 71, 49], [13, 31, 55], [14, 16, 32, 50], [14, 16, 17], [14, 28, 32, 50], [14, 28, 32, 63], [14, 28, 25, 17], [14, 28, 25, 50], [14, 28, 25, 63], [14, 28, 30], [18, 32, 35, 28, 63, 31], [21, 40, 27], [21, 41, 49], [21, 41, 43], [21, 41, 55], [21, 41, 57], [21, 27, 49], [21, 27, 43], [21, 27, 55], [22, 4, 40, 20], [22, 4, 17, 19, 62], [22, 4, 52], [22, 4, 31], [22, 16, 32, 15], [22, 16, 2, 64], [22, 16, 2, 17, 62], [22, 16, 38, 56], [22, 16, 38, 55], [22, 16, 15, 62], [22, 19, 64], [22, 19, 68, 43], [22, 19, 15, 62], [22, 19, 60], [22, 20, 15], [22, 31, 32, 51], [22, 31, 55], [22, 39, 17], [22, 39, 66], [22, 39, 69], [22, 43, 69], [22, 47, 15], [22, 49, 66], [22, 49, 71], [22, 51, 54], [22, 52, 38], [22, 57, 38], [22, 66, 15], [22, 66, 55], [23, 40], [23, 41, 66, 49], [23, 41, 66, 55], [23, 41, 54], [23, 52], [23, 47], [24, 36, 65], [24, 36, 15], [24, 44, 17], [24, 44, 15], [24, 57, 41], [24, 57, 38], [24, 26, 65, 40], [24, 26, 65, 41, 55], [24, 26, 67], [24, 26, 38, 52], [24, 26, 38, 55], [24, 26, 15, 19], [24, 26, 17, 19], [24, 31, 55], [25, 48, 17], [25, 35, 28, 63], [26, 32, 16, 15], [26, 2, 16, 17, 62], [26, 66, 41, 49], [26, 66, 41, 55], [26, 66, 15], [26, 66, 39], [26, 4, 40, 20], [26, 4, 52], [26, 68, 19], [26, 68, 41], [26, 68, 27], [26, 69, 39], [26, 39, 17], [26, 16, 56, 27, 38], [26, 16, 27, 55, 38], [26, 49, 65, 41], [26, 49, 27], [26, 20, 15], [26, 54, 65, 41], [26, 56, 41], [26, 27, 40], [27, 43, 68], [27, 71, 49], [28, 32, 70], [28, 19, 42, 17], [28, 19, 35, 45, 46], [28, 19, 4, 17, 45], [28, 19, 4, 46, 45], [28, 19, 4, 46, 70], [28, 31, 4, 46], [28, 31, 46, 35], [29, 4, 46, 45], [29, 4, 46, 70], [29, 4, 45, 17], [29, 4, 37], [29, 46, 60], [29, 16, 48, 17, 34], [29, 16, 48, 15], [29, 16, 2, 17], [29, 16, 37, 15], [29, 63, 15], [30, 57], [30, 39], [35, 60, 19, 46], [35, 15, 32, 63], [35, 15, 19], [36, 65, 54], [36, 43, 61], [36, 45], [36, 15, 16, 61], [36, 15, 47], [41, 43, 68], [42, 17, 48, 16], [42, 17, 39], [42, 43, 19], [44, 16, 17, 2], [44, 16, 15], [48, 16, 62, 17], [48, 16, 62, 15], [53, 64, 16, 2], [53, 64, 19], [70, 40, 4]]\n"
     ]
    }
   ],
   "source": [
    "# to find cliques that are only defined for undirected graphs, we need to convert ELfriendG to an undirected graph\n",
    "ELfriendUG = nx.DiGraph.to_undirected(ELfriendG)\n",
    "print(list(nx.find_cliques(ELfriendUG)))\n",
    "print(list(nx.find_cliques(ELcoworkG)))"
   ]
  },
  {
   "cell_type": "code",
   "execution_count": 15,
   "metadata": {},
   "outputs": [
    {
     "data": {
      "text/plain": [
       "(154, 205)"
      ]
     },
     "execution_count": 15,
     "metadata": {},
     "output_type": "execute_result"
    }
   ],
   "source": [
    "len(list(nx.find_cliques(ELfriendUG))), len(list(nx.find_cliques(ELcoworkG)))"
   ]
  },
  {
   "cell_type": "markdown",
   "metadata": {},
   "source": [
    "### Global structures: connectivity"
   ]
  },
  {
   "cell_type": "markdown",
   "metadata": {},
   "source": [
    "Both graphs have isolates. Thus, both are disconnected graphs, for which the diameter and the average shortest path length are not defined:"
   ]
  },
  {
   "cell_type": "code",
   "execution_count": 16,
   "metadata": {},
   "outputs": [
    {
     "name": "stdout",
     "output_type": "stream",
     "text": [
      "False\n",
      "False\n"
     ]
    }
   ],
   "source": [
    "print(nx.is_weakly_connected(ELfriendG))\n",
    "print(nx.is_connected(ELcoworkG))"
   ]
  },
  {
   "cell_type": "markdown",
   "metadata": {},
   "source": [
    "Let's now look at the connectivity of these graphs after removing isolates."
   ]
  },
  {
   "cell_type": "code",
   "execution_count": 17,
   "metadata": {},
   "outputs": [],
   "source": [
    "ELfriend_without_isolatesG = ELfriendG.copy() # we make a copy because we will need the initial graph afterwards\n",
    "ELfriend_without_isolatesG.remove_nodes_from(list(nx.isolates(ELfriendG)))"
   ]
  },
  {
   "cell_type": "code",
   "execution_count": 18,
   "metadata": {},
   "outputs": [
    {
     "data": {
      "text/plain": [
       "69"
      ]
     },
     "execution_count": 18,
     "metadata": {},
     "output_type": "execute_result"
    }
   ],
   "source": [
    "ELfriend_without_isolatesG.number_of_nodes()"
   ]
  },
  {
   "cell_type": "code",
   "execution_count": 19,
   "metadata": {},
   "outputs": [],
   "source": [
    "ELcowork_without_isolatesG = ELcoworkG.copy()\n",
    "ELcowork_without_isolatesG.remove_nodes_from(list(nx.isolates(ELcoworkG)))"
   ]
  },
  {
   "cell_type": "code",
   "execution_count": 20,
   "metadata": {},
   "outputs": [
    {
     "name": "stdout",
     "output_type": "stream",
     "text": [
      "False\n",
      "True\n"
     ]
    }
   ],
   "source": [
    "print(nx.is_strongly_connected(ELfriend_without_isolatesG))\n",
    "print(nx.is_weakly_connected(ELfriend_without_isolatesG))"
   ]
  },
  {
   "cell_type": "code",
   "execution_count": 21,
   "metadata": {},
   "outputs": [
    {
     "name": "stdout",
     "output_type": "stream",
     "text": [
      "5\n"
     ]
    },
    {
     "ename": "NetworkXError",
     "evalue": "Graph is not strongly connected.",
     "output_type": "error",
     "traceback": [
      "\u001b[1;31m---------------------------------------------------------------------------\u001b[0m",
      "\u001b[1;31mNetworkXError\u001b[0m                             Traceback (most recent call last)",
      "Cell \u001b[1;32mIn[21], line 3\u001b[0m\n\u001b[0;32m      1\u001b[0m ELfriend_without_isolatesUG \u001b[38;5;241m=\u001b[39m nx\u001b[38;5;241m.\u001b[39mDiGraph\u001b[38;5;241m.\u001b[39mto_undirected(ELfriend_without_isolatesG)\n\u001b[0;32m      2\u001b[0m \u001b[38;5;28mprint\u001b[39m(nx\u001b[38;5;241m.\u001b[39mdiameter(ELfriend_without_isolatesUG))\n\u001b[1;32m----> 3\u001b[0m \u001b[38;5;28mprint\u001b[39m(\u001b[43mnx\u001b[49m\u001b[38;5;241;43m.\u001b[39;49m\u001b[43maverage_shortest_path_length\u001b[49m\u001b[43m(\u001b[49m\u001b[43mELfriend_without_isolatesG\u001b[49m\u001b[43m)\u001b[49m)\n",
      "File \u001b[1;32mc:\\Users\\leopo\\anaconda3\\envs\\batomouche\\lib\\site-packages\\networkx\\algorithms\\shortest_paths\\generic.py:409\u001b[0m, in \u001b[0;36maverage_shortest_path_length\u001b[1;34m(G, weight, method)\u001b[0m\n\u001b[0;32m    407\u001b[0m \u001b[38;5;66;03m# Shortest path length is undefined if the graph is not strongly connected.\u001b[39;00m\n\u001b[0;32m    408\u001b[0m \u001b[38;5;28;01mif\u001b[39;00m G\u001b[38;5;241m.\u001b[39mis_directed() \u001b[38;5;129;01mand\u001b[39;00m \u001b[38;5;129;01mnot\u001b[39;00m nx\u001b[38;5;241m.\u001b[39mis_strongly_connected(G):\n\u001b[1;32m--> 409\u001b[0m     \u001b[38;5;28;01mraise\u001b[39;00m nx\u001b[38;5;241m.\u001b[39mNetworkXError(\u001b[38;5;124m\"\u001b[39m\u001b[38;5;124mGraph is not strongly connected.\u001b[39m\u001b[38;5;124m\"\u001b[39m)\n\u001b[0;32m    410\u001b[0m \u001b[38;5;66;03m# Shortest path length is undefined if the graph is not connected.\u001b[39;00m\n\u001b[0;32m    411\u001b[0m \u001b[38;5;28;01mif\u001b[39;00m \u001b[38;5;129;01mnot\u001b[39;00m G\u001b[38;5;241m.\u001b[39mis_directed() \u001b[38;5;129;01mand\u001b[39;00m \u001b[38;5;129;01mnot\u001b[39;00m nx\u001b[38;5;241m.\u001b[39mis_connected(G):\n",
      "\u001b[1;31mNetworkXError\u001b[0m: Graph is not strongly connected."
     ]
    }
   ],
   "source": [
    "ELfriend_without_isolatesUG = nx.DiGraph.to_undirected(ELfriend_without_isolatesG)\n",
    "print(nx.diameter(ELfriend_without_isolatesUG))\n",
    "print(nx.average_shortest_path_length(ELfriend_without_isolatesG))"
   ]
  },
  {
   "cell_type": "code",
   "execution_count": 22,
   "metadata": {},
   "outputs": [
    {
     "name": "stdout",
     "output_type": "stream",
     "text": [
      "True\n",
      "4\n",
      "2.10351966873706\n"
     ]
    }
   ],
   "source": [
    "print(nx.is_connected(ELcowork_without_isolatesG))\n",
    "print(nx.diameter(ELcowork_without_isolatesG))\n",
    "print(nx.average_shortest_path_length(ELcowork_without_isolatesG))"
   ]
  },
  {
   "cell_type": "markdown",
   "metadata": {},
   "source": [
    "### Centrality"
   ]
  },
  {
   "cell_type": "markdown",
   "metadata": {},
   "source": [
    "We are now again considering graphs with isolates."
   ]
  },
  {
   "cell_type": "code",
   "execution_count": 23,
   "metadata": {},
   "outputs": [
    {
     "name": "stdout",
     "output_type": "stream",
     "text": [
      "{1: 0.12857142857142856, 2: 0.19999999999999998, 4: 0.41428571428571426, 8: 0.11428571428571428, 17: 0.5857142857142857, 16: 0.2571428571428571, 22: 0.19999999999999998, 26: 0.44285714285714284, 3: 0.05714285714285714, 9: 0.2857142857142857, 11: 0.2714285714285714, 12: 0.42857142857142855, 14: 0.19999999999999998, 19: 0.11428571428571428, 21: 0.32857142857142857, 23: 0.11428571428571428, 27: 0.42857142857142855, 29: 0.2857142857142857, 5: 0.11428571428571428, 7: 0.05714285714285714, 18: 0.19999999999999998, 25: 0.3, 24: 0.5714285714285714, 10: 0.2571428571428571, 13: 0.4857142857142857, 34: 0.24285714285714285, 38: 0.3, 15: 0.08571428571428572, 20: 0.2714285714285714, 41: 0.41428571428571426, 43: 0.39999999999999997, 52: 0.35714285714285715, 6: 0.02857142857142857, 28: 0.3, 50: 0.22857142857142856, 37: 0.014285714285714285, 32: 0.15714285714285714, 39: 0.3, 40: 0.2571428571428571, 31: 0.5714285714285714, 33: 0.21428571428571427, 35: 0.2714285714285714, 51: 0.18571428571428572, 58: 0.35714285714285715, 46: 0.11428571428571428, 60: 0.17142857142857143, 36: 0.2857142857142857, 57: 0.3, 30: 0.15714285714285714, 42: 0.34285714285714286, 54: 0.2571428571428571, 56: 0.2571428571428571, 48: 0.15714285714285714, 49: 0.14285714285714285, 64: 0.4857142857142857, 45: 0.14285714285714285, 55: 0.04285714285714286, 65: 0.42857142857142855, 62: 0.12857142857142856, 59: 0.12857142857142856, 53: 0.04285714285714286, 61: 0.08571428571428572, 63: 0.02857142857142857, 66: 0.2714285714285714, 69: 0.12857142857142856, 70: 0.17142857142857143, 71: 0.09999999999999999, 68: 0.15714285714285714, 67: 0.09999999999999999, 44: 0.0, 47: 0.0}\n",
      "{1: 0.05714285714285714, 17: 0.3142857142857143, 39: 0.15714285714285714, 40: 0.18571428571428572, 41: 0.22857142857142856, 2: 0.14285714285714285, 7: 0.04285714285714286, 16: 0.35714285714285715, 22: 0.39999999999999997, 26: 0.3857142857142857, 29: 0.24285714285714285, 44: 0.07142857142857142, 53: 0.07142857142857142, 62: 0.14285714285714285, 64: 0.07142857142857142, 3: 0.04285714285714286, 18: 0.18571428571428572, 25: 0.11428571428571428, 28: 0.2857142857142857, 4: 0.24285714285714285, 12: 0.18571428571428572, 19: 0.2857142857142857, 20: 0.07142857142857142, 31: 0.2714285714285714, 37: 0.05714285714285714, 45: 0.14285714285714285, 46: 0.12857142857142856, 52: 0.09999999999999999, 61: 0.12857142857142856, 70: 0.11428571428571428, 5: 0.19999999999999998, 24: 0.2571428571428571, 32: 0.2571428571428571, 33: 0.12857142857142856, 38: 0.18571428571428572, 50: 0.09999999999999999, 51: 0.14285714285714285, 54: 0.15714285714285714, 58: 0.14285714285714285, 59: 0.11428571428571428, 63: 0.17142857142857143, 6: 0.17142857142857143, 30: 0.12857142857142856, 43: 0.19999999999999998, 65: 0.15714285714285714, 9: 0.07142857142857142, 60: 0.09999999999999999, 10: 0.11428571428571428, 34: 0.11428571428571428, 49: 0.17142857142857143, 11: 0.15714285714285714, 56: 0.09999999999999999, 15: 0.2714285714285714, 42: 0.11428571428571428, 13: 0.21428571428571427, 55: 0.18571428571428572, 57: 0.11428571428571428, 66: 0.12857142857142856, 67: 0.05714285714285714, 71: 0.05714285714285714, 14: 0.11428571428571428, 35: 0.15714285714285714, 36: 0.12857142857142856, 47: 0.05714285714285714, 48: 0.11428571428571428, 27: 0.15714285714285714, 68: 0.08571428571428572, 21: 0.09999999999999999, 69: 0.05714285714285714, 23: 0.11428571428571428, 8: 0.0}\n",
      "{1: 0.07142857142857142, 2: 0.14285714285714285, 4: 0.19999999999999998, 8: 0.09999999999999999, 17: 0.2571428571428571, 16: 0.14285714285714285, 22: 0.08571428571428572, 26: 0.3142857142857143, 3: 0.05714285714285714, 9: 0.19999999999999998, 11: 0.19999999999999998, 12: 0.11428571428571428, 14: 0.08571428571428572, 19: 0.05714285714285714, 21: 0.21428571428571427, 23: 0.09999999999999999, 27: 0.24285714285714285, 29: 0.14285714285714285, 5: 0.07142857142857142, 7: 0.02857142857142857, 18: 0.07142857142857142, 25: 0.14285714285714285, 24: 0.24285714285714285, 10: 0.05714285714285714, 13: 0.2857142857142857, 34: 0.15714285714285714, 38: 0.18571428571428572, 15: 0.02857142857142857, 20: 0.09999999999999999, 41: 0.24285714285714285, 43: 0.18571428571428572, 52: 0.19999999999999998, 6: 0.02857142857142857, 28: 0.12857142857142856, 50: 0.11428571428571428, 37: 0.014285714285714285, 32: 0.09999999999999999, 39: 0.18571428571428572, 40: 0.11428571428571428, 31: 0.21428571428571427, 33: 0.04285714285714286, 35: 0.14285714285714285, 51: 0.09999999999999999, 58: 0.17142857142857143, 46: 0.07142857142857142, 60: 0.11428571428571428, 36: 0.15714285714285714, 57: 0.17142857142857143, 30: 0.07142857142857142, 42: 0.12857142857142856, 54: 0.15714285714285714, 56: 0.14285714285714285, 48: 0.05714285714285714, 49: 0.08571428571428572, 64: 0.21428571428571427, 45: 0.05714285714285714, 55: 0.04285714285714286, 65: 0.11428571428571428, 62: 0.07142857142857142, 59: 0.05714285714285714, 53: 0.0, 61: 0.04285714285714286, 63: 0.0, 66: 0.04285714285714286, 69: 0.05714285714285714, 70: 0.07142857142857142, 71: 0.08571428571428572, 68: 0.07142857142857142, 67: 0.04285714285714286, 44: 0.0, 47: 0.0}\n",
      "{1: 0.05714285714285714, 2: 0.05714285714285714, 4: 0.21428571428571427, 8: 0.014285714285714285, 17: 0.32857142857142857, 16: 0.11428571428571428, 22: 0.11428571428571428, 26: 0.12857142857142856, 3: 0.0, 9: 0.08571428571428572, 11: 0.07142857142857142, 12: 0.3142857142857143, 14: 0.11428571428571428, 19: 0.05714285714285714, 21: 0.11428571428571428, 23: 0.014285714285714285, 27: 0.18571428571428572, 29: 0.14285714285714285, 5: 0.04285714285714286, 7: 0.02857142857142857, 18: 0.12857142857142856, 25: 0.15714285714285714, 24: 0.32857142857142857, 10: 0.19999999999999998, 13: 0.19999999999999998, 34: 0.08571428571428572, 38: 0.11428571428571428, 15: 0.05714285714285714, 20: 0.17142857142857143, 41: 0.17142857142857143, 43: 0.21428571428571427, 52: 0.15714285714285714, 6: 0.0, 28: 0.17142857142857143, 50: 0.11428571428571428, 37: 0.0, 32: 0.05714285714285714, 39: 0.11428571428571428, 40: 0.14285714285714285, 31: 0.35714285714285715, 33: 0.17142857142857143, 35: 0.12857142857142856, 51: 0.08571428571428572, 58: 0.18571428571428572, 46: 0.04285714285714286, 60: 0.05714285714285714, 36: 0.12857142857142856, 57: 0.12857142857142856, 30: 0.08571428571428572, 42: 0.21428571428571427, 54: 0.09999999999999999, 56: 0.11428571428571428, 48: 0.09999999999999999, 49: 0.05714285714285714, 64: 0.2714285714285714, 45: 0.08571428571428572, 55: 0.0, 65: 0.3142857142857143, 62: 0.05714285714285714, 59: 0.07142857142857142, 53: 0.04285714285714286, 61: 0.04285714285714286, 63: 0.02857142857142857, 66: 0.22857142857142856, 69: 0.07142857142857142, 70: 0.09999999999999999, 71: 0.014285714285714285, 68: 0.08571428571428572, 67: 0.05714285714285714, 44: 0.0, 47: 0.0}\n"
     ]
    }
   ],
   "source": [
    "# degree centrality (without considering directed edges)\n",
    "print(nx.degree_centrality(ELfriendG))\n",
    "print(nx.degree_centrality(ELcoworkG))\n",
    "\n",
    "# indegree centrality (incoming ties, only for directed graphs)\n",
    "print(nx.in_degree_centrality(ELfriendG))\n",
    "\n",
    "# indegree centrality (outgoing ties)\n",
    "print(nx.out_degree_centrality(ELfriendG))"
   ]
  },
  {
   "cell_type": "code",
   "execution_count": null,
   "metadata": {},
   "outputs": [],
   "source": [
    "# Eigenvector centrality\n",
    "print(nx.eigenvector_centrality(ELfriendG))\n",
    "print(nx.eigenvector_centrality(ELfriendG.reverse()))\n",
    "# corresponding to the in-edges of the graph and to the out-edges with G.reverse()\n",
    "print(nx.eigenvector_centrality(ELcoworkG))"
   ]
  },
  {
   "cell_type": "code",
   "execution_count": null,
   "metadata": {},
   "outputs": [],
   "source": [
    "# Closeness centrality\n",
    "print(nx.closeness_centrality(ELfriendG)) # uses the inward distance to a node\n",
    "print(nx.closeness_centrality(ELcoworkG))"
   ]
  },
  {
   "cell_type": "code",
   "execution_count": null,
   "metadata": {},
   "outputs": [],
   "source": [
    "# Betweenness centrality\n",
    "print(nx.betweenness_centrality(ELfriendG))\n",
    "print(nx.betweenness_centrality(ELcoworkG))"
   ]
  }
 ],
 "metadata": {
  "kernelspec": {
   "display_name": "Python 3 (ipykernel)",
   "language": "python",
   "name": "python3"
  },
  "language_info": {
   "codemirror_mode": {
    "name": "ipython",
    "version": 3
   },
   "file_extension": ".py",
   "mimetype": "text/x-python",
   "name": "python",
   "nbconvert_exporter": "python",
   "pygments_lexer": "ipython3",
   "version": "3.9.0"
  }
 },
 "nbformat": 4,
 "nbformat_minor": 4
}
