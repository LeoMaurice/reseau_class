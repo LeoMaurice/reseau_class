{
 "cells": [
  {
   "cell_type": "markdown",
   "metadata": {},
   "source": [
    "# Preparation"
   ]
  },
  {
   "cell_type": "code",
   "execution_count": null,
   "metadata": {},
   "outputs": [],
   "source": [
    "# import package networkx\n",
    "import networkx as nx\n",
    "# import matplotlib (to draw better graphs)\n",
    "import matplotlib.pyplot as plt"
   ]
  },
  {
   "cell_type": "markdown",
   "metadata": {},
   "source": [
    "# Create and examine an undirected graph"
   ]
  },
  {
   "cell_type": "code",
   "execution_count": null,
   "metadata": {},
   "outputs": [],
   "source": [
    "# Generate G as an empty undirected graph\n",
    "G = nx.Graph()"
   ]
  },
  {
   "cell_type": "code",
   "execution_count": null,
   "metadata": {},
   "outputs": [],
   "source": [
    "# Add a node\n",
    "G.add_node(1)"
   ]
  },
  {
   "cell_type": "code",
   "execution_count": null,
   "metadata": {},
   "outputs": [],
   "source": [
    "# Add a list of nodes\n",
    "G.add_nodes_from([2, 3, 4])\n",
    "\n",
    "# View nodes\n",
    "G.nodes()"
   ]
  },
  {
   "cell_type": "code",
   "execution_count": null,
   "metadata": {},
   "outputs": [],
   "source": [
    "# Add an edge\n",
    "G.add_edge (1,2)"
   ]
  },
  {
   "cell_type": "code",
   "execution_count": null,
   "metadata": {},
   "outputs": [],
   "source": [
    "# Add a list of edges \n",
    "G.add_edges_from([(2, 4), (1, 3)])\n",
    "\n",
    "# View edges\n",
    "G.edges()"
   ]
  },
  {
   "cell_type": "markdown",
   "metadata": {},
   "source": [
    "## Simple properties"
   ]
  },
  {
   "cell_type": "code",
   "execution_count": null,
   "metadata": {},
   "outputs": [],
   "source": [
    "# Simple properties:  number of nodes \n",
    "G.number_of_nodes() # or: len(G)"
   ]
  },
  {
   "cell_type": "code",
   "execution_count": null,
   "metadata": {},
   "outputs": [],
   "source": [
    "# Simple properties: number of edges\n",
    "G.number_of_edges ()"
   ]
  },
  {
   "cell_type": "code",
   "execution_count": null,
   "metadata": {},
   "outputs": [],
   "source": [
    "# Degree ( = number of edges incident to each node)\n",
    "G.degree ()"
   ]
  },
  {
   "cell_type": "code",
   "execution_count": null,
   "metadata": {},
   "outputs": [],
   "source": [
    "# Degree of a specific node ( = the number of edges incident to it)\n",
    "G.degree (1)"
   ]
  },
  {
   "cell_type": "code",
   "execution_count": null,
   "metadata": {},
   "outputs": [],
   "source": [
    "# Who are the neighbors of a particular node (eg node 1)?\n",
    "list(G.adj[1])"
   ]
  },
  {
   "cell_type": "code",
   "execution_count": null,
   "metadata": {},
   "outputs": [],
   "source": [
    "# To remove nodes\n",
    "G.remove_node(2)\n",
    "# View results\n",
    "G.nodes()"
   ]
  },
  {
   "cell_type": "code",
   "execution_count": null,
   "metadata": {},
   "outputs": [],
   "source": [
    "# To remove edges\n",
    "G.remove_edge(1, 3)\n",
    "\n",
    "# View results\n",
    "G.edges()"
   ]
  },
  {
   "cell_type": "code",
   "execution_count": null,
   "metadata": {},
   "outputs": [],
   "source": [
    "# Removing all nodes and edges\n",
    "G.clear()"
   ]
  },
  {
   "cell_type": "markdown",
   "metadata": {},
   "source": [
    "### Mini-exercise\n",
    "\n",
    "Create an undirected graph with 7 nodes and 9 edges. Then look at its degrees.\n"
   ]
  },
  {
   "cell_type": "markdown",
   "metadata": {},
   "source": [
    "## Nodes with attributes"
   ]
  },
  {
   "cell_type": "code",
   "execution_count": null,
   "metadata": {},
   "outputs": [],
   "source": [
    "# Add nodes with attributes\n",
    "G.add_nodes_from([\n",
    "    (1, {\"color\": \"red\"}),\n",
    "    (2, {\"color\": \"red\"}),\n",
    "    (3, {\"color\": \"green\"}),\n",
    "    (4, {\"color\": \"red\"}),\n",
    "    (5, {\"color\": \"green\"}),\n",
    "    ])"
   ]
  },
  {
   "cell_type": "markdown",
   "metadata": {},
   "source": [
    "## Simple graph generators"
   ]
  },
  {
   "cell_type": "code",
   "execution_count": null,
   "metadata": {},
   "outputs": [],
   "source": [
    "########### Simple graph generators ###########\n",
    "\n",
    "# complete graph\n",
    "G1 = nx.complete_graph (10)\n",
    "print(G1.nodes())\n",
    "print(G1.edges())"
   ]
  },
  {
   "cell_type": "code",
   "execution_count": null,
   "metadata": {},
   "outputs": [],
   "source": [
    "# draw graph\n",
    "nx.draw(G1)\n",
    "plt.show()"
   ]
  },
  {
   "cell_type": "code",
   "execution_count": null,
   "metadata": {},
   "outputs": [],
   "source": [
    "# chain\n",
    "G2 = nx.path_graph (10)\n",
    "print(G2.nodes())\n",
    "print(G2.edges())"
   ]
  },
  {
   "cell_type": "code",
   "execution_count": null,
   "metadata": {},
   "outputs": [],
   "source": [
    "# draw graph\n",
    "nx.draw(G2)\n",
    "plt.show()"
   ]
  },
  {
   "cell_type": "markdown",
   "metadata": {},
   "source": [
    "### Generate graph from (weighted) edgelist"
   ]
  },
  {
   "cell_type": "code",
   "execution_count": null,
   "metadata": {},
   "outputs": [],
   "source": [
    "# generate new empty undirected graph\n",
    "G3 = nx.Graph() "
   ]
  },
  {
   "cell_type": "code",
   "execution_count": null,
   "metadata": {},
   "outputs": [],
   "source": [
    "# enter data in edgelist format (source, destination, weight)\n",
    "data = [\n",
    "    ['A', 'B', 29],\n",
    "    ['C', 'D', 26],\n",
    "    ['C', 'B', 12]\n",
    "]"
   ]
  },
  {
   "cell_type": "code",
   "execution_count": null,
   "metadata": {},
   "outputs": [],
   "source": [
    "# add edges to graph\n",
    "for row in data:\n",
    "    src_node = row[0]\n",
    "    dest_node = row[1]\n",
    "    weight = row[2]  # convert weight to a number\n",
    "    G3.add_edge(src_node, dest_node, weight=weight)"
   ]
  },
  {
   "cell_type": "code",
   "execution_count": null,
   "metadata": {},
   "outputs": [],
   "source": [
    "# see basic properties of graph\n",
    "print(G3.nodes())\n",
    "print(G3.edges())"
   ]
  },
  {
   "cell_type": "markdown",
   "metadata": {},
   "source": [
    "## Graphs from empirical data "
   ]
  },
  {
   "cell_type": "code",
   "execution_count": null,
   "metadata": {},
   "outputs": [],
   "source": [
    "# generate new digraph by reading edgelist (from empirical data)\n",
    "# it is a \"DiGraph\" (not \"Graph\") because it is directed\n",
    "ELadviceG = nx.read_edgelist('ELadvice_edgelist.txt',comments=\"node\",create_using=nx.DiGraph(),nodetype=int)"
   ]
  },
  {
   "cell_type": "code",
   "execution_count": null,
   "metadata": {},
   "outputs": [],
   "source": [
    "# see basic properties of graph\n",
    "print(ELadviceG.nodes())\n",
    "print(ELadviceG.edges())"
   ]
  },
  {
   "cell_type": "code",
   "execution_count": null,
   "metadata": {},
   "outputs": [],
   "source": [
    "# Outdegree ( = number of edges going out from each node)\n",
    "# because this is a digraph\n",
    "ELadviceG.out_degree()"
   ]
  },
  {
   "cell_type": "code",
   "execution_count": null,
   "metadata": {},
   "outputs": [],
   "source": [
    "# Indegree ( = number of edges coming to each node)\n",
    "# because this is a digraph\n",
    "ELadviceG.in_degree()"
   ]
  },
  {
   "cell_type": "code",
   "execution_count": null,
   "metadata": {},
   "outputs": [],
   "source": [
    "# Who are the neighbours of a node here?\n",
    "# With directed graphs, distinguish \"predecessors\" and \"successors\"\n",
    "# The predecessors of a node n are the nodes m such that there exists a directed edge from m to n.\n",
    "\n",
    "list(ELadviceG.predecessors(40)) # take for example the predecessors of node 40"
   ]
  },
  {
   "cell_type": "code",
   "execution_count": null,
   "metadata": {},
   "outputs": [],
   "source": [
    "# The successors of a node n are the nodes h such that there exists a directed edge from n to h.\n",
    "\n",
    "list(ELadviceG.successors(20)) # successors of node 20"
   ]
  },
  {
   "cell_type": "markdown",
   "metadata": {},
   "source": [
    "### Mini-exercise\n",
    "\n",
    "Look at the degrees (= indegrees + outdegrees) of ELadviceG.\n",
    "\n",
    "Plot the graph.\n"
   ]
  },
  {
   "cell_type": "markdown",
   "metadata": {},
   "source": [
    "## Home exercise \n",
    "\n",
    "1. Load ELfriend\n",
    "\n",
    "1a. Create graph; see its basic properties; view nodes; view edges; calculate in- and out-degrees; view the neighbors of one node of your choice; plot graph;\n",
    "\n",
    "1b. Replace two edges of your choice and re-do 1a.\n",
    "\n",
    "\n",
    "2. Load ELcowork\n",
    "\n",
    "2a. Create graph; see its basic properties; view nodes; view edges; calculate degrees; view the neighbors of one node of your choice; plot graph;\n",
    "\n",
    "2b. Remove three nodes of your choice and re-do 2a.\n",
    "\n",
    "\n",
    "NB: Careful: ELfriend is an asymmetric matrix (like ELadvice), while ELcowork is symmetric"
   ]
  },
  {
   "cell_type": "code",
   "execution_count": null,
   "metadata": {},
   "outputs": [],
   "source": [
    "ELcoworkG = nx.read_edgelist('ELcowork_edgelist.txt',comments=\"node\",create_using=nx.Graph(),nodetype=int)"
   ]
  },
  {
   "cell_type": "markdown",
   "metadata": {},
   "source": [
    "## Home exercise, February 7th, 2024"
   ]
  },
  {
   "cell_type": "code",
   "execution_count": null,
   "metadata": {},
   "outputs": [],
   "source": [
    "# Preparation\n",
    "\n",
    "import networkx as nx # import package networkx\n",
    "import matplotlib.pyplot as plt # import matplotlib (to draw better graphs)"
   ]
  },
  {
   "cell_type": "markdown",
   "metadata": {},
   "source": [
    "### 1. ELfriend"
   ]
  },
  {
   "cell_type": "markdown",
   "metadata": {},
   "source": [
    "1a. Create graph; see its basic properties; view nodes; view edges; calculate in- and out-degrees; view the neighbors of one node of your choice; plot graph."
   ]
  },
  {
   "cell_type": "code",
   "execution_count": null,
   "metadata": {},
   "outputs": [],
   "source": [
    "# Create directed graph\n",
    "ELfriendG = nx.read_edgelist('ELfriend_edgelist.txt', comments=\"node\", create_using=nx.DiGraph(), nodetype=int)\n",
    "\n",
    "# NB: the option 'create_using=nx.DiGraph()' generates a DIRECTED graph\n",
    "# therefore, there will be a difference between in- and out-degrees\n",
    "# and between predecessors and successors"
   ]
  },
  {
   "cell_type": "code",
   "execution_count": null,
   "metadata": {},
   "outputs": [],
   "source": [
    "# Number of nodes and edges\n",
    "ELfriendG.number_of_nodes(), ELfriendG.number_of_edges()"
   ]
  },
  {
   "cell_type": "code",
   "execution_count": null,
   "metadata": {},
   "outputs": [],
   "source": [
    "# See basic properties of graph\n",
    "print(ELfriendG.nodes())\n",
    "print(ELfriendG.edges())"
   ]
  },
  {
   "cell_type": "code",
   "execution_count": null,
   "metadata": {},
   "outputs": [],
   "source": [
    "# Indegrees\n",
    "ELfriendG.in_degree()"
   ]
  },
  {
   "cell_type": "code",
   "execution_count": null,
   "metadata": {},
   "outputs": [],
   "source": [
    "# Outdegrees\n",
    "ELfriendG.out_degree()"
   ]
  },
  {
   "cell_type": "code",
   "execution_count": null,
   "metadata": {},
   "outputs": [],
   "source": [
    "# Degree (= sum of in and outdegree)\n",
    "ELfriendG.degree()"
   ]
  },
  {
   "cell_type": "code",
   "execution_count": null,
   "metadata": {},
   "outputs": [],
   "source": [
    "# Let's look at a node in particular, for ex. 16\n",
    "ELfriendG.in_degree(16), ELfriendG.out_degree(16), ELfriendG.degree(16)"
   ]
  },
  {
   "cell_type": "code",
   "execution_count": null,
   "metadata": {},
   "outputs": [],
   "source": [
    "# Neighbours of node 16: predecessors\n",
    "list(ELfriendG.predecessors(16))\n",
    "# The predecessors of a node n are the nodes m such that there exists a directed edge from m to n."
   ]
  },
  {
   "cell_type": "code",
   "execution_count": null,
   "metadata": {},
   "outputs": [],
   "source": [
    "# Neighbours of node 16: successors\n",
    "list(ELfriendG.successors(16))\n",
    "# The successors of a node n are the nodes h such that there exists a directed edge from n to h."
   ]
  },
  {
   "cell_type": "code",
   "execution_count": null,
   "metadata": {},
   "outputs": [],
   "source": [
    "# plot ELfriendG\n",
    "nx.draw(ELfriendG)\n",
    "plt.show()"
   ]
  },
  {
   "cell_type": "markdown",
   "metadata": {},
   "source": [
    "1b. Replace two edges of your choice and re-do 1a."
   ]
  },
  {
   "cell_type": "code",
   "execution_count": null,
   "metadata": {},
   "outputs": [],
   "source": [
    "# Remove and add edges\n",
    "ELfriendG.remove_edges_from([(2,16), (15,16)]) # For example: I remove two incoming ties to node 16\n",
    "ELfriendG.add_edges_from([(16,19), (16,18)]) # For example: I add two outgoing ties from node 16"
   ]
  },
  {
   "cell_type": "code",
   "execution_count": null,
   "metadata": {},
   "outputs": [],
   "source": [
    "#number of nodes and edges\n",
    "ELfriendG.number_of_nodes(), ELfriendG.number_of_edges()"
   ]
  },
  {
   "cell_type": "code",
   "execution_count": null,
   "metadata": {},
   "outputs": [],
   "source": [
    "print(ELfriendG.nodes())\n",
    "print(ELfriendG.edges())"
   ]
  },
  {
   "cell_type": "code",
   "execution_count": null,
   "metadata": {},
   "outputs": [],
   "source": [
    "#indegrees\n",
    "ELfriendG.in_degree()"
   ]
  },
  {
   "cell_type": "code",
   "execution_count": null,
   "metadata": {},
   "outputs": [],
   "source": [
    "#outdegrees\n",
    "ELfriendG.out_degree()"
   ]
  },
  {
   "cell_type": "code",
   "execution_count": null,
   "metadata": {},
   "outputs": [],
   "source": [
    "# Let's look at the changes this made for node 16\n",
    "ELfriendG.in_degree(16), ELfriendG.out_degree(16)"
   ]
  },
  {
   "cell_type": "code",
   "execution_count": null,
   "metadata": {},
   "outputs": [],
   "source": [
    "# Neighbors of node 16: predecessors\n",
    "list(ELfriendG.predecessors(16))"
   ]
  },
  {
   "cell_type": "markdown",
   "metadata": {},
   "source": [
    "As expected, node 16 has \"lost\" two predecessors."
   ]
  },
  {
   "cell_type": "code",
   "execution_count": null,
   "metadata": {},
   "outputs": [],
   "source": [
    "# Neighbors of node 16: successors\n",
    "list(ELfriendG.successors(16))"
   ]
  },
  {
   "cell_type": "markdown",
   "metadata": {},
   "source": [
    "As expected, node 16 now has two more successors (nodes 2 and 15)"
   ]
  },
  {
   "cell_type": "code",
   "execution_count": null,
   "metadata": {},
   "outputs": [],
   "source": [
    "# Plot ELfriendG modified\n",
    "nx.draw(ELfriendG)\n",
    "plt.show()"
   ]
  },
  {
   "cell_type": "markdown",
   "metadata": {},
   "source": [
    "### 2. ELcowork"
   ]
  },
  {
   "cell_type": "markdown",
   "metadata": {},
   "source": [
    "2a. Create graph; see its basic properties; view nodes; view edges; calculate degrees; view the neighbors of one node of your choice; plot graph."
   ]
  },
  {
   "cell_type": "code",
   "execution_count": null,
   "metadata": {},
   "outputs": [],
   "source": [
    "# Create undirected graph\n",
    "ELcoworkG = nx.read_edgelist('ELcowork_edgelist.txt', comments=\"node\", create_using=nx.Graph(), nodetype=int)\n",
    "\n",
    "# here, Cowork is UNDIRECTED (see data description document)\n",
    "# therefore, the right option to use is 'create_using=nx.Graph()' (or no option at all as this is the default)\n",
    "# in this case, there is no difference between in- and out-degrees\n",
    "# nor between predecessors and successors"
   ]
  },
  {
   "cell_type": "code",
   "execution_count": null,
   "metadata": {},
   "outputs": [],
   "source": [
    "#number of nodes and edges\n",
    "ELcoworkG.number_of_nodes(), ELcoworkG.number_of_edges()"
   ]
  },
  {
   "cell_type": "code",
   "execution_count": null,
   "metadata": {},
   "outputs": [],
   "source": [
    "#see basic properties\n",
    "print(ELcoworkG.nodes())\n",
    "print(ELcoworkG.edges())"
   ]
  },
  {
   "cell_type": "code",
   "execution_count": null,
   "metadata": {},
   "outputs": [],
   "source": [
    "# Degree\n",
    "ELcoworkG.degree()"
   ]
  },
  {
   "cell_type": "code",
   "execution_count": null,
   "metadata": {},
   "outputs": [],
   "source": [
    "# Let's choose a particular node, for example 22\n",
    "ELcoworkG.degree(22)"
   ]
  },
  {
   "cell_type": "code",
   "execution_count": null,
   "metadata": {},
   "outputs": [],
   "source": [
    "# Neighbors of node 22\n",
    "list(ELcoworkG.adj[22])"
   ]
  },
  {
   "cell_type": "code",
   "execution_count": null,
   "metadata": {},
   "outputs": [],
   "source": [
    "# Plot ELcoworkG\n",
    "nx.draw(ELcoworkG)\n",
    "plt.show()"
   ]
  },
  {
   "cell_type": "markdown",
   "metadata": {},
   "source": [
    "2b. Remove three nodes of your choice and re-do 2a."
   ]
  },
  {
   "cell_type": "code",
   "execution_count": null,
   "metadata": {},
   "outputs": [],
   "source": [
    "# Remove three nodes\n",
    "ELcoworkG.remove_nodes_from([2, 17, 71]) # All three are neighbours of node 22"
   ]
  },
  {
   "cell_type": "code",
   "execution_count": null,
   "metadata": {},
   "outputs": [],
   "source": [
    "#number of nodes and edges\n",
    "ELcoworkG.number_of_nodes(), ELcoworkG.number_of_edges()"
   ]
  },
  {
   "cell_type": "markdown",
   "metadata": {},
   "source": [
    "We removed three nodes (from 70 to 67 nodes).\n",
    "This automatically eliminated all edges involving those nodes."
   ]
  },
  {
   "cell_type": "code",
   "execution_count": null,
   "metadata": {},
   "outputs": [],
   "source": [
    "# See basic properties\n",
    "print(ELcoworkG.nodes())\n",
    "print(ELcoworkG.edges())"
   ]
  },
  {
   "cell_type": "code",
   "execution_count": null,
   "metadata": {},
   "outputs": [],
   "source": [
    "# Degree\n",
    "ELcoworkG.degree()"
   ]
  },
  {
   "cell_type": "code",
   "execution_count": null,
   "metadata": {},
   "outputs": [],
   "source": [
    "# Let's go back to node 22\n",
    "ELcoworkG.degree(22)"
   ]
  },
  {
   "cell_type": "markdown",
   "metadata": {},
   "source": [
    "As expected, node 22 has a lower degree as three of its neighbors have been removed."
   ]
  },
  {
   "cell_type": "code",
   "execution_count": null,
   "metadata": {},
   "outputs": [],
   "source": [
    "#neighbors of node 22\n",
    "list(ELcoworkG.adj[22])"
   ]
  },
  {
   "cell_type": "markdown",
   "metadata": {},
   "source": [
    "As expected, node 22 has lost neighbors 2, 17 and 71."
   ]
  },
  {
   "cell_type": "code",
   "execution_count": null,
   "metadata": {},
   "outputs": [],
   "source": [
    "# Plot ELcoworkG\n",
    "nx.draw(ELcoworkG)\n",
    "plt.show()"
   ]
  },
  {
   "cell_type": "code",
   "execution_count": null,
   "metadata": {},
   "outputs": [],
   "source": [
    "#### In preparation of today's class:\n",
    "\n",
    "## Why does the difference between Graph and DiGraph matter?\n",
    "\n",
    "# let's see how many edges ELcoworkG has:\n",
    "print(ELcoworkG.number_of_edges())\n",
    "\n",
    "# Now, let's repeat the calculation with a directed version of the cowork graph:\n",
    "ELcoworkG1 = nx.read_edgelist('ELcowork_edgelist.txt',comments=\"node\",create_using=nx.DiGraph(),nodetype=int)\n",
    "print(ELcoworkG1.number_of_edges())\n",
    "\n",
    "# what do you conclude?\n",
    "\n"
   ]
  },
  {
   "cell_type": "code",
   "execution_count": null,
   "metadata": {},
   "outputs": [],
   "source": [
    "#### Also in anticipation of today's class (notion of isolates):\n",
    "\n",
    "# How many nodes does ELfriendG have?\n",
    "print(ELfriendG.number_of_nodes())\n",
    "\n",
    "# And, ELcoworkG?\n",
    "print(ELcoworkG.number_of_nodes())\n",
    "\n",
    "# Why this difference?"
   ]
  },
  {
   "cell_type": "code",
   "execution_count": null,
   "metadata": {},
   "outputs": [],
   "source": []
  }
 ],
 "metadata": {
  "kernelspec": {
   "display_name": "Python 3 (ipykernel)",
   "language": "python",
   "name": "python3"
  },
  "language_info": {
   "codemirror_mode": {
    "name": "ipython",
    "version": 3
   },
   "file_extension": ".py",
   "mimetype": "text/x-python",
   "name": "python",
   "nbconvert_exporter": "python",
   "pygments_lexer": "ipython3",
   "version": "3.9.18"
  }
 },
 "nbformat": 4,
 "nbformat_minor": 4
}
